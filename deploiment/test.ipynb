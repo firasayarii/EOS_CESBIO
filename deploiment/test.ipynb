{
 "cells": [
  {
   "cell_type": "code",
   "execution_count": 1,
   "metadata": {},
   "outputs": [],
   "source": [
    "import pandas as pd"
   ]
  },
  {
   "cell_type": "code",
   "execution_count": 3,
   "metadata": {},
   "outputs": [
    {
     "data": {
      "text/html": [
       "<div>\n",
       "<style scoped>\n",
       "    .dataframe tbody tr th:only-of-type {\n",
       "        vertical-align: middle;\n",
       "    }\n",
       "\n",
       "    .dataframe tbody tr th {\n",
       "        vertical-align: top;\n",
       "    }\n",
       "\n",
       "    .dataframe thead th {\n",
       "        text-align: right;\n",
       "    }\n",
       "</style>\n",
       "<table border=\"1\" class=\"dataframe\">\n",
       "  <thead>\n",
       "    <tr style=\"text-align: right;\">\n",
       "      <th></th>\n",
       "      <th>Tg_scat</th>\n",
       "      <th>Tg_abs</th>\n",
       "      <th>Ta_abs</th>\n",
       "      <th>SSA</th>\n",
       "      <th>GOD</th>\n",
       "      <th>AOD</th>\n",
       "      <th>AODS</th>\n",
       "      <th>SZA</th>\n",
       "      <th>Z</th>\n",
       "      <th>R_scence</th>\n",
       "      <th>g1</th>\n",
       "      <th>Cos(SZA)</th>\n",
       "      <th>mu_g</th>\n",
       "      <th>mu_a</th>\n",
       "      <th>muprime_g</th>\n",
       "      <th>muprime_a</th>\n",
       "      <th>mprime_g</th>\n",
       "      <th>mprime_a</th>\n",
       "      <th>BOA_RT</th>\n",
       "      <th>alpha</th>\n",
       "    </tr>\n",
       "  </thead>\n",
       "  <tbody>\n",
       "    <tr>\n",
       "      <th>0</th>\n",
       "      <td>0.984234</td>\n",
       "      <td>0.967931</td>\n",
       "      <td>0.760961</td>\n",
       "      <td>0.595673</td>\n",
       "      <td>0.015892</td>\n",
       "      <td>0.402452</td>\n",
       "      <td>0.402452</td>\n",
       "      <td>81.357114</td>\n",
       "      <td>1137.064781</td>\n",
       "      <td>0.370253</td>\n",
       "      <td>0.946187</td>\n",
       "      <td>0.150275</td>\n",
       "      <td>408.015229</td>\n",
       "      <td>1836.068532</td>\n",
       "      <td>0.154730</td>\n",
       "      <td>0.151289</td>\n",
       "      <td>5.695816</td>\n",
       "      <td>3.743539</td>\n",
       "      <td>NaN</td>\n",
       "      <td>NaN</td>\n",
       "    </tr>\n",
       "    <tr>\n",
       "      <th>1</th>\n",
       "      <td>0.808703</td>\n",
       "      <td>0.502863</td>\n",
       "      <td>0.962999</td>\n",
       "      <td>0.754977</td>\n",
       "      <td>0.212324</td>\n",
       "      <td>0.116173</td>\n",
       "      <td>0.116173</td>\n",
       "      <td>69.669734</td>\n",
       "      <td>2695.217813</td>\n",
       "      <td>0.364243</td>\n",
       "      <td>0.910936</td>\n",
       "      <td>0.347431</td>\n",
       "      <td>408.188358</td>\n",
       "      <td>1836.847609</td>\n",
       "      <td>0.349206</td>\n",
       "      <td>0.347828</td>\n",
       "      <td>2.122562</td>\n",
       "      <td>0.747097</td>\n",
       "      <td>NaN</td>\n",
       "      <td>NaN</td>\n",
       "    </tr>\n",
       "    <tr>\n",
       "      <th>2</th>\n",
       "      <td>0.266592</td>\n",
       "      <td>0.973465</td>\n",
       "      <td>0.748812</td>\n",
       "      <td>0.580608</td>\n",
       "      <td>1.322036</td>\n",
       "      <td>0.400463</td>\n",
       "      <td>0.400463</td>\n",
       "      <td>17.550390</td>\n",
       "      <td>1081.897319</td>\n",
       "      <td>0.672173</td>\n",
       "      <td>0.896924</td>\n",
       "      <td>0.953452</td>\n",
       "      <td>408.009100</td>\n",
       "      <td>1836.040949</td>\n",
       "      <td>0.953519</td>\n",
       "      <td>0.953467</td>\n",
       "      <td>0.929959</td>\n",
       "      <td>0.610609</td>\n",
       "      <td>NaN</td>\n",
       "      <td>NaN</td>\n",
       "    </tr>\n",
       "    <tr>\n",
       "      <th>3</th>\n",
       "      <td>0.830782</td>\n",
       "      <td>0.963485</td>\n",
       "      <td>0.899421</td>\n",
       "      <td>0.270474</td>\n",
       "      <td>0.185388</td>\n",
       "      <td>0.039302</td>\n",
       "      <td>0.039302</td>\n",
       "      <td>44.256621</td>\n",
       "      <td>81.149965</td>\n",
       "      <td>0.775990</td>\n",
       "      <td>0.869940</td>\n",
       "      <td>0.716221</td>\n",
       "      <td>407.897906</td>\n",
       "      <td>1835.540575</td>\n",
       "      <td>0.716701</td>\n",
       "      <td>0.716328</td>\n",
       "      <td>1.382759</td>\n",
       "      <td>1.340499</td>\n",
       "      <td>NaN</td>\n",
       "      <td>NaN</td>\n",
       "    </tr>\n",
       "    <tr>\n",
       "      <th>4</th>\n",
       "      <td>0.600291</td>\n",
       "      <td>0.839312</td>\n",
       "      <td>0.707039</td>\n",
       "      <td>0.652968</td>\n",
       "      <td>0.510340</td>\n",
       "      <td>0.652287</td>\n",
       "      <td>0.652287</td>\n",
       "      <td>24.480144</td>\n",
       "      <td>932.892398</td>\n",
       "      <td>0.777209</td>\n",
       "      <td>0.878946</td>\n",
       "      <td>0.910105</td>\n",
       "      <td>407.992544</td>\n",
       "      <td>1835.966446</td>\n",
       "      <td>0.910238</td>\n",
       "      <td>0.910135</td>\n",
       "      <td>0.990440</td>\n",
       "      <td>0.689159</td>\n",
       "      <td>NaN</td>\n",
       "      <td>NaN</td>\n",
       "    </tr>\n",
       "  </tbody>\n",
       "</table>\n",
       "</div>"
      ],
      "text/plain": [
       "    Tg_scat    Tg_abs    Ta_abs       SSA       GOD       AOD      AODS  \\\n",
       "0  0.984234  0.967931  0.760961  0.595673  0.015892  0.402452  0.402452   \n",
       "1  0.808703  0.502863  0.962999  0.754977  0.212324  0.116173  0.116173   \n",
       "2  0.266592  0.973465  0.748812  0.580608  1.322036  0.400463  0.400463   \n",
       "3  0.830782  0.963485  0.899421  0.270474  0.185388  0.039302  0.039302   \n",
       "4  0.600291  0.839312  0.707039  0.652968  0.510340  0.652287  0.652287   \n",
       "\n",
       "         SZA            Z  R_scence        g1  Cos(SZA)        mu_g  \\\n",
       "0  81.357114  1137.064781  0.370253  0.946187  0.150275  408.015229   \n",
       "1  69.669734  2695.217813  0.364243  0.910936  0.347431  408.188358   \n",
       "2  17.550390  1081.897319  0.672173  0.896924  0.953452  408.009100   \n",
       "3  44.256621    81.149965  0.775990  0.869940  0.716221  407.897906   \n",
       "4  24.480144   932.892398  0.777209  0.878946  0.910105  407.992544   \n",
       "\n",
       "          mu_a  muprime_g  muprime_a  mprime_g  mprime_a  BOA_RT  alpha  \n",
       "0  1836.068532   0.154730   0.151289  5.695816  3.743539     NaN    NaN  \n",
       "1  1836.847609   0.349206   0.347828  2.122562  0.747097     NaN    NaN  \n",
       "2  1836.040949   0.953519   0.953467  0.929959  0.610609     NaN    NaN  \n",
       "3  1835.540575   0.716701   0.716328  1.382759  1.340499     NaN    NaN  \n",
       "4  1835.966446   0.910238   0.910135  0.990440  0.689159     NaN    NaN  "
      ]
     },
     "execution_count": 3,
     "metadata": {},
     "output_type": "execute_result"
    }
   ],
   "source": [
    "df=pd.read_csv('/home/fayari/TEST/data_collection/data.csv')\n",
    "df.head()"
   ]
  },
  {
   "cell_type": "code",
   "execution_count": 4,
   "metadata": {},
   "outputs": [
    {
     "data": {
      "text/plain": [
       "Index(['Tg_scat', 'Tg_abs', 'Ta_abs', 'SSA', 'GOD', 'AOD', 'AODS', 'SZA', 'Z',\n",
       "       'R_scence', 'g1', 'Cos(SZA)', 'mu_g', 'mu_a', 'muprime_g', 'muprime_a',\n",
       "       'mprime_g', 'mprime_a', 'BOA_RT', 'alpha'],\n",
       "      dtype='object')"
      ]
     },
     "execution_count": 4,
     "metadata": {},
     "output_type": "execute_result"
    }
   ],
   "source": [
    "df.columns"
   ]
  },
  {
   "cell_type": "code",
   "execution_count": 5,
   "metadata": {},
   "outputs": [
    {
     "data": {
      "text/plain": [
       "0         0.402452\n",
       "1         0.116173\n",
       "2         0.400463\n",
       "3         0.039302\n",
       "4         0.652287\n",
       "            ...   \n",
       "377995    0.214810\n",
       "377996    0.608888\n",
       "377997    0.694040\n",
       "377998    0.103640\n",
       "377999    0.587625\n",
       "Name: AODS, Length: 378000, dtype: float64"
      ]
     },
     "execution_count": 5,
     "metadata": {},
     "output_type": "execute_result"
    }
   ],
   "source": [
    "df['AODS']"
   ]
  },
  {
   "cell_type": "code",
   "execution_count": 6,
   "metadata": {},
   "outputs": [
    {
     "data": {
      "text/plain": [
       "0         0.402452\n",
       "1         0.116173\n",
       "2         0.400463\n",
       "3         0.039302\n",
       "4         0.652287\n",
       "            ...   \n",
       "377995    0.214810\n",
       "377996    0.608888\n",
       "377997    0.694040\n",
       "377998    0.103640\n",
       "377999    0.587625\n",
       "Name: AOD, Length: 378000, dtype: float64"
      ]
     },
     "execution_count": 6,
     "metadata": {},
     "output_type": "execute_result"
    }
   ],
   "source": [
    "df['AOD']"
   ]
  },
  {
   "cell_type": "code",
   "execution_count": 9,
   "metadata": {},
   "outputs": [
    {
     "data": {
      "text/plain": [
       "999.9999996158948"
      ]
     },
     "execution_count": 9,
     "metadata": {},
     "output_type": "execute_result"
    }
   ],
   "source": [
    "import math\n",
    "1023.93019083937*math.cos(math.radians(12.4115211))"
   ]
  },
  {
   "cell_type": "code",
   "execution_count": 18,
   "metadata": {},
   "outputs": [],
   "source": [
    "import math\n",
    "def EXTRACT_TOA(path,SZA):\n",
    "    with open(path, 'r') as file:\n",
    "        for line in file:  # ← ici, on lit ligne par ligne\n",
    "            if line.strip().startswith(\"phase.band0.spectral.TOA:\"):\n",
    "                valeur = float(line.strip().split(\":\")[1])\n",
    "                return valeur*math.cos(math.radians(SZA))\n",
    "    return None  "
   ]
  },
  {
   "cell_type": "code",
   "execution_count": 19,
   "metadata": {},
   "outputs": [
    {
     "name": "stdout",
     "output_type": "stream",
     "text": [
      "999.9999996158948\n"
     ]
    }
   ],
   "source": [
    "print(EXTRACT_TOA('/home/fayari/DART1424/user_data/simulations/Analytic/output/simulation.properties.txt',12.4115211))"
   ]
  },
  {
   "cell_type": "code",
   "execution_count": 20,
   "metadata": {},
   "outputs": [],
   "source": [
    "def edit_phase_scn(filepath, parameter, new_value):\n",
    "    with open(filepath, 'r') as file:\n",
    "        lines = file.readlines()\n",
    "\n",
    "    with open(filepath, 'w') as file:\n",
    "        for line in lines:\n",
    "            if line.strip().startswith(parameter + \"=\"):\n",
    "                file.write(f\"{parameter}={new_value}\\n\")\n",
    "            else:\n",
    "                file.write(line)"
   ]
  },
  {
   "cell_type": "code",
   "execution_count": 22,
   "metadata": {},
   "outputs": [],
   "source": [
    "edit_phase_scn('/home/fayari/DART1424/user_data/simulations/Analytic/output/phase.scn', 'scene.lights.sky.color', 160)"
   ]
  },
  {
   "cell_type": "code",
   "execution_count": 23,
   "metadata": {},
   "outputs": [],
   "source": [
    "def EXTRACT_TOA(path,SZA):\n",
    "    with open(path, 'r') as file:\n",
    "        for line in file:  # ← ici, on lit ligne par ligne\n",
    "            if line.strip().startswith(\"phase.band0.spectral.TOA:\"):\n",
    "                valeur = float(line.strip().split(\":\")[1])\n",
    "                return valeur*math.cos(math.radians(SZA))\n",
    "    return None  "
   ]
  },
  {
   "cell_type": "code",
   "execution_count": 24,
   "metadata": {},
   "outputs": [
    {
     "data": {
      "text/plain": [
       "999.9999996158948"
      ]
     },
     "execution_count": 24,
     "metadata": {},
     "output_type": "execute_result"
    }
   ],
   "source": [
    "EXTRACT_TOA('/home/fayari/DART1424/user_data/simulations/Analytic/output/simulation.properties.txt',12.4115211)"
   ]
  },
  {
   "cell_type": "code",
   "execution_count": 25,
   "metadata": {},
   "outputs": [],
   "source": [
    "def EXTRACT_E_direct(path,SZA):\n",
    "    with open(path, 'r') as file:\n",
    "        for line in file:  # ← ici, on lit ligne par ligne\n",
    "            if line.strip().startswith(\"scene.lights.sunlight.color=\"):\n",
    "                valeur = float(line.strip().split(\"=\")[1])\n",
    "                return valeur*math.cos(math.radians(SZA))\n",
    "    return None  "
   ]
  },
  {
   "cell_type": "code",
   "execution_count": 26,
   "metadata": {},
   "outputs": [
    {
     "data": {
      "text/plain": [
       "325.3737440820283"
      ]
     },
     "execution_count": 26,
     "metadata": {},
     "output_type": "execute_result"
    }
   ],
   "source": [
    "EXTRACT_E_direct('/home/fayari/DART1424/user_data/simulations/Analytic/output/phase.scn',12.4115211)"
   ]
  },
  {
   "cell_type": "code",
   "execution_count": 4,
   "metadata": {},
   "outputs": [],
   "source": [
    "def calculate_alpha(thetha,z,Tg_abs,Tg_scat,optical_depth,albedo,n):   \n",
    "    def EXTRACT_BOA_RT(n):\n",
    "        with open(f'/home/fayari/DART1424/user_data/simulations/RTM_reference{n}/output/dart.txt','r') as file :\n",
    "            boa_values = []\n",
    "            for line in file :\n",
    "                if \"BOA Total\" in line:\n",
    "                    value = float(line.split(\"*\")[-1].strip())  \n",
    "                    boa_values.append(value)\n",
    "        return boa_values[-1]  \n",
    "    def muprime(z,h,µ):\n",
    "        RAYON_TERRESTRE=6371\n",
    "        eta = (RAYON_TERRESTRE*1000 + z) / h\n",
    "        root = (eta*µ)**2  + 2 * eta + 1\n",
    "        sum = (root)**0.5 - eta * µ\n",
    "        if sum > 0 :\n",
    "            return 1/sum\n",
    "        return 1 \n",
    "    BOA_RT=EXTRACT_BOA_RT(n)\n",
    "    E_TOA=1000\n",
    "    Ha=2000\n",
    "    Hg=9000\n",
    "    mu_a=(3671*1000+z)/Ha\n",
    "    mu_g=(3671*1000+z)/Hg\n",
    "    angle_rad = math.radians(thetha)\n",
    "    µ=math.cos(angle_rad)  \n",
    "    Y_a=muprime(z,Ha,µ)\n",
    "    Y_g=muprime(z,Hg,µ)\n",
    "    Ma=math.exp(-z/Ha)/Y_a\n",
    "    Mg=math.exp(-z/Hg)/Y_g\n",
    "    delta_a_scat=optical_depth*albedo\n",
    "    delta_g_scat=-math.log(Tg_scat)\n",
    "    Ta_abs=math.exp(-optical_depth*(1-albedo))\n",
    "    numerator= (E_TOA/BOA_RT)*(Tg_abs**(Mg))*(Ta_abs**(Ma))-1\n",
    "    denominator=(delta_g_scat * Mg) + (delta_a_scat * Ma) / 3\n",
    "    alpha= numerator / denominator\n",
    "    return alpha"
   ]
  },
  {
   "cell_type": "code",
   "execution_count": 1,
   "metadata": {},
   "outputs": [],
   "source": [
    "from functions import *"
   ]
  },
  {
   "cell_type": "code",
   "execution_count": 9,
   "metadata": {},
   "outputs": [],
   "source": [
    "SZA=get_SZA('/home/fayari/DART1425/user_data/simulations/RTM_reference0/input/directions.xml')\n",
    "z=get_altitude('/home/fayari/DART1425/user_data/simulations/RTM_reference0/input/maket.xml')\n",
    "reflectane=get_reflectance('/home/fayari/DART1425/user_data/simulations/RTM_reference0/input/coeff_diff.xml')\n",
    "tg_scat, tg_abs, optical_depth, albedo, a=atmosphere_param('/home/fayari/DART1425/user_data/simulations/RTM_reference0/output/atmosphere.nc')"
   ]
  },
  {
   "cell_type": "code",
   "execution_count": 10,
   "metadata": {},
   "outputs": [
    {
     "data": {
      "text/plain": [
       "0.1783139950837795"
      ]
     },
     "execution_count": 10,
     "metadata": {},
     "output_type": "execute_result"
    }
   ],
   "source": [
    "calculate_alpha(SZA,z,tg_abs,tg_scat,optical_depth,albedo,0)"
   ]
  },
  {
   "cell_type": "code",
   "execution_count": 11,
   "metadata": {},
   "outputs": [
    {
     "data": {
      "text/plain": [
       "908.6951232599898"
      ]
     },
     "execution_count": 11,
     "metadata": {},
     "output_type": "execute_result"
    }
   ],
   "source": [
    "calculate_BOA_TOTAL(0.1783139950837795,SZA,z,tg_abs,tg_scat,optical_depth,albedo,999.999918)"
   ]
  },
  {
   "cell_type": "code",
   "execution_count": 12,
   "metadata": {},
   "outputs": [
    {
     "data": {
      "text/plain": [
       "930.4404472705246"
      ]
     },
     "execution_count": 12,
     "metadata": {},
     "output_type": "execute_result"
    }
   ],
   "source": [
    "908.6951977729962/math.cos(math.radians(SZA))"
   ]
  },
  {
   "cell_type": "code",
   "execution_count": null,
   "metadata": {},
   "outputs": [],
   "source": [
    "from netCDF4 import Dataset\n",
    "def atmosphere_param(atmosphere_path):\n",
    "    with Dataset(atmosphere_path, \"r\") as nc_file:\n",
    "        tg_scat = nc_file.groups['Transmittance']['All_gas_transmittance'][0][0]\n",
    "        tg_abs = np.prod(nc_file.groups['Transmittance']['All_gas_transmittance'][0][1:15])\n",
    "        optical_depth = nc_file.groups['Transmittance']['Aerosols optical_depth'][0][0]\n",
    "        albedo = nc_file.groups['Transmittance']['Aerosol_single_scattering albedo'][0][0]\n",
    "        a = nc_file.groups['Henyey Greenstein']['a'][0][0]\n",
    "        g1 = nc_file.groups['Henyey Greenstein']['g1'][0][0]\n",
    "        g2 = nc_file.groups['Henyey Greenstein']['g2'][0][0]\n",
    "    return tg_scat, tg_abs, optical_depth, albedo, a"
   ]
  },
  {
   "cell_type": "code",
   "execution_count": 1,
   "metadata": {},
   "outputs": [
    {
     "data": {
      "text/plain": [
       "<class 'netCDF4.Dataset'>\n",
       "root group (NETCDF4 data model, file format HDF5):\n",
       "    Already_processed_by_phase: 1\n",
       "    With_or_without_database: 0\n",
       "    Height_of_sensor: 3000\n",
       "    Aerosol_scale_factor: 1000.0\n",
       "    Total_aerosols_optical_depth: 0.202\n",
       "    Aerosol_albedo: 0.947\n",
       "    Henyey_Greenstein_g1: 0.79\n",
       "    Henyey_Greenstein_g2: 0.4\n",
       "    Henyey_Greenstein_a: 0.95\n",
       "    Gas_optical_depth_scattering: 0.049\n",
       "    Gas_scale_factor: 8400.0\n",
       "    Transmittance_of_gases_absorb: 0.75\n",
       "    dimensions(sizes): Altitude_for_temperature_pressure(33), Row_altitude_temperature_pressure(3)\n",
       "    variables(dimensions): \n",
       "    groups: Vertical distribution"
      ]
     },
     "execution_count": 1,
     "metadata": {},
     "output_type": "execute_result"
    }
   ],
   "source": [
    "from netCDF4 import Dataset\n",
    "nc_file=Dataset('/home/fayari/DART1425/user_data/simulations/Analytic/output/atmosphere.nc','r')\n",
    "nc_file"
   ]
  },
  {
   "cell_type": "code",
   "execution_count": null,
   "metadata": {},
   "outputs": [],
   "source": []
  },
  {
   "cell_type": "code",
   "execution_count": null,
   "metadata": {},
   "outputs": [
    {
     "data": {
      "text/plain": [
       "0.79"
      ]
     },
     "execution_count": 7,
     "metadata": {},
     "output_type": "execute_result"
    }
   ],
   "source": [
    "from netCDF4 import Dataset\n",
    "def atmosphere_param(atmosphere_path):\n",
    "    with Dataset(atmosphere_path, \"r\") as nc_file:\n",
    "        GOD = nc_file.getncattr('Gas_optical_depth_scattering')\n",
    "        tg_scat=math.exp(-GOD)\n",
    "        tg_abs = nc_file.getncattr('Transmittance_of_gases_absorb')\n",
    "        optical_depth = nc_file.getncattr('Total_aerosols_optical_depth')\n",
    "        albedo = nc_file.getncattr('Aerosol_albedo')\n",
    "        a = nc_file.getncattr('Henyey_Greenstein_a')\n",
    "        g1 = nc_file.getncattr('Henyey_Greenstein_g1')\n",
    "        g2 = nc_file.getncattr('Henyey_Greenstein_g2')\n",
    "    return tg_scat, tg_abs, optical_depth, albedo, a"
   ]
  },
  {
   "cell_type": "code",
   "execution_count": 8,
   "metadata": {},
   "outputs": [
    {
     "data": {
      "text/html": [
       "<div>\n",
       "<style scoped>\n",
       "    .dataframe tbody tr th:only-of-type {\n",
       "        vertical-align: middle;\n",
       "    }\n",
       "\n",
       "    .dataframe tbody tr th {\n",
       "        vertical-align: top;\n",
       "    }\n",
       "\n",
       "    .dataframe thead th {\n",
       "        text-align: right;\n",
       "    }\n",
       "</style>\n",
       "<table border=\"1\" class=\"dataframe\">\n",
       "  <thead>\n",
       "    <tr style=\"text-align: right;\">\n",
       "      <th></th>\n",
       "      <th>lambda</th>\n",
       "      <th>Tg_scat</th>\n",
       "      <th>Tg_abs</th>\n",
       "      <th>albedo</th>\n",
       "      <th>aerosol_optical_depth</th>\n",
       "      <th>Zenith_angle</th>\n",
       "      <th>Z</th>\n",
       "      <th>Reflectance</th>\n",
       "      <th>a</th>\n",
       "      <th>g1</th>\n",
       "      <th>g2</th>\n",
       "      <th>BOA_RT</th>\n",
       "      <th>alpha</th>\n",
       "    </tr>\n",
       "  </thead>\n",
       "  <tbody>\n",
       "    <tr>\n",
       "      <th>0</th>\n",
       "      <td>0.4</td>\n",
       "      <td>0.6974</td>\n",
       "      <td>0.996201</td>\n",
       "      <td>0.952949</td>\n",
       "      <td>0.44457</td>\n",
       "      <td>0.0</td>\n",
       "      <td>0.0</td>\n",
       "      <td>0.1</td>\n",
       "      <td>1.0</td>\n",
       "      <td>0.899439</td>\n",
       "      <td>0.0</td>\n",
       "      <td>828.253839</td>\n",
       "      <td>0.354606</td>\n",
       "    </tr>\n",
       "    <tr>\n",
       "      <th>1</th>\n",
       "      <td>0.4</td>\n",
       "      <td>0.6974</td>\n",
       "      <td>0.996201</td>\n",
       "      <td>0.952949</td>\n",
       "      <td>0.44457</td>\n",
       "      <td>0.0</td>\n",
       "      <td>500.0</td>\n",
       "      <td>0.1</td>\n",
       "      <td>1.0</td>\n",
       "      <td>0.899439</td>\n",
       "      <td>0.0</td>\n",
       "      <td>844.606610</td>\n",
       "      <td>0.356321</td>\n",
       "    </tr>\n",
       "    <tr>\n",
       "      <th>2</th>\n",
       "      <td>0.4</td>\n",
       "      <td>0.6974</td>\n",
       "      <td>0.996201</td>\n",
       "      <td>0.952949</td>\n",
       "      <td>0.44457</td>\n",
       "      <td>0.0</td>\n",
       "      <td>1000.0</td>\n",
       "      <td>0.1</td>\n",
       "      <td>1.0</td>\n",
       "      <td>0.899439</td>\n",
       "      <td>0.0</td>\n",
       "      <td>858.435498</td>\n",
       "      <td>0.358480</td>\n",
       "    </tr>\n",
       "    <tr>\n",
       "      <th>3</th>\n",
       "      <td>0.4</td>\n",
       "      <td>0.6974</td>\n",
       "      <td>0.996201</td>\n",
       "      <td>0.952949</td>\n",
       "      <td>0.44457</td>\n",
       "      <td>0.0</td>\n",
       "      <td>1500.0</td>\n",
       "      <td>0.1</td>\n",
       "      <td>1.0</td>\n",
       "      <td>0.899439</td>\n",
       "      <td>0.0</td>\n",
       "      <td>870.475820</td>\n",
       "      <td>0.360011</td>\n",
       "    </tr>\n",
       "    <tr>\n",
       "      <th>4</th>\n",
       "      <td>0.4</td>\n",
       "      <td>0.6974</td>\n",
       "      <td>0.996201</td>\n",
       "      <td>0.952949</td>\n",
       "      <td>0.44457</td>\n",
       "      <td>0.0</td>\n",
       "      <td>2000.0</td>\n",
       "      <td>0.1</td>\n",
       "      <td>1.0</td>\n",
       "      <td>0.899439</td>\n",
       "      <td>0.0</td>\n",
       "      <td>881.099162</td>\n",
       "      <td>0.360666</td>\n",
       "    </tr>\n",
       "  </tbody>\n",
       "</table>\n",
       "</div>"
      ],
      "text/plain": [
       "   lambda  Tg_scat    Tg_abs    albedo  aerosol_optical_depth  Zenith_angle  \\\n",
       "0     0.4   0.6974  0.996201  0.952949                0.44457           0.0   \n",
       "1     0.4   0.6974  0.996201  0.952949                0.44457           0.0   \n",
       "2     0.4   0.6974  0.996201  0.952949                0.44457           0.0   \n",
       "3     0.4   0.6974  0.996201  0.952949                0.44457           0.0   \n",
       "4     0.4   0.6974  0.996201  0.952949                0.44457           0.0   \n",
       "\n",
       "        Z  Reflectance    a        g1   g2      BOA_RT     alpha  \n",
       "0     0.0          0.1  1.0  0.899439  0.0  828.253839  0.354606  \n",
       "1   500.0          0.1  1.0  0.899439  0.0  844.606610  0.356321  \n",
       "2  1000.0          0.1  1.0  0.899439  0.0  858.435498  0.358480  \n",
       "3  1500.0          0.1  1.0  0.899439  0.0  870.475820  0.360011  \n",
       "4  2000.0          0.1  1.0  0.899439  0.0  881.099162  0.360666  "
      ]
     },
     "execution_count": 8,
     "metadata": {},
     "output_type": "execute_result"
    }
   ],
   "source": [
    "import pandas as pd\n",
    "d=pd.read_csv('/home/fayari/TEST/data_collection/dataset.csv')\n",
    "d.head()"
   ]
  },
  {
   "cell_type": "code",
   "execution_count": 11,
   "metadata": {},
   "outputs": [
    {
     "data": {
      "text/plain": [
       "0.36039614474058623"
      ]
     },
     "execution_count": 11,
     "metadata": {},
     "output_type": "execute_result"
    }
   ],
   "source": [
    "import math \n",
    "-math.log(0.6974)"
   ]
  },
  {
   "cell_type": "code",
   "execution_count": 12,
   "metadata": {},
   "outputs": [],
   "source": [
    "atmosphere_nc='/home/fayari/DART1425/user_data/simulations/Analytic/output/atmosphere.nc'\n",
    "atmosphere_xml='/home/fayari/DART1425/user_data/simulations/Analytic/input/atmosphere.xml'"
   ]
  },
  {
   "cell_type": "code",
   "execution_count": 76,
   "metadata": {},
   "outputs": [],
   "source": [
    "import xml.etree.ElementTree as ET\n",
    "import numpy as np \n",
    "def atmosphere_param(atmosphere_nc,atmosphere_xml):\n",
    "    tree = ET.parse(atmosphere_xml)  # Remplace 'votre_fichier.xml' par le nom réel\n",
    "    root = tree.getroot()\n",
    "    l=[]\n",
    "    # Trouver l'élément <IsAtmosphere> et lire l'attribut 'typeOfAtmosphere'\n",
    "    is_atmosphere_elem = root.find('.//IsAtmosphere')  # Recherche récursive\n",
    "    type_value = int(is_atmosphere_elem.get('typeOfAtmosphere'))\n",
    "    if type_value == 1 :\n",
    "\n",
    "        with Dataset(atmosphere_nc, \"r\") as nc_file:\n",
    "            spectral_number=nc_file.groups['Transmittance']['All_gas_transmittance'].shape[0]\n",
    "            for i in range(spectral_number):\n",
    "                tg_scat = nc_file.groups['Transmittance']['All_gas_transmittance'][i][0]\n",
    "                tg_abs = np.prod(nc_file.groups['Transmittance']['All_gas_transmittance'][i][1:15])\n",
    "                optical_depth = nc_file.groups['Transmittance']['Aerosols optical_depth'][i][0]\n",
    "                albedo = nc_file.groups['Transmittance']['Aerosol_single_scattering albedo'][i][0]\n",
    "                a = nc_file.groups['Henyey Greenstein']['a'][i][0]\n",
    "                g1 = nc_file.groups['Henyey Greenstein']['g1'][i][0]\n",
    "                g2 = nc_file.groups['Henyey Greenstein']['g2'][i][0]\n",
    "                l.append([tg_scat, tg_abs, optical_depth, albedo, a, g1])\n",
    "            return l\n",
    "    else :\n",
    "\n",
    "        with Dataset(atmosphere_nc, \"r\") as nc_file:\n",
    "            GOD = nc_file.getncattr('Gas_optical_depth_scattering')\n",
    "            tg_scat=math.exp(-GOD)\n",
    "            tg_abs = nc_file.getncattr('Transmittance_of_gases_absorb')\n",
    "            optical_depth = nc_file.getncattr('Total_aerosols_optical_depth')\n",
    "            albedo = nc_file.getncattr('Aerosol_albedo')\n",
    "            a = nc_file.getncattr('Henyey_Greenstein_a')\n",
    "            g1 = nc_file.getncattr('Henyey_Greenstein_g1')\n",
    "            g2 = nc_file.getncattr('Henyey_Greenstein_g2')\n",
    "            l.append([tg_scat, tg_abs, optical_depth, albedo, a, g1])\n",
    "            return l"
   ]
  },
  {
   "cell_type": "code",
   "execution_count": 83,
   "metadata": {},
   "outputs": [],
   "source": [
    "tg_scat, tg_abs, optical_depth, albedo, a, g1 =atmosphere_param(atmosphere_nc,atmosphere_xml)[0]"
   ]
  },
  {
   "cell_type": "code",
   "execution_count": 84,
   "metadata": {},
   "outputs": [
    {
     "data": {
      "text/plain": [
       "(0.6974,\n",
       " 0.9962010699299999,\n",
       " 0.444569827989,\n",
       " 0.952949464992,\n",
       " 1.0,\n",
       " 0.8994393507592)"
      ]
     },
     "execution_count": 84,
     "metadata": {},
     "output_type": "execute_result"
    }
   ],
   "source": [
    "tg_scat, tg_abs, optical_depth, albedo, a, g1"
   ]
  },
  {
   "cell_type": "code",
   "execution_count": 97,
   "metadata": {},
   "outputs": [],
   "source": [
    "def calculate_BOA_TOTAL(SZA,Z,alpha,l,E_TOA):   \n",
    "    def muprime(z,h,µ):\n",
    "        RAYON_TERRESTRE=6371\n",
    "        eta = (RAYON_TERRESTRE*1000 + z) / h\n",
    "        root = (eta*µ)**2  + 2 * eta + 1\n",
    "        sum = (root)**0.5 - eta * µ\n",
    "        if sum > 0 :\n",
    "            return 1/sum\n",
    "        return 1 \n",
    "    BOA=[]\n",
    "    for i in l :\n",
    "        tg_scat, tg_abs, optical_depth, albedo, a, g1 = i\n",
    "        Ha=2000\n",
    "        Hg=9000\n",
    "        mu_a=(3671*1000+Z)/Ha\n",
    "        mu_g=(3671*1000+Z)/Hg\n",
    "        angle_rad = math.radians(SZA)\n",
    "        µ=math.cos(angle_rad)  \n",
    "        Y_a=muprime(Z,Ha,µ)\n",
    "        Y_g=muprime(Z,Hg,µ)\n",
    "        Ma=math.exp(-Z/Ha)/Y_a\n",
    "        Mg=math.exp(-Z/Hg)/Y_g\n",
    "        delta_a_scat=optical_depth*albedo\n",
    "        delta_g_scat=-math.log(tg_scat)\n",
    "        Ta_abs=math.exp(-optical_depth*(1-albedo))\n",
    "        numerator= E_TOA*(tg_abs**Mg)*(Ta_abs**Ma)\n",
    "        denominator=1+alpha*delta_g_scat*Mg+(alpha*(1/3)*delta_a_scat)*Ma\n",
    "        BOA_i= numerator / denominator\n",
    "        BOA.append(BOA_i)\n",
    "    return BOA\n"
   ]
  },
  {
   "cell_type": "code",
   "execution_count": 91,
   "metadata": {},
   "outputs": [],
   "source": [
    "def EXTRACT_E_direct(path,SZA):\n",
    "    with open(path, 'r') as file:\n",
    "        for line in file:  # ← ici, on lit ligne par ligne\n",
    "            if line.strip().startswith(\"scene.lights.sunlight.color=\"):\n",
    "                valeur_str = line.strip().split(\"=\")[1]\n",
    "                return [ float(val)*math.cos(math.radians(SZA)) for val in valeur_str.split() ]\n",
    "    return None "
   ]
  },
  {
   "cell_type": "code",
   "execution_count": 104,
   "metadata": {},
   "outputs": [
    {
     "data": {
      "text/plain": [
       "[445.405, 662.163, 599.33]"
      ]
     },
     "execution_count": 104,
     "metadata": {},
     "output_type": "execute_result"
    }
   ],
   "source": [
    "E_direct=EXTRACT_E_direct('/home/fayari/DART1425/user_data/simulations/Analytic/output/phase.scn',0)\n",
    "E_direct"
   ]
  },
  {
   "cell_type": "code",
   "execution_count": 105,
   "metadata": {},
   "outputs": [
    {
     "data": {
      "text/plain": [
       "[828.2538704116978, 883.5052019768608, 890.0740905044623]"
      ]
     },
     "execution_count": 105,
     "metadata": {},
     "output_type": "execute_result"
    }
   ],
   "source": [
    "BOA_TOTAL=calculate_BOA_TOTAL(0,0,0.354606,atmosphere_param(atmosphere_nc,atmosphere_xml),1000) \n",
    "BOA_TOTAL"
   ]
  },
  {
   "cell_type": "code",
   "execution_count": 106,
   "metadata": {},
   "outputs": [
    {
     "data": {
      "text/plain": [
       "[[0.6974,\n",
       "  0.9962010699299999,\n",
       "  0.444569827989,\n",
       "  0.952949464992,\n",
       "  1.0,\n",
       "  0.8994393507592],\n",
       " [0.9342,\n",
       "  0.9481034047393616,\n",
       "  0.290887203401,\n",
       "  0.946995768297,\n",
       "  1.0,\n",
       "  0.9019767360860714],\n",
       " [0.8663999999999998,\n",
       "  0.9882108890279999,\n",
       "  0.356674943939,\n",
       "  0.950786676928,\n",
       "  1.0,\n",
       "  0.8828255966164]]"
      ]
     },
     "execution_count": 106,
     "metadata": {},
     "output_type": "execute_result"
    }
   ],
   "source": [
    "atmosphere_param(atmosphere_nc,atmosphere_xml)"
   ]
  },
  {
   "cell_type": "code",
   "execution_count": 107,
   "metadata": {},
   "outputs": [
    {
     "data": {
      "text/plain": [
       "[382.8488704116978, 221.3422019768608, 290.7440905044623]"
      ]
     },
     "execution_count": 107,
     "metadata": {},
     "output_type": "execute_result"
    }
   ],
   "source": [
    "if len(BOA_TOTAL)==len(E_direct) :\n",
    "    E_diffus=[i-j for i,j in zip(BOA_TOTAL,E_direct)]\n",
    "else :\n",
    "    E_diffus=[BOA_TOTAL[0]-i for i in E_direct]\n",
    "\n",
    "E_diffus"
   ]
  },
  {
   "cell_type": "code",
   "execution_count": 24,
   "metadata": {},
   "outputs": [
    {
     "name": "stdout",
     "output_type": "stream",
     "text": [
      "_MKT2_\n",
      "lambertian0\n",
      "0.09378698428\n",
      "\n"
     ]
    }
   ],
   "source": [
    "import re\n",
    "\n",
    "# Chemin vers le fichier .scn\n",
    "file_path = \"/home/fayari/DART1425/user_data/simulations/tes__reflectance/output/maket.scn\"\n",
    "\n",
    "# Regex pour capturer la ligne recherchée\n",
    "pattern_id = re.compile(r\"scene\\.objects\\.object[\\d_\\-]+\\.dartNameId=fg0\")\n",
    "with open(file_path, \"r\", encoding=\"utf-8\") as file:\n",
    "    lines = file.readlines()\n",
    "for i, line in enumerate(lines):\n",
    "    if pattern_id.search(line):\n",
    "        break\n",
    "target_line = lines[i + 4].strip()\n",
    "value = target_line.split('=', 1)[1]\n",
    "print(value)\n",
    "pattern_ref = re.compile(fr\"scene\\.materials\\.{re.escape(value)}\\.ref=\")\n",
    "for i, line in enumerate(lines):\n",
    "    if pattern_ref.search(line):\n",
    "        break\n",
    "ref = line.split('=', 1)[1]\n",
    "ref = ref.strip()\n",
    "print(ref)\n",
    "phase_path='phase.scn'\n",
    "pattern_value=re.compile(fr\"scene\\.materials\\.{re.escape(ref)}\\.kd=(.+)\")\n",
    "with open(phase_path, \"r\", encoding=\"utf-8\") as file:\n",
    "    lines = file.readlines()\n",
    "for i, line in enumerate(lines):\n",
    "    if pattern_value.search(line):\n",
    "        reflectance_value = line.split('=', 1)[1]\n",
    "        break\n",
    "print(reflectance_value)"
   ]
  },
  {
   "cell_type": "code",
   "execution_count": 41,
   "metadata": {},
   "outputs": [],
   "source": [
    "import re\n",
    "def get_reflectance(macket_scn,phase_scn):\n",
    "    pattern_id = re.compile(r\"scene\\.objects\\.object[\\d_\\-]+\\.dartNameId=fg0\")\n",
    "    with open(file_path, \"r\", encoding=\"utf-8\") as file:\n",
    "        lines = file.readlines()\n",
    "    for i, line in enumerate(lines):\n",
    "        if pattern_id.search(line):\n",
    "            break\n",
    "    target_line = lines[i + 4].strip()\n",
    "    value = target_line.split('=', 1)[1]\n",
    "    pattern_ref = re.compile(fr\"scene\\.materials\\.{re.escape(value)}\\.ref=\")\n",
    "    for i, line in enumerate(lines):\n",
    "        if pattern_ref.search(line):\n",
    "            break\n",
    "    ref = line.split('=', 1)[1]\n",
    "    ref = ref.strip()\n",
    "    pattern_value=re.compile(fr\"scene\\.materials\\.{re.escape(ref)}\\.kd=(.+)\")\n",
    "    with open(phase_scn, \"r\", encoding=\"utf-8\") as file:\n",
    "        lines = file.readlines()\n",
    "    for i, line in enumerate(lines):\n",
    "        if pattern_value.search(line):\n",
    "            values = line.split('=', 1)[1]\n",
    "            reflectance_values=values.split(' ')\n",
    "            reflectance_values=[float(i.strip()) for i in reflectance_values]\n",
    "            break\n",
    "    return reflectance_values"
   ]
  },
  {
   "cell_type": "code",
   "execution_count": 46,
   "metadata": {},
   "outputs": [
    {
     "data": {
      "text/plain": [
       "[0.2, 0.3, 0.8, 0.6]"
      ]
     },
     "execution_count": 46,
     "metadata": {},
     "output_type": "execute_result"
    }
   ],
   "source": [
    "macket = '/home/fayari/DART1425/user_data/simulations/Analytic/output/macket.scn'\n",
    "phase = '/home/fayari/DART1425/user_data/simulations/Analytic/output/phase.scn'\n",
    "get_reflectance(macket,phase)"
   ]
  },
  {
   "cell_type": "code",
   "execution_count": 49,
   "metadata": {},
   "outputs": [
    {
     "data": {
      "text/html": [
       "<div>\n",
       "<style scoped>\n",
       "    .dataframe tbody tr th:only-of-type {\n",
       "        vertical-align: middle;\n",
       "    }\n",
       "\n",
       "    .dataframe tbody tr th {\n",
       "        vertical-align: top;\n",
       "    }\n",
       "\n",
       "    .dataframe thead th {\n",
       "        text-align: right;\n",
       "    }\n",
       "</style>\n",
       "<table border=\"1\" class=\"dataframe\">\n",
       "  <thead>\n",
       "    <tr style=\"text-align: right;\">\n",
       "      <th></th>\n",
       "      <th>lambda</th>\n",
       "      <th>Tg_scat</th>\n",
       "      <th>Tg_abs</th>\n",
       "      <th>albedo</th>\n",
       "      <th>aerosol_optical_depth</th>\n",
       "      <th>Zenith_angle</th>\n",
       "      <th>Z</th>\n",
       "      <th>Reflectance</th>\n",
       "      <th>a</th>\n",
       "      <th>g1</th>\n",
       "      <th>g2</th>\n",
       "      <th>BOA_RT</th>\n",
       "      <th>alpha</th>\n",
       "    </tr>\n",
       "  </thead>\n",
       "  <tbody>\n",
       "    <tr>\n",
       "      <th>0</th>\n",
       "      <td>0.4</td>\n",
       "      <td>0.6974</td>\n",
       "      <td>0.996201</td>\n",
       "      <td>0.952949</td>\n",
       "      <td>0.44457</td>\n",
       "      <td>0.0</td>\n",
       "      <td>0.0</td>\n",
       "      <td>0.10</td>\n",
       "      <td>1.0</td>\n",
       "      <td>0.899439</td>\n",
       "      <td>0.0</td>\n",
       "      <td>828.253839</td>\n",
       "      <td>0.354606</td>\n",
       "    </tr>\n",
       "    <tr>\n",
       "      <th>1</th>\n",
       "      <td>0.4</td>\n",
       "      <td>0.6974</td>\n",
       "      <td>0.996201</td>\n",
       "      <td>0.952949</td>\n",
       "      <td>0.44457</td>\n",
       "      <td>0.0</td>\n",
       "      <td>500.0</td>\n",
       "      <td>0.10</td>\n",
       "      <td>1.0</td>\n",
       "      <td>0.899439</td>\n",
       "      <td>0.0</td>\n",
       "      <td>844.606610</td>\n",
       "      <td>0.356321</td>\n",
       "    </tr>\n",
       "    <tr>\n",
       "      <th>2</th>\n",
       "      <td>0.4</td>\n",
       "      <td>0.6974</td>\n",
       "      <td>0.996201</td>\n",
       "      <td>0.952949</td>\n",
       "      <td>0.44457</td>\n",
       "      <td>0.0</td>\n",
       "      <td>1000.0</td>\n",
       "      <td>0.10</td>\n",
       "      <td>1.0</td>\n",
       "      <td>0.899439</td>\n",
       "      <td>0.0</td>\n",
       "      <td>858.435498</td>\n",
       "      <td>0.358480</td>\n",
       "    </tr>\n",
       "    <tr>\n",
       "      <th>3</th>\n",
       "      <td>0.4</td>\n",
       "      <td>0.6974</td>\n",
       "      <td>0.996201</td>\n",
       "      <td>0.952949</td>\n",
       "      <td>0.44457</td>\n",
       "      <td>0.0</td>\n",
       "      <td>1500.0</td>\n",
       "      <td>0.10</td>\n",
       "      <td>1.0</td>\n",
       "      <td>0.899439</td>\n",
       "      <td>0.0</td>\n",
       "      <td>870.475820</td>\n",
       "      <td>0.360011</td>\n",
       "    </tr>\n",
       "    <tr>\n",
       "      <th>4</th>\n",
       "      <td>0.4</td>\n",
       "      <td>0.6974</td>\n",
       "      <td>0.996201</td>\n",
       "      <td>0.952949</td>\n",
       "      <td>0.44457</td>\n",
       "      <td>0.0</td>\n",
       "      <td>2000.0</td>\n",
       "      <td>0.10</td>\n",
       "      <td>1.0</td>\n",
       "      <td>0.899439</td>\n",
       "      <td>0.0</td>\n",
       "      <td>881.099162</td>\n",
       "      <td>0.360666</td>\n",
       "    </tr>\n",
       "    <tr>\n",
       "      <th>5</th>\n",
       "      <td>0.4</td>\n",
       "      <td>0.6974</td>\n",
       "      <td>0.996201</td>\n",
       "      <td>0.952949</td>\n",
       "      <td>0.44457</td>\n",
       "      <td>0.0</td>\n",
       "      <td>2500.0</td>\n",
       "      <td>0.10</td>\n",
       "      <td>1.0</td>\n",
       "      <td>0.899439</td>\n",
       "      <td>0.0</td>\n",
       "      <td>890.472436</td>\n",
       "      <td>0.360749</td>\n",
       "    </tr>\n",
       "    <tr>\n",
       "      <th>6</th>\n",
       "      <td>0.4</td>\n",
       "      <td>0.6974</td>\n",
       "      <td>0.996201</td>\n",
       "      <td>0.952949</td>\n",
       "      <td>0.44457</td>\n",
       "      <td>0.0</td>\n",
       "      <td>3000.0</td>\n",
       "      <td>0.10</td>\n",
       "      <td>1.0</td>\n",
       "      <td>0.899439</td>\n",
       "      <td>0.0</td>\n",
       "      <td>898.731111</td>\n",
       "      <td>0.360601</td>\n",
       "    </tr>\n",
       "    <tr>\n",
       "      <th>7</th>\n",
       "      <td>0.4</td>\n",
       "      <td>0.6974</td>\n",
       "      <td>0.996201</td>\n",
       "      <td>0.952949</td>\n",
       "      <td>0.44457</td>\n",
       "      <td>0.0</td>\n",
       "      <td>3500.0</td>\n",
       "      <td>0.10</td>\n",
       "      <td>1.0</td>\n",
       "      <td>0.899439</td>\n",
       "      <td>0.0</td>\n",
       "      <td>906.143205</td>\n",
       "      <td>0.359874</td>\n",
       "    </tr>\n",
       "    <tr>\n",
       "      <th>8</th>\n",
       "      <td>0.4</td>\n",
       "      <td>0.6974</td>\n",
       "      <td>0.996201</td>\n",
       "      <td>0.952949</td>\n",
       "      <td>0.44457</td>\n",
       "      <td>0.0</td>\n",
       "      <td>4000.0</td>\n",
       "      <td>0.10</td>\n",
       "      <td>1.0</td>\n",
       "      <td>0.899439</td>\n",
       "      <td>0.0</td>\n",
       "      <td>912.785052</td>\n",
       "      <td>0.358880</td>\n",
       "    </tr>\n",
       "    <tr>\n",
       "      <th>9</th>\n",
       "      <td>0.4</td>\n",
       "      <td>0.6974</td>\n",
       "      <td>0.996201</td>\n",
       "      <td>0.952949</td>\n",
       "      <td>0.44457</td>\n",
       "      <td>0.0</td>\n",
       "      <td>4500.0</td>\n",
       "      <td>0.10</td>\n",
       "      <td>1.0</td>\n",
       "      <td>0.899439</td>\n",
       "      <td>0.0</td>\n",
       "      <td>918.833059</td>\n",
       "      <td>0.357366</td>\n",
       "    </tr>\n",
       "    <tr>\n",
       "      <th>10</th>\n",
       "      <td>0.4</td>\n",
       "      <td>0.6974</td>\n",
       "      <td>0.996201</td>\n",
       "      <td>0.952949</td>\n",
       "      <td>0.44457</td>\n",
       "      <td>0.0</td>\n",
       "      <td>5000.0</td>\n",
       "      <td>0.10</td>\n",
       "      <td>1.0</td>\n",
       "      <td>0.899439</td>\n",
       "      <td>0.0</td>\n",
       "      <td>924.415641</td>\n",
       "      <td>0.355144</td>\n",
       "    </tr>\n",
       "    <tr>\n",
       "      <th>11</th>\n",
       "      <td>0.4</td>\n",
       "      <td>0.6974</td>\n",
       "      <td>0.996201</td>\n",
       "      <td>0.952949</td>\n",
       "      <td>0.44457</td>\n",
       "      <td>0.0</td>\n",
       "      <td>0.0</td>\n",
       "      <td>0.15</td>\n",
       "      <td>1.0</td>\n",
       "      <td>0.899439</td>\n",
       "      <td>0.0</td>\n",
       "      <td>838.804643</td>\n",
       "      <td>0.325070</td>\n",
       "    </tr>\n",
       "    <tr>\n",
       "      <th>12</th>\n",
       "      <td>0.4</td>\n",
       "      <td>0.6974</td>\n",
       "      <td>0.996201</td>\n",
       "      <td>0.952949</td>\n",
       "      <td>0.44457</td>\n",
       "      <td>0.0</td>\n",
       "      <td>500.0</td>\n",
       "      <td>0.15</td>\n",
       "      <td>1.0</td>\n",
       "      <td>0.899439</td>\n",
       "      <td>0.0</td>\n",
       "      <td>854.905048</td>\n",
       "      <td>0.325313</td>\n",
       "    </tr>\n",
       "    <tr>\n",
       "      <th>13</th>\n",
       "      <td>0.4</td>\n",
       "      <td>0.6974</td>\n",
       "      <td>0.996201</td>\n",
       "      <td>0.952949</td>\n",
       "      <td>0.44457</td>\n",
       "      <td>0.0</td>\n",
       "      <td>1000.0</td>\n",
       "      <td>0.15</td>\n",
       "      <td>1.0</td>\n",
       "      <td>0.899439</td>\n",
       "      <td>0.0</td>\n",
       "      <td>868.413346</td>\n",
       "      <td>0.326210</td>\n",
       "    </tr>\n",
       "    <tr>\n",
       "      <th>14</th>\n",
       "      <td>0.4</td>\n",
       "      <td>0.6974</td>\n",
       "      <td>0.996201</td>\n",
       "      <td>0.952949</td>\n",
       "      <td>0.44457</td>\n",
       "      <td>0.0</td>\n",
       "      <td>1500.0</td>\n",
       "      <td>0.15</td>\n",
       "      <td>1.0</td>\n",
       "      <td>0.899439</td>\n",
       "      <td>0.0</td>\n",
       "      <td>880.069786</td>\n",
       "      <td>0.326764</td>\n",
       "    </tr>\n",
       "    <tr>\n",
       "      <th>15</th>\n",
       "      <td>0.4</td>\n",
       "      <td>0.6974</td>\n",
       "      <td>0.996201</td>\n",
       "      <td>0.952949</td>\n",
       "      <td>0.44457</td>\n",
       "      <td>0.0</td>\n",
       "      <td>2000.0</td>\n",
       "      <td>0.15</td>\n",
       "      <td>1.0</td>\n",
       "      <td>0.899439</td>\n",
       "      <td>0.0</td>\n",
       "      <td>890.291356</td>\n",
       "      <td>0.326622</td>\n",
       "    </tr>\n",
       "    <tr>\n",
       "      <th>16</th>\n",
       "      <td>0.4</td>\n",
       "      <td>0.6974</td>\n",
       "      <td>0.996201</td>\n",
       "      <td>0.952949</td>\n",
       "      <td>0.44457</td>\n",
       "      <td>0.0</td>\n",
       "      <td>2500.0</td>\n",
       "      <td>0.15</td>\n",
       "      <td>1.0</td>\n",
       "      <td>0.899439</td>\n",
       "      <td>0.0</td>\n",
       "      <td>899.291700</td>\n",
       "      <td>0.325924</td>\n",
       "    </tr>\n",
       "    <tr>\n",
       "      <th>17</th>\n",
       "      <td>0.4</td>\n",
       "      <td>0.6974</td>\n",
       "      <td>0.996201</td>\n",
       "      <td>0.952949</td>\n",
       "      <td>0.44457</td>\n",
       "      <td>0.0</td>\n",
       "      <td>3000.0</td>\n",
       "      <td>0.15</td>\n",
       "      <td>1.0</td>\n",
       "      <td>0.899439</td>\n",
       "      <td>0.0</td>\n",
       "      <td>907.121905</td>\n",
       "      <td>0.325342</td>\n",
       "    </tr>\n",
       "    <tr>\n",
       "      <th>18</th>\n",
       "      <td>0.4</td>\n",
       "      <td>0.6974</td>\n",
       "      <td>0.996201</td>\n",
       "      <td>0.952949</td>\n",
       "      <td>0.44457</td>\n",
       "      <td>0.0</td>\n",
       "      <td>3500.0</td>\n",
       "      <td>0.15</td>\n",
       "      <td>1.0</td>\n",
       "      <td>0.899439</td>\n",
       "      <td>0.0</td>\n",
       "      <td>914.123077</td>\n",
       "      <td>0.324258</td>\n",
       "    </tr>\n",
       "    <tr>\n",
       "      <th>19</th>\n",
       "      <td>0.4</td>\n",
       "      <td>0.6974</td>\n",
       "      <td>0.996201</td>\n",
       "      <td>0.952949</td>\n",
       "      <td>0.44457</td>\n",
       "      <td>0.0</td>\n",
       "      <td>4000.0</td>\n",
       "      <td>0.15</td>\n",
       "      <td>1.0</td>\n",
       "      <td>0.899439</td>\n",
       "      <td>0.0</td>\n",
       "      <td>920.359405</td>\n",
       "      <td>0.323033</td>\n",
       "    </tr>\n",
       "  </tbody>\n",
       "</table>\n",
       "</div>"
      ],
      "text/plain": [
       "    lambda  Tg_scat    Tg_abs    albedo  aerosol_optical_depth  Zenith_angle  \\\n",
       "0      0.4   0.6974  0.996201  0.952949                0.44457           0.0   \n",
       "1      0.4   0.6974  0.996201  0.952949                0.44457           0.0   \n",
       "2      0.4   0.6974  0.996201  0.952949                0.44457           0.0   \n",
       "3      0.4   0.6974  0.996201  0.952949                0.44457           0.0   \n",
       "4      0.4   0.6974  0.996201  0.952949                0.44457           0.0   \n",
       "5      0.4   0.6974  0.996201  0.952949                0.44457           0.0   \n",
       "6      0.4   0.6974  0.996201  0.952949                0.44457           0.0   \n",
       "7      0.4   0.6974  0.996201  0.952949                0.44457           0.0   \n",
       "8      0.4   0.6974  0.996201  0.952949                0.44457           0.0   \n",
       "9      0.4   0.6974  0.996201  0.952949                0.44457           0.0   \n",
       "10     0.4   0.6974  0.996201  0.952949                0.44457           0.0   \n",
       "11     0.4   0.6974  0.996201  0.952949                0.44457           0.0   \n",
       "12     0.4   0.6974  0.996201  0.952949                0.44457           0.0   \n",
       "13     0.4   0.6974  0.996201  0.952949                0.44457           0.0   \n",
       "14     0.4   0.6974  0.996201  0.952949                0.44457           0.0   \n",
       "15     0.4   0.6974  0.996201  0.952949                0.44457           0.0   \n",
       "16     0.4   0.6974  0.996201  0.952949                0.44457           0.0   \n",
       "17     0.4   0.6974  0.996201  0.952949                0.44457           0.0   \n",
       "18     0.4   0.6974  0.996201  0.952949                0.44457           0.0   \n",
       "19     0.4   0.6974  0.996201  0.952949                0.44457           0.0   \n",
       "\n",
       "         Z  Reflectance    a        g1   g2      BOA_RT     alpha  \n",
       "0      0.0         0.10  1.0  0.899439  0.0  828.253839  0.354606  \n",
       "1    500.0         0.10  1.0  0.899439  0.0  844.606610  0.356321  \n",
       "2   1000.0         0.10  1.0  0.899439  0.0  858.435498  0.358480  \n",
       "3   1500.0         0.10  1.0  0.899439  0.0  870.475820  0.360011  \n",
       "4   2000.0         0.10  1.0  0.899439  0.0  881.099162  0.360666  \n",
       "5   2500.0         0.10  1.0  0.899439  0.0  890.472436  0.360749  \n",
       "6   3000.0         0.10  1.0  0.899439  0.0  898.731111  0.360601  \n",
       "7   3500.0         0.10  1.0  0.899439  0.0  906.143205  0.359874  \n",
       "8   4000.0         0.10  1.0  0.899439  0.0  912.785052  0.358880  \n",
       "9   4500.0         0.10  1.0  0.899439  0.0  918.833059  0.357366  \n",
       "10  5000.0         0.10  1.0  0.899439  0.0  924.415641  0.355144  \n",
       "11     0.0         0.15  1.0  0.899439  0.0  838.804643  0.325070  \n",
       "12   500.0         0.15  1.0  0.899439  0.0  854.905048  0.325313  \n",
       "13  1000.0         0.15  1.0  0.899439  0.0  868.413346  0.326210  \n",
       "14  1500.0         0.15  1.0  0.899439  0.0  880.069786  0.326764  \n",
       "15  2000.0         0.15  1.0  0.899439  0.0  890.291356  0.326622  \n",
       "16  2500.0         0.15  1.0  0.899439  0.0  899.291700  0.325924  \n",
       "17  3000.0         0.15  1.0  0.899439  0.0  907.121905  0.325342  \n",
       "18  3500.0         0.15  1.0  0.899439  0.0  914.123077  0.324258  \n",
       "19  4000.0         0.15  1.0  0.899439  0.0  920.359405  0.323033  "
      ]
     },
     "execution_count": 49,
     "metadata": {},
     "output_type": "execute_result"
    }
   ],
   "source": [
    "import pandas as pd \n",
    "df=pd.read_csv('/home/fayari/TEST/data_collection/dataset.csv')\n",
    "df.head(20)"
   ]
  },
  {
   "cell_type": "code",
   "execution_count": 50,
   "metadata": {},
   "outputs": [
    {
     "data": {
      "text/html": [
       "<div>\n",
       "<style scoped>\n",
       "    .dataframe tbody tr th:only-of-type {\n",
       "        vertical-align: middle;\n",
       "    }\n",
       "\n",
       "    .dataframe tbody tr th {\n",
       "        vertical-align: top;\n",
       "    }\n",
       "\n",
       "    .dataframe thead th {\n",
       "        text-align: right;\n",
       "    }\n",
       "</style>\n",
       "<table border=\"1\" class=\"dataframe\">\n",
       "  <thead>\n",
       "    <tr style=\"text-align: right;\">\n",
       "      <th></th>\n",
       "      <th>lambda</th>\n",
       "      <th>Tg_scat</th>\n",
       "      <th>Tg_abs</th>\n",
       "      <th>albedo</th>\n",
       "      <th>aerosol_optical_depth</th>\n",
       "      <th>Zenith_angle</th>\n",
       "      <th>Z</th>\n",
       "      <th>Reflectance</th>\n",
       "      <th>a</th>\n",
       "      <th>g1</th>\n",
       "      <th>g2</th>\n",
       "      <th>BOA_RT</th>\n",
       "      <th>alpha</th>\n",
       "    </tr>\n",
       "  </thead>\n",
       "  <tbody>\n",
       "    <tr>\n",
       "      <th>891</th>\n",
       "      <td>0.65</td>\n",
       "      <td>0.952</td>\n",
       "      <td>0.97521</td>\n",
       "      <td>0.944437</td>\n",
       "      <td>0.262874</td>\n",
       "      <td>0.0</td>\n",
       "      <td>0.0</td>\n",
       "      <td>0.10</td>\n",
       "      <td>1.0</td>\n",
       "      <td>0.929435</td>\n",
       "      <td>0.0</td>\n",
       "      <td>938.823797</td>\n",
       "      <td>0.179582</td>\n",
       "    </tr>\n",
       "    <tr>\n",
       "      <th>892</th>\n",
       "      <td>0.65</td>\n",
       "      <td>0.952</td>\n",
       "      <td>0.97521</td>\n",
       "      <td>0.944437</td>\n",
       "      <td>0.262874</td>\n",
       "      <td>0.0</td>\n",
       "      <td>500.0</td>\n",
       "      <td>0.10</td>\n",
       "      <td>1.0</td>\n",
       "      <td>0.929435</td>\n",
       "      <td>0.0</td>\n",
       "      <td>944.851014</td>\n",
       "      <td>0.196805</td>\n",
       "    </tr>\n",
       "    <tr>\n",
       "      <th>893</th>\n",
       "      <td>0.65</td>\n",
       "      <td>0.952</td>\n",
       "      <td>0.97521</td>\n",
       "      <td>0.944437</td>\n",
       "      <td>0.262874</td>\n",
       "      <td>0.0</td>\n",
       "      <td>1000.0</td>\n",
       "      <td>0.10</td>\n",
       "      <td>1.0</td>\n",
       "      <td>0.929435</td>\n",
       "      <td>0.0</td>\n",
       "      <td>949.634043</td>\n",
       "      <td>0.218290</td>\n",
       "    </tr>\n",
       "    <tr>\n",
       "      <th>894</th>\n",
       "      <td>0.65</td>\n",
       "      <td>0.952</td>\n",
       "      <td>0.97521</td>\n",
       "      <td>0.944437</td>\n",
       "      <td>0.262874</td>\n",
       "      <td>0.0</td>\n",
       "      <td>1500.0</td>\n",
       "      <td>0.10</td>\n",
       "      <td>1.0</td>\n",
       "      <td>0.929435</td>\n",
       "      <td>0.0</td>\n",
       "      <td>953.549914</td>\n",
       "      <td>0.242846</td>\n",
       "    </tr>\n",
       "    <tr>\n",
       "      <th>895</th>\n",
       "      <td>0.65</td>\n",
       "      <td>0.952</td>\n",
       "      <td>0.97521</td>\n",
       "      <td>0.944437</td>\n",
       "      <td>0.262874</td>\n",
       "      <td>0.0</td>\n",
       "      <td>2000.0</td>\n",
       "      <td>0.10</td>\n",
       "      <td>1.0</td>\n",
       "      <td>0.929435</td>\n",
       "      <td>0.0</td>\n",
       "      <td>956.759901</td>\n",
       "      <td>0.270725</td>\n",
       "    </tr>\n",
       "    <tr>\n",
       "      <th>...</th>\n",
       "      <td>...</td>\n",
       "      <td>...</td>\n",
       "      <td>...</td>\n",
       "      <td>...</td>\n",
       "      <td>...</td>\n",
       "      <td>...</td>\n",
       "      <td>...</td>\n",
       "      <td>...</td>\n",
       "      <td>...</td>\n",
       "      <td>...</td>\n",
       "      <td>...</td>\n",
       "      <td>...</td>\n",
       "      <td>...</td>\n",
       "    </tr>\n",
       "    <tr>\n",
       "      <th>1777</th>\n",
       "      <td>0.65</td>\n",
       "      <td>0.952</td>\n",
       "      <td>0.97521</td>\n",
       "      <td>0.944437</td>\n",
       "      <td>0.262874</td>\n",
       "      <td>80.0</td>\n",
       "      <td>3000.0</td>\n",
       "      <td>0.85</td>\n",
       "      <td>1.0</td>\n",
       "      <td>0.929435</td>\n",
       "      <td>0.0</td>\n",
       "      <td>805.691358</td>\n",
       "      <td>0.331201</td>\n",
       "    </tr>\n",
       "    <tr>\n",
       "      <th>1778</th>\n",
       "      <td>0.65</td>\n",
       "      <td>0.952</td>\n",
       "      <td>0.97521</td>\n",
       "      <td>0.944437</td>\n",
       "      <td>0.262874</td>\n",
       "      <td>80.0</td>\n",
       "      <td>3500.0</td>\n",
       "      <td>0.85</td>\n",
       "      <td>1.0</td>\n",
       "      <td>0.929435</td>\n",
       "      <td>0.0</td>\n",
       "      <td>816.813325</td>\n",
       "      <td>0.356357</td>\n",
       "    </tr>\n",
       "    <tr>\n",
       "      <th>1779</th>\n",
       "      <td>0.65</td>\n",
       "      <td>0.952</td>\n",
       "      <td>0.97521</td>\n",
       "      <td>0.944437</td>\n",
       "      <td>0.262874</td>\n",
       "      <td>80.0</td>\n",
       "      <td>4000.0</td>\n",
       "      <td>0.85</td>\n",
       "      <td>1.0</td>\n",
       "      <td>0.929435</td>\n",
       "      <td>0.0</td>\n",
       "      <td>825.545393</td>\n",
       "      <td>0.388042</td>\n",
       "    </tr>\n",
       "    <tr>\n",
       "      <th>1780</th>\n",
       "      <td>0.65</td>\n",
       "      <td>0.952</td>\n",
       "      <td>0.97521</td>\n",
       "      <td>0.944437</td>\n",
       "      <td>0.262874</td>\n",
       "      <td>80.0</td>\n",
       "      <td>4500.0</td>\n",
       "      <td>0.85</td>\n",
       "      <td>1.0</td>\n",
       "      <td>0.929435</td>\n",
       "      <td>0.0</td>\n",
       "      <td>832.688351</td>\n",
       "      <td>0.424325</td>\n",
       "    </tr>\n",
       "    <tr>\n",
       "      <th>1781</th>\n",
       "      <td>0.65</td>\n",
       "      <td>0.952</td>\n",
       "      <td>0.97521</td>\n",
       "      <td>0.944437</td>\n",
       "      <td>0.262874</td>\n",
       "      <td>80.0</td>\n",
       "      <td>5000.0</td>\n",
       "      <td>0.85</td>\n",
       "      <td>1.0</td>\n",
       "      <td>0.929435</td>\n",
       "      <td>0.0</td>\n",
       "      <td>838.651010</td>\n",
       "      <td>0.464471</td>\n",
       "    </tr>\n",
       "  </tbody>\n",
       "</table>\n",
       "<p>891 rows × 13 columns</p>\n",
       "</div>"
      ],
      "text/plain": [
       "      lambda  Tg_scat   Tg_abs    albedo  aerosol_optical_depth  Zenith_angle  \\\n",
       "891     0.65    0.952  0.97521  0.944437               0.262874           0.0   \n",
       "892     0.65    0.952  0.97521  0.944437               0.262874           0.0   \n",
       "893     0.65    0.952  0.97521  0.944437               0.262874           0.0   \n",
       "894     0.65    0.952  0.97521  0.944437               0.262874           0.0   \n",
       "895     0.65    0.952  0.97521  0.944437               0.262874           0.0   \n",
       "...      ...      ...      ...       ...                    ...           ...   \n",
       "1777    0.65    0.952  0.97521  0.944437               0.262874          80.0   \n",
       "1778    0.65    0.952  0.97521  0.944437               0.262874          80.0   \n",
       "1779    0.65    0.952  0.97521  0.944437               0.262874          80.0   \n",
       "1780    0.65    0.952  0.97521  0.944437               0.262874          80.0   \n",
       "1781    0.65    0.952  0.97521  0.944437               0.262874          80.0   \n",
       "\n",
       "           Z  Reflectance    a        g1   g2      BOA_RT     alpha  \n",
       "891      0.0         0.10  1.0  0.929435  0.0  938.823797  0.179582  \n",
       "892    500.0         0.10  1.0  0.929435  0.0  944.851014  0.196805  \n",
       "893   1000.0         0.10  1.0  0.929435  0.0  949.634043  0.218290  \n",
       "894   1500.0         0.10  1.0  0.929435  0.0  953.549914  0.242846  \n",
       "895   2000.0         0.10  1.0  0.929435  0.0  956.759901  0.270725  \n",
       "...      ...          ...  ...       ...  ...         ...       ...  \n",
       "1777  3000.0         0.85  1.0  0.929435  0.0  805.691358  0.331201  \n",
       "1778  3500.0         0.85  1.0  0.929435  0.0  816.813325  0.356357  \n",
       "1779  4000.0         0.85  1.0  0.929435  0.0  825.545393  0.388042  \n",
       "1780  4500.0         0.85  1.0  0.929435  0.0  832.688351  0.424325  \n",
       "1781  5000.0         0.85  1.0  0.929435  0.0  838.651010  0.464471  \n",
       "\n",
       "[891 rows x 13 columns]"
      ]
     },
     "execution_count": 50,
     "metadata": {},
     "output_type": "execute_result"
    }
   ],
   "source": [
    "df[df['lambda']==0.65]"
   ]
  },
  {
   "cell_type": "code",
   "execution_count": 65,
   "metadata": {},
   "outputs": [
    {
     "data": {
      "text/plain": [
       "lambda                      0.400000\n",
       "Tg_scat                     0.697400\n",
       "Tg_abs                      0.996201\n",
       "albedo                      0.952949\n",
       "aerosol_optical_depth       0.444570\n",
       "Zenith_angle                0.000000\n",
       "Z                        1000.000000\n",
       "Reflectance                 0.100000\n",
       "a                           1.000000\n",
       "g1                          0.899439\n",
       "g2                          0.000000\n",
       "BOA_RT                    858.435498\n",
       "alpha                       0.358480\n",
       "Name: 2, dtype: float64"
      ]
     },
     "execution_count": 65,
     "metadata": {},
     "output_type": "execute_result"
    }
   ],
   "source": [
    "df.iloc[2]"
   ]
  },
  {
   "cell_type": "code",
   "execution_count": 75,
   "metadata": {},
   "outputs": [
    {
     "data": {
      "text/plain": [
       "lambda                      0.650000\n",
       "Tg_scat                     0.952000\n",
       "Tg_abs                      0.975210\n",
       "albedo                      0.944437\n",
       "aerosol_optical_depth       0.262874\n",
       "Zenith_angle                0.000000\n",
       "Z                        1000.000000\n",
       "Reflectance                 0.100000\n",
       "a                           1.000000\n",
       "g1                          0.929435\n",
       "g2                          0.000000\n",
       "BOA_RT                    949.634043\n",
       "alpha                       0.218290\n",
       "Name: 893, dtype: float64"
      ]
     },
     "execution_count": 75,
     "metadata": {},
     "output_type": "execute_result"
    }
   ],
   "source": [
    "df.iloc[893]"
   ]
  },
  {
   "cell_type": "code",
   "execution_count": 55,
   "metadata": {},
   "outputs": [
    {
     "data": {
      "text/plain": [
       "lambda                      1.030000\n",
       "Tg_scat                     0.992400\n",
       "Tg_abs                      0.997443\n",
       "albedo                      0.882912\n",
       "aerosol_optical_depth       0.136019\n",
       "Zenith_angle                0.000000\n",
       "Z                        1000.000000\n",
       "Reflectance                 0.150000\n",
       "a                           1.000000\n",
       "g1                          0.942715\n",
       "g2                          0.000000\n",
       "BOA_RT                    986.843294\n",
       "alpha                       0.041607\n",
       "Name: 1795, dtype: float64"
      ]
     },
     "execution_count": 55,
     "metadata": {},
     "output_type": "execute_result"
    }
   ],
   "source": [
    "df.iloc[1795]"
   ]
  },
  {
   "cell_type": "code",
   "execution_count": null,
   "metadata": {},
   "outputs": [
    {
     "data": {
      "text/plain": [
       "lambda                      1.800000\n",
       "Tg_scat                     0.999200\n",
       "Tg_abs                      0.025686\n",
       "albedo                      0.847514\n",
       "aerosol_optical_depth       0.050031\n",
       "Zenith_angle                0.000000\n",
       "Z                        1000.000000\n",
       "Reflectance                 0.550000\n",
       "a                           1.000000\n",
       "g1                          0.890050\n",
       "g2                          0.000000\n",
       "BOA_RT                    102.176857\n",
       "alpha                     -68.064358\n",
       "Name: 2730, dtype: float64"
      ]
     },
     "execution_count": 59,
     "metadata": {},
     "output_type": "execute_result"
    }
   ],
   "source": [
    "df.iloc[2730]"
   ]
  },
  {
   "cell_type": "code",
   "execution_count": null,
   "metadata": {},
   "outputs": [
    {
     "data": {
      "text/html": [
       "<div>\n",
       "<style scoped>\n",
       "    .dataframe tbody tr th:only-of-type {\n",
       "        vertical-align: middle;\n",
       "    }\n",
       "\n",
       "    .dataframe tbody tr th {\n",
       "        vertical-align: top;\n",
       "    }\n",
       "\n",
       "    .dataframe thead th {\n",
       "        text-align: right;\n",
       "    }\n",
       "</style>\n",
       "<table border=\"1\" class=\"dataframe\">\n",
       "  <thead>\n",
       "    <tr style=\"text-align: right;\">\n",
       "      <th></th>\n",
       "      <th>lambda</th>\n",
       "      <th>Tg_scat</th>\n",
       "      <th>Tg_abs</th>\n",
       "      <th>albedo</th>\n",
       "      <th>aerosol_optical_depth</th>\n",
       "      <th>Zenith_angle</th>\n",
       "      <th>Z</th>\n",
       "      <th>Reflectance</th>\n",
       "      <th>a</th>\n",
       "      <th>g1</th>\n",
       "      <th>g2</th>\n",
       "      <th>BOA_RT</th>\n",
       "      <th>alpha</th>\n",
       "    </tr>\n",
       "  </thead>\n",
       "  <tbody>\n",
       "    <tr>\n",
       "      <th>132</th>\n",
       "      <td>0.40</td>\n",
       "      <td>0.6974</td>\n",
       "      <td>0.996201</td>\n",
       "      <td>0.952949</td>\n",
       "      <td>0.444570</td>\n",
       "      <td>10.0</td>\n",
       "      <td>0.0</td>\n",
       "      <td>0.33</td>\n",
       "      <td>1.0</td>\n",
       "      <td>0.899439</td>\n",
       "      <td>0.0</td>\n",
       "      <td>876.090758</td>\n",
       "      <td>0.222121</td>\n",
       "    </tr>\n",
       "    <tr>\n",
       "      <th>1023</th>\n",
       "      <td>0.65</td>\n",
       "      <td>0.9520</td>\n",
       "      <td>0.975210</td>\n",
       "      <td>0.944437</td>\n",
       "      <td>0.262874</td>\n",
       "      <td>10.0</td>\n",
       "      <td>0.0</td>\n",
       "      <td>0.33</td>\n",
       "      <td>1.0</td>\n",
       "      <td>0.929435</td>\n",
       "      <td>0.0</td>\n",
       "      <td>952.258864</td>\n",
       "      <td>0.064449</td>\n",
       "    </tr>\n",
       "    <tr>\n",
       "      <th>1914</th>\n",
       "      <td>1.03</td>\n",
       "      <td>0.9924</td>\n",
       "      <td>0.997443</td>\n",
       "      <td>0.882912</td>\n",
       "      <td>0.136019</td>\n",
       "      <td>10.0</td>\n",
       "      <td>0.0</td>\n",
       "      <td>0.33</td>\n",
       "      <td>1.0</td>\n",
       "      <td>0.942715</td>\n",
       "      <td>0.0</td>\n",
       "      <td>982.152941</td>\n",
       "      <td>-0.015762</td>\n",
       "    </tr>\n",
       "    <tr>\n",
       "      <th>2805</th>\n",
       "      <td>1.80</td>\n",
       "      <td>0.9992</td>\n",
       "      <td>0.025686</td>\n",
       "      <td>0.847514</td>\n",
       "      <td>0.050031</td>\n",
       "      <td>10.0</td>\n",
       "      <td>0.0</td>\n",
       "      <td>0.33</td>\n",
       "      <td>1.0</td>\n",
       "      <td>0.890050</td>\n",
       "      <td>0.0</td>\n",
       "      <td>23.927739</td>\n",
       "      <td>0.445747</td>\n",
       "    </tr>\n",
       "  </tbody>\n",
       "</table>\n",
       "</div>"
      ],
      "text/plain": [
       "      lambda  Tg_scat    Tg_abs    albedo  aerosol_optical_depth  \\\n",
       "132     0.40   0.6974  0.996201  0.952949               0.444570   \n",
       "1023    0.65   0.9520  0.975210  0.944437               0.262874   \n",
       "1914    1.03   0.9924  0.997443  0.882912               0.136019   \n",
       "2805    1.80   0.9992  0.025686  0.847514               0.050031   \n",
       "\n",
       "      Zenith_angle    Z  Reflectance    a        g1   g2      BOA_RT     alpha  \n",
       "132           10.0  0.0         0.33  1.0  0.899439  0.0  876.090758  0.222121  \n",
       "1023          10.0  0.0         0.33  1.0  0.929435  0.0  952.258864  0.064449  \n",
       "1914          10.0  0.0         0.33  1.0  0.942715  0.0  982.152941 -0.015762  \n",
       "2805          10.0  0.0         0.33  1.0  0.890050  0.0   23.927739  0.445747  "
      ]
     },
     "execution_count": 1,
     "metadata": {},
     "output_type": "execute_result"
    }
   ],
   "source": [
    "import pandas as pd \n",
    "df=pd.read_csv('/home/fayari/TEST/data_collection/dataset.csv')\n",
    "df[(df.Z==0 )& (df.Reflectance == 0.33) & (df.Zenith_angle==10)]"
   ]
  },
  {
   "cell_type": "code",
   "execution_count": 106,
   "metadata": {},
   "outputs": [],
   "source": [
    "import xml.etree.ElementTree as ET\n",
    "from netCDF4 import Dataset\n",
    "def EXTRACT_BOA_RT():\n",
    "    with open('/home/fayari/DART1425/user_data/simulations/test_seq/sequence/my_seq_0/output/dart.txt','r') as file :\n",
    "        boa_values = []\n",
    "        for line in file :\n",
    "            if \"BOA Total\" in line:\n",
    "                value = float(line.split(\"*\")[-1].strip())  \n",
    "                boa_values.append(value)\n",
    "    return boa_values[-1]  \n",
    "\n",
    "\n",
    "\n",
    "\n",
    "    \n",
    "def calculate_alpha(thetha,z,Tg_abs,Tg_scat,optical_depth,albedo,BOA_RT):   \n",
    "    def muprime(z,h,µ):\n",
    "        RAYON_TERRESTRE=6371\n",
    "        eta = (RAYON_TERRESTRE*1000 + z) / h\n",
    "        root = (eta*µ)**2  + 2 * eta + 1\n",
    "        sum = (root)**0.5 - eta * µ\n",
    "        if sum > 0 :\n",
    "            return 1/sum\n",
    "        return 1 \n",
    "    E_TOA=1000\n",
    "    Ha=2000\n",
    "    Hg=9000\n",
    "    mu_a=(3671*1000+z)/Ha\n",
    "    mu_g=(3671*1000+z)/Hg\n",
    "    angle_rad = math.radians(thetha)\n",
    "    µ=math.cos(angle_rad)  \n",
    "    Y_a=muprime(z,Ha,µ)\n",
    "    Y_g=muprime(z,Hg,µ)\n",
    "    Ma=math.exp(-z/Ha)/Y_a\n",
    "    Mg=math.exp(-z/Hg)/Y_g\n",
    "    delta_a_scat=optical_depth*albedo\n",
    "    delta_g_scat=-math.log(Tg_scat)\n",
    "    Ta_abs=math.exp(-optical_depth*(1-albedo))\n",
    "    numerator= (E_TOA/BOA_RT)*(Tg_abs**(Mg))*(Ta_abs**(Ma))-1\n",
    "    denominator=(delta_g_scat * Mg) + (delta_a_scat * Ma) / 3\n",
    "    alpha= numerator / denominator\n",
    "    return alpha\n",
    "\n",
    "def atmosphere_param(atmosphere_nc,atmosphere_xml):\n",
    "    tree = ET.parse(atmosphere_xml)  # Remplace 'votre_fichier.xml' par le nom réel\n",
    "    root = tree.getroot()\n",
    "    l=[]\n",
    "    # Trouver l'élément <IsAtmosphere> et lire l'attribut 'typeOfAtmosphere'\n",
    "    is_atmosphere_elem = root.find('.//IsAtmosphere')  # Recherche récursive\n",
    "    type_value = int(is_atmosphere_elem.get('typeOfAtmosphere'))\n",
    "    if type_value == 1 :\n",
    "\n",
    "        with Dataset(atmosphere_nc, \"r\") as nc_file:\n",
    "            spectral_number=nc_file.groups['Transmittance']['All_gas_transmittance'].shape[0]\n",
    "            for i in range(spectral_number):\n",
    "                tg_scat = nc_file.groups['Transmittance']['All_gas_transmittance'][i][0]\n",
    "                tg_abs = np.prod(nc_file.groups['Transmittance']['All_gas_transmittance'][i][1:15])\n",
    "                optical_depth = nc_file.groups['Transmittance']['Aerosols optical_depth'][i][0]\n",
    "                albedo = nc_file.groups['Transmittance']['Aerosol_single_scattering albedo'][i][0]\n",
    "                a = nc_file.groups['Henyey Greenstein']['a'][i][0]\n",
    "                g1 = nc_file.groups['Henyey Greenstein']['g1'][i][0]\n",
    "                g2 = nc_file.groups['Henyey Greenstein']['g2'][i][0]\n",
    "                l.append([tg_scat, tg_abs, optical_depth, albedo, a, g1])\n",
    "            return l\n",
    "    else :\n",
    "\n",
    "        with Dataset(atmosphere_nc, \"r\") as nc_file:\n",
    "            GOD = nc_file.getncattr('Gas_optical_depth_scattering')\n",
    "            tg_scat=math.exp(-GOD)\n",
    "            tg_abs = nc_file.getncattr('Transmittance_of_gases_absorb')\n",
    "            optical_depth = nc_file.getncattr('Total_aerosols_optical_depth')\n",
    "            albedo = nc_file.getncattr('Aerosol_albedo')\n",
    "            a = nc_file.getncattr('Henyey_Greenstein_a')\n",
    "            g1 = nc_file.getncattr('Henyey_Greenstein_g1')\n",
    "            g2 = nc_file.getncattr('Henyey_Greenstein_g2')\n",
    "            l.append([tg_scat, tg_abs, optical_depth, albedo, a, g1])\n",
    "            return l\n"
   ]
  },
  {
   "cell_type": "code",
   "execution_count": 108,
   "metadata": {},
   "outputs": [
    {
     "data": {
      "text/plain": [
       "[[0.9521811296985049, 0.75, 0.202, 0.947, 0.95, 0.79]]"
      ]
     },
     "execution_count": 108,
     "metadata": {},
     "output_type": "execute_result"
    }
   ],
   "source": [
    "import numpy as np \n",
    "atmosphere_param('/home/fayari/DART1425/user_data/simulations/test_seq/sequence/my_seq_0/output/atmosphere.nc','/home/fayari/DART1425/user_data/simulations/test_seq/sequence/my_seq_0/input/atmosphere.xml')"
   ]
  },
  {
   "cell_type": "code",
   "execution_count": 109,
   "metadata": {},
   "outputs": [
    {
     "data": {
      "text/plain": [
       "0.38779769227912997"
      ]
     },
     "execution_count": 109,
     "metadata": {},
     "output_type": "execute_result"
    }
   ],
   "source": [
    "import math\n",
    "calculate_alpha(20,0,0.75,0.9521811296985049,0.202,0.947,695.591442)"
   ]
  },
  {
   "cell_type": "code",
   "execution_count": null,
   "metadata": {},
   "outputs": [],
   "source": [
    "0.018087821155184 0.007475599564188 0.2120211674379 0.2447679981032"
   ]
  },
  {
   "cell_type": "code",
   "execution_count": 4,
   "metadata": {},
   "outputs": [
    {
     "data": {
      "text/html": [
       "<div>\n",
       "<style scoped>\n",
       "    .dataframe tbody tr th:only-of-type {\n",
       "        vertical-align: middle;\n",
       "    }\n",
       "\n",
       "    .dataframe tbody tr th {\n",
       "        vertical-align: top;\n",
       "    }\n",
       "\n",
       "    .dataframe thead th {\n",
       "        text-align: right;\n",
       "    }\n",
       "</style>\n",
       "<table border=\"1\" class=\"dataframe\">\n",
       "  <thead>\n",
       "    <tr style=\"text-align: right;\">\n",
       "      <th></th>\n",
       "      <th>lambda</th>\n",
       "      <th>Tg_scat</th>\n",
       "      <th>Tg_abs</th>\n",
       "      <th>albedo</th>\n",
       "      <th>aerosol_optical_depth</th>\n",
       "      <th>Zenith_angle</th>\n",
       "      <th>Z</th>\n",
       "      <th>Reflectance</th>\n",
       "      <th>a</th>\n",
       "      <th>g1</th>\n",
       "      <th>g2</th>\n",
       "      <th>BOA_RT</th>\n",
       "      <th>alpha</th>\n",
       "    </tr>\n",
       "  </thead>\n",
       "  <tbody>\n",
       "    <tr>\n",
       "      <th>635</th>\n",
       "      <td>0.40</td>\n",
       "      <td>0.6974</td>\n",
       "      <td>0.996201</td>\n",
       "      <td>0.952949</td>\n",
       "      <td>0.444570</td>\n",
       "      <td>60.0</td>\n",
       "      <td>4000.0</td>\n",
       "      <td>0.33</td>\n",
       "      <td>1.0</td>\n",
       "      <td>0.899439</td>\n",
       "      <td>0.0</td>\n",
       "      <td>858.535846</td>\n",
       "      <td>0.305520</td>\n",
       "    </tr>\n",
       "    <tr>\n",
       "      <th>1526</th>\n",
       "      <td>0.65</td>\n",
       "      <td>0.9520</td>\n",
       "      <td>0.975210</td>\n",
       "      <td>0.944437</td>\n",
       "      <td>0.262874</td>\n",
       "      <td>60.0</td>\n",
       "      <td>4000.0</td>\n",
       "      <td>0.33</td>\n",
       "      <td>1.0</td>\n",
       "      <td>0.929435</td>\n",
       "      <td>0.0</td>\n",
       "      <td>934.003253</td>\n",
       "      <td>0.383486</td>\n",
       "    </tr>\n",
       "    <tr>\n",
       "      <th>2417</th>\n",
       "      <td>1.03</td>\n",
       "      <td>0.9924</td>\n",
       "      <td>0.997443</td>\n",
       "      <td>0.882912</td>\n",
       "      <td>0.136019</td>\n",
       "      <td>60.0</td>\n",
       "      <td>4000.0</td>\n",
       "      <td>0.33</td>\n",
       "      <td>1.0</td>\n",
       "      <td>0.942715</td>\n",
       "      <td>0.0</td>\n",
       "      <td>991.757193</td>\n",
       "      <td>0.033623</td>\n",
       "    </tr>\n",
       "    <tr>\n",
       "      <th>3308</th>\n",
       "      <td>1.80</td>\n",
       "      <td>0.9992</td>\n",
       "      <td>0.025686</td>\n",
       "      <td>0.847514</td>\n",
       "      <td>0.050031</td>\n",
       "      <td>60.0</td>\n",
       "      <td>4000.0</td>\n",
       "      <td>0.33</td>\n",
       "      <td>1.0</td>\n",
       "      <td>0.890050</td>\n",
       "      <td>0.0</td>\n",
       "      <td>444.057008</td>\n",
       "      <td>-201.995001</td>\n",
       "    </tr>\n",
       "  </tbody>\n",
       "</table>\n",
       "</div>"
      ],
      "text/plain": [
       "      lambda  Tg_scat    Tg_abs    albedo  aerosol_optical_depth  \\\n",
       "635     0.40   0.6974  0.996201  0.952949               0.444570   \n",
       "1526    0.65   0.9520  0.975210  0.944437               0.262874   \n",
       "2417    1.03   0.9924  0.997443  0.882912               0.136019   \n",
       "3308    1.80   0.9992  0.025686  0.847514               0.050031   \n",
       "\n",
       "      Zenith_angle       Z  Reflectance    a        g1   g2      BOA_RT  \\\n",
       "635           60.0  4000.0         0.33  1.0  0.899439  0.0  858.535846   \n",
       "1526          60.0  4000.0         0.33  1.0  0.929435  0.0  934.003253   \n",
       "2417          60.0  4000.0         0.33  1.0  0.942715  0.0  991.757193   \n",
       "3308          60.0  4000.0         0.33  1.0  0.890050  0.0  444.057008   \n",
       "\n",
       "           alpha  \n",
       "635     0.305520  \n",
       "1526    0.383486  \n",
       "2417    0.033623  \n",
       "3308 -201.995001  "
      ]
     },
     "execution_count": 4,
     "metadata": {},
     "output_type": "execute_result"
    }
   ],
   "source": [
    "import pandas as pd \n",
    "df=pd.read_csv('/home/fayari/TEST/data_collection/dataset.csv')\n",
    "df[(df.Z==4000 )& (df.Reflectance == 0.33) & (df.Zenith_angle==60)]"
   ]
  },
  {
   "cell_type": "code",
   "execution_count": 1,
   "metadata": {},
   "outputs": [
    {
     "ename": "SyntaxError",
     "evalue": "invalid syntax (1333783213.py, line 2)",
     "output_type": "error",
     "traceback": [
      "  \u001b[36mCell\u001b[39m\u001b[36m \u001b[39m\u001b[32mIn[1]\u001b[39m\u001b[32m, line 2\u001b[39m\n\u001b[31m    \u001b[39m\u001b[31mpip show joblib\u001b[39m\n        ^\n\u001b[31mSyntaxError\u001b[39m\u001b[31m:\u001b[39m invalid syntax\n"
     ]
    }
   ],
   "source": [
    "python --version\n",
    "pip show joblib\n",
    "pip show scikit-learn\n"
   ]
  },
  {
   "cell_type": "code",
   "execution_count": 3,
   "metadata": {},
   "outputs": [
    {
     "name": "stderr",
     "output_type": "stream",
     "text": [
      "/home/fayari/miniforge3/envs/myptd/lib/python3.11/site-packages/sklearn/base.py:376: InconsistentVersionWarning: Trying to unpickle estimator StandardScaler from version 1.6.1 when using version 1.5.0. This might lead to breaking code or invalid results. Use at your own risk. For more info please refer to:\n",
      "https://scikit-learn.org/stable/model_persistence.html#security-maintainability-limitations\n",
      "  warnings.warn(\n"
     ]
    }
   ],
   "source": [
    "import joblib\n",
    "scaler = joblib.load(\"scaler.pkl\")\n",
    "\n",
    "# Sauvegarder les attributs importants\n",
    "scaler_params = {\n",
    "    \"mean_\": scaler.mean_,\n",
    "    \"scale_\": scaler.scale_,\n",
    "    \"var_\": scaler.var_,\n",
    "    \"n_samples_seen_\": scaler.n_samples_seen_\n",
    "}\n",
    "\n"
   ]
  },
  {
   "cell_type": "code",
   "execution_count": 4,
   "metadata": {},
   "outputs": [
    {
     "data": {
      "text/plain": [
       "{'mean_': array([7.94013745e-01, 8.05838119e-01, 7.27448140e-01, 5.47240365e-01,\n",
       "        2.79803576e-01, 4.37678891e-01, 2.84402275e-01, 4.36144042e+01,\n",
       "        1.37638197e+03, 4.99860569e-01, 8.40390179e-01, 6.56018409e-01,\n",
       "        7.08041820e+02, 3.18618819e+03, 6.57467123e-01, 6.56399140e-01,\n",
       "        2.34860804e+00, 1.80630644e+00]),\n",
       " 'scale_': array([2.02590893e-01, 1.95269501e-01, 1.93106355e-01, 2.35940539e-01,\n",
       "        3.52728730e-01, 3.44704526e-01, 3.01406445e-01, 2.52466254e+01,\n",
       "        1.21847558e+03, 2.88115921e-01, 1.13456576e-01, 2.94399487e-01,\n",
       "        1.35386176e-01, 6.09237791e-01, 2.92297212e-01, 2.93805424e-01,\n",
       "        3.70339519e+00, 4.41763650e+00]),\n",
       " 'var_': array([4.10430701e-02, 3.81301782e-02, 3.72900642e-02, 5.56679378e-02,\n",
       "        1.24417557e-01, 1.18821210e-01, 9.08458451e-02, 6.37392094e+02,\n",
       "        1.48468274e+06, 8.30107842e-02, 1.28723947e-02, 8.66710577e-02,\n",
       "        1.83294166e-02, 3.71170686e-01, 8.54376604e-02, 8.63216274e-02,\n",
       "        1.37151359e+01, 1.95155123e+01]),\n",
       " 'n_samples_seen_': 362503}"
      ]
     },
     "execution_count": 4,
     "metadata": {},
     "output_type": "execute_result"
    }
   ],
   "source": [
    "scaler_params"
   ]
  },
  {
   "cell_type": "code",
   "execution_count": 8,
   "metadata": {},
   "outputs": [],
   "source": [
    "import joblib\n",
    "import json\n",
    "import numpy as np\n",
    "\n",
    "# Charger le scaler\n",
    "scaler = joblib.load(\"scaler.pkl\")\n",
    "\n",
    "# Préparer les paramètres sous forme compatible JSON\n",
    "scaler_params = {\n",
    "    \"mean_\": scaler.mean_.tolist(),\n",
    "    \"scale_\": scaler.scale_.tolist(),\n",
    "    \"var_\": scaler.var_.tolist(),\n",
    "    \"n_samples_seen_\": int(scaler.n_samples_seen_)\n",
    "}\n",
    "\n",
    "# Sauvegarder dans un fichier JSON\n",
    "with open(\"scaler_params.json\", \"w\") as f:\n",
    "    json.dump(scaler_params, f)\n"
   ]
  },
  {
   "cell_type": "code",
   "execution_count": null,
   "metadata": {},
   "outputs": [],
   "source": [
    "from tensorflow.keras.models import load_model\n",
    "\n",
    "model = load_model('my_model.h5')\n"
   ]
  },
  {
   "cell_type": "code",
   "execution_count": 1,
   "metadata": {},
   "outputs": [
    {
     "name": "stdout",
     "output_type": "stream",
     "text": [
      "[0, 1, 0]\n"
     ]
    }
   ],
   "source": [
    "import xml.etree.ElementTree as ET\n",
    "\n",
    "# Charger le fichier XML\n",
    "tree = ET.parse('/home/fayari/DART1425/user_data/simulations/RTM_reference0/input/phase.xml')  # Remplace par le chemin réel\n",
    "root = tree.getroot()\n",
    "\n",
    "# Initialiser la liste pour stocker les valeurs\n",
    "spectral_dart_modes = []\n",
    "\n",
    "# Parcourir tous les éléments SpectralIntervalsProperties\n",
    "for elem in root.iter('SpectralIntervalsProperties'):\n",
    "    val = elem.get('spectralDartMode')\n",
    "    if val is not None:\n",
    "        spectral_dart_modes.append(int(val))\n",
    "\n",
    "print(spectral_dart_modes)"
   ]
  },
  {
   "cell_type": "code",
   "execution_count": 2,
   "metadata": {},
   "outputs": [],
   "source": [
    "def get_spectral_mode(phase_path):\n",
    "    tree = ET.parse(phase_path)  # Remplace par le chemin réel\n",
    "    root = tree.getroot()\n",
    "\n",
    "    # Initialiser la liste pour stocker les valeurs\n",
    "    spectral_dart_modes = []\n",
    "\n",
    "    # Parcourir tous les éléments SpectralIntervalsProperties\n",
    "    for elem in root.iter('SpectralIntervalsProperties'):\n",
    "        val = elem.get('spectralDartMode')\n",
    "        if val is not None:\n",
    "            spectral_dart_modes.append(int(val))\n",
    "\n",
    "    return spectral_dart_modes\n",
    "\n"
   ]
  },
  {
   "cell_type": "code",
   "execution_count": 3,
   "metadata": {},
   "outputs": [
    {
     "data": {
      "text/plain": [
       "[0, 1, 0]"
      ]
     },
     "execution_count": 3,
     "metadata": {},
     "output_type": "execute_result"
    }
   ],
   "source": [
    "phase_path='/home/fayari/DART1425/user_data/simulations/RTM_reference0/input/phase.xml'\n",
    "a=get_spectral_mode(phase_path)\n",
    "a"
   ]
  },
  {
   "cell_type": "code",
   "execution_count": 4,
   "metadata": {},
   "outputs": [],
   "source": [
    "def EXTRACT_E_direct(path):\n",
    "    try :\n",
    "        with open(path, 'r') as file:\n",
    "            for line in file:  # ← ici, on lit ligne par ligne\n",
    "                if line.strip().startswith(\"scene.lights.sky.color=\"):\n",
    "                    valeur_str = line.strip().split(\"=\")[1]\n",
    "                    return [ float(val) for val in valeur_str.split() ]\n",
    "        return None  \n",
    "    except :\n",
    "\n",
    "        raise ValueError(\"Valeurs de E_Diffus non trouvées.\")"
   ]
  },
  {
   "cell_type": "code",
   "execution_count": 9,
   "metadata": {},
   "outputs": [
    {
     "data": {
      "text/plain": [
       "[6.8928, 1.34725, 5.57167]"
      ]
     },
     "execution_count": 9,
     "metadata": {},
     "output_type": "execute_result"
    }
   ],
   "source": [
    "c=EXTRACT_E_direct('/home/fayari/DART1425/user_data/simulations/RTM_reference0/output/phase.scn')\n",
    "c"
   ]
  },
  {
   "cell_type": "code",
   "execution_count": 6,
   "metadata": {},
   "outputs": [
    {
     "data": {
      "text/plain": [
       "[0, 1, 0]"
      ]
     },
     "execution_count": 6,
     "metadata": {},
     "output_type": "execute_result"
    }
   ],
   "source": [
    "a"
   ]
  },
  {
   "cell_type": "code",
   "execution_count": 8,
   "metadata": {},
   "outputs": [
    {
     "data": {
      "text/plain": [
       "[7, 5, 8]"
      ]
     },
     "execution_count": 8,
     "metadata": {},
     "output_type": "execute_result"
    }
   ],
   "source": [
    "b=[7,5,8]\n",
    "b"
   ]
  },
  {
   "cell_type": "code",
   "execution_count": 10,
   "metadata": {},
   "outputs": [
    {
     "data": {
      "text/plain": [
       "[7, 1.34725, 8]"
      ]
     },
     "execution_count": 10,
     "metadata": {},
     "output_type": "execute_result"
    }
   ],
   "source": [
    "l=[b[i] if a[i]==0 else c[i] for i in range(len(b)) ]\n",
    "l"
   ]
  },
  {
   "cell_type": "code",
   "execution_count": 20,
   "metadata": {},
   "outputs": [
    {
     "name": "stdout",
     "output_type": "stream",
     "text": [
      "TOAtoBOA = 0\n"
     ]
    }
   ],
   "source": [
    "import xml.etree.ElementTree as ET\n",
    "\n",
    "# Charger le fichier XML\n",
    "tree = ET.parse('/home/fayari/DART1425/user_data/simulations/RTM_reference0/input/phase.xml')  # Remplace avec ton chemin\n",
    "root = tree.getroot()\n",
    "\n",
    "# Trouver la balise AtmosphereRadiativeTransfer\n",
    "toa_to_boa_value = None\n",
    "for elem in root.iter('AtmosphereRadiativeTransfer'):\n",
    "    toa_to_boa_value = elem.get('TOAtoBOA')\n",
    "    break  # On s'arrête dès qu'on trouve la première\n",
    "\n",
    "# Affichage du résultat\n",
    "if toa_to_boa_value is not None:\n",
    "    print(\"TOAtoBOA =\", int(toa_to_boa_value))\n",
    "else:\n",
    "    print(\"CAN NOT FIND Atmosphere Radiative Transfer Mode\")"
   ]
  },
  {
   "cell_type": "code",
   "execution_count": 22,
   "metadata": {},
   "outputs": [],
   "source": [
    "def get_RTMode(phase):\n",
    "    tree = ET.parse(phase)  # Remplace avec ton chemin\n",
    "    root = tree.getroot()\n",
    "\n",
    "    # Trouver la balise AtmosphereRadiativeTransfer\n",
    "    try :\n",
    "        toa_to_boa_value = None\n",
    "        for elem in root.iter('AtmosphereRadiativeTransfer'):\n",
    "            toa_to_boa_value = elem.get('TOAtoBOA')\n",
    "            break  # On s'arrête dès qu'on trouve la première\n",
    "\n",
    "        # Affichage du résultat\n",
    "        if toa_to_boa_value is not None:\n",
    "            return int(toa_to_boa_value)\n",
    "    except:\n",
    "        raise ValueError(\"CAN NOT FIND Atmosphere Radiative Transfer Mode\")\n",
    "        "
   ]
  },
  {
   "cell_type": "code",
   "execution_count": 19,
   "metadata": {},
   "outputs": [
    {
     "data": {
      "text/plain": [
       "str"
      ]
     },
     "execution_count": 19,
     "metadata": {},
     "output_type": "execute_result"
    }
   ],
   "source": [
    "type(toa_to_boa_value)"
   ]
  },
  {
   "cell_type": "code",
   "execution_count": 32,
   "metadata": {},
   "outputs": [],
   "source": [
    "import re\n",
    "import math\n"
   ]
  },
  {
   "cell_type": "code",
   "execution_count": 36,
   "metadata": {},
   "outputs": [],
   "source": [
    "def EXTRACT_TOA(path, SZA):\n",
    "    try :\n",
    "        E_TOA = []\n",
    "        pattern = re.compile(r\"phase\\.band(\\d+)\\.spectral\\.TOA:\\s*([0-9.+-eE]+)\")\n",
    "\n",
    "        with open(path, 'r') as file:\n",
    "            for line in file:\n",
    "                match = pattern.search(line)\n",
    "                if match:\n",
    "                    band_index = int(match.group(1))\n",
    "                    value = float(match.group(2))\n",
    "                    corrected_value = value\n",
    "                    E_TOA.append(corrected_value)\n",
    "\n",
    "        # Retourner les valeurs triées par index de bande\n",
    "        return E_TOA\n",
    "    except :\n",
    "\n",
    "        raise ValueError(\"Valeurs d'irradiance non trouvées.\")"
   ]
  },
  {
   "cell_type": "code",
   "execution_count": 37,
   "metadata": {},
   "outputs": [],
   "source": [
    "l=EXTRACT_TOA('/home/fayari/DART1425/user_data/simulations/RTM_reference0/output/simulation.properties.txt', 88)"
   ]
  },
  {
   "cell_type": "code",
   "execution_count": 38,
   "metadata": {},
   "outputs": [
    {
     "data": {
      "text/plain": [
       "[1921.26977816301,\n",
       " 1840.20275460276,\n",
       " 290.461254333333,\n",
       " 243.442309195578,\n",
       " 199.787083429422,\n",
       " 162.797013470238,\n",
       " 131.847675860806,\n",
       " 110.763277702871,\n",
       " 92.06710086145,\n",
       " 77.6183513374968,\n",
       " 65.0393254378777,\n",
       " 55.1663670090226,\n",
       " 1555.2651734882,\n",
       " 1235.76509753992,\n",
       " 974.443339604039,\n",
       " 765.065122106834,\n",
       " 612.546211593408,\n",
       " 499.908084317704,\n",
       " 415.038298408994,\n",
       " 346.727296298942]"
      ]
     },
     "execution_count": 38,
     "metadata": {},
     "output_type": "execute_result"
    }
   ],
   "source": [
    "l"
   ]
  },
  {
   "cell_type": "code",
   "execution_count": null,
   "metadata": {},
   "outputs": [],
   "source": []
  }
 ],
 "metadata": {
  "kernelspec": {
   "display_name": "myptd",
   "language": "python",
   "name": "python3"
  },
  "language_info": {
   "codemirror_mode": {
    "name": "ipython",
    "version": 3
   },
   "file_extension": ".py",
   "mimetype": "text/x-python",
   "name": "python",
   "nbconvert_exporter": "python",
   "pygments_lexer": "ipython3",
   "version": "3.11.11"
  }
 },
 "nbformat": 4,
 "nbformat_minor": 2
}
