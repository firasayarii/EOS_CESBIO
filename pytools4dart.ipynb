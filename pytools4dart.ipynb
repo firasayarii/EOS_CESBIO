{
 "cells": [
  {
   "cell_type": "markdown",
   "metadata": {},
   "source": [
    "## Create new simu :"
   ]
  },
  {
   "cell_type": "code",
   "execution_count": 2,
   "metadata": {},
   "outputs": [],
   "source": [
    "import pytools4dart as ptd"
   ]
  },
  {
   "cell_type": "code",
   "execution_count": 5,
   "metadata": {},
   "outputs": [
    {
     "name": "stdout",
     "output_type": "stream",
     "text": [
      "\n",
      "Simulation 'new_sim': passive\n",
      "\n",
      "Light propagation: bi-directional\n",
      "__________________________________\n",
      "Sensor\n",
      "========\n",
      "number of bands: 0\n",
      "pixel size: 1.0\n",
      "\n",
      "Scene\n",
      "========\n",
      "scene size : [40.0, 40.0]\n",
      "cell size : [1.0, 1.0]\n",
      "scene periodicity: 1\n",
      "ground:\n",
      "\tOptical property: Lambertian_Phase_Function_1\n",
      "\tThermal property: Temperature_290_310\n",
      "number of plots : 0\n",
      "plot file:\n",
      "\tpath: None\n",
      "\tnumber of plots: 0\n",
      "number of object 3D : 0\n",
      "number of tree species : 0\n",
      "tree file:\n",
      "\tpath: None\n",
      "\tnumber of trees: 0\n",
      "number of optical properties : 1\n",
      "number of thermal properties : 1\n",
      "\n",
      "Source\n",
      "========\n",
      "sun viewing angles (Azimuth, Zenith) : [225.0, 30.0]\n",
      "\n",
      "Sequences\n",
      "=========\n",
      "number of sequences: 0\n",
      "\n",
      "__________________________________\n",
      "\n"
     ]
    }
   ],
   "source": [
    "import pytools4dart as ptd\n",
    "simu = ptd.simulation('new_sim', empty=True)\n",
    "print(simu)"
   ]
  },
  {
   "cell_type": "markdown",
   "metadata": {},
   "source": [
    "## Load a simulation :"
   ]
  },
  {
   "cell_type": "code",
   "execution_count": 4,
   "metadata": {},
   "outputs": [
    {
     "name": "stdout",
     "output_type": "stream",
     "text": [
      "\n",
      "Simulation 'Analytic': passive\n",
      "\n",
      "Light propagation: bi-directional\n",
      "__________________________________\n",
      "Sensor\n",
      "========\n",
      "number of bands: 4\n",
      "pixel size: 1.0\n",
      "\n",
      "Scene\n",
      "========\n",
      "scene size : [40.0, 40.0]\n",
      "cell size : [1.0, 1.0]\n",
      "scene periodicity: 1\n",
      "ground:\n",
      "\tOptical property: ground\n",
      "\tThermal property: Temperature_290_310\n",
      "number of plots : 0\n",
      "plot file:\n",
      "\tpath: None\n",
      "\tnumber of plots: 0\n",
      "number of object 3D : 0\n",
      "number of tree species : 0\n",
      "tree file:\n",
      "\tpath: None\n",
      "\tnumber of trees: 0\n",
      "number of optical properties : 1\n",
      "number of thermal properties : 1\n",
      "\n",
      "Source\n",
      "========\n",
      "sun viewing angles (Azimuth, Zenith) : [225.0, 45.0]\n",
      "\n",
      "Sequences\n",
      "=========\n",
      "number of sequences: 0\n",
      "\n",
      "__________________________________\n",
      "\n"
     ]
    }
   ],
   "source": [
    "simu_test = ptd.simulation('Analytic')\n",
    "print(simu_test) # display summary of simulation"
   ]
  },
  {
   "cell_type": "markdown",
   "metadata": {},
   "source": [
    "## Compare simulations :"
   ]
  },
  {
   "cell_type": "code",
   "execution_count": 6,
   "metadata": {},
   "outputs": [
    {
     "name": "stdout",
     "output_type": "stream",
     "text": [
      "--- RTM_reference\n",
      "+++ Analytic\n",
      " \n",
      "-Simulation 'RTM_reference': passive\n",
      "+Simulation 'Analytic': passive\n",
      " \n",
      " Light propagation: bi-directional\n",
      " __________________________________\n",
      " Sensor\n",
      " ========\n",
      "-number of bands: 0\n",
      "+number of bands: 4\n",
      " pixel size: 1.0\n",
      " \n",
      " Scene\n",
      " cell size : [1.0, 1.0]\n",
      " scene periodicity: 1\n",
      " ground:\n",
      "-\tOptical property: Lambertian_Phase_Function_1\n",
      "+\tOptical property: ground\n",
      " \tThermal property: Temperature_290_310\n",
      " number of plots : 0\n",
      " plot file:\n",
      " \n",
      " Source\n",
      " ========\n",
      "-sun viewing angles (Azimuth, Zenith) : [225.0, 30.0]\n",
      "+sun viewing angles (Azimuth, Zenith) : [225.0, 45.0]\n",
      " \n",
      " Sequences\n",
      " =========\n",
      "\n"
     ]
    },
    {
     "data": {
      "text/plain": [
       "\"\\x1b[31m--- RTM_reference\\n\\x1b[39m\\x1b[32m+++ Analytic\\n\\x1b[39m \\n\\x1b[31m-Simulation 'RTM_reference': passive\\n\\x1b[39m\\x1b[32m+Simulation 'Analytic': passive\\n\\x1b[39m \\n Light propagation: bi-directional\\n __________________________________\\n Sensor\\n ========\\n\\x1b[31m-number of bands: 0\\n\\x1b[39m\\x1b[32m+number of bands: 4\\n\\x1b[39m pixel size: 1.0\\n \\n Scene\\n cell size : [1.0, 1.0]\\n scene periodicity: 1\\n ground:\\n\\x1b[31m-\\tOptical property: Lambertian_Phase_Function_1\\n\\x1b[39m\\x1b[32m+\\tOptical property: ground\\n\\x1b[39m \\tThermal property: Temperature_290_310\\n number of plots : 0\\n plot file:\\n \\n Source\\n ========\\n\\x1b[31m-sun viewing angles (Azimuth, Zenith) : [225.0, 30.0]\\n\\x1b[39m\\x1b[32m+sun viewing angles (Azimuth, Zenith) : [225.0, 45.0]\\n\\x1b[39m \\n Sequences\\n =========\\n\""
      ]
     },
     "execution_count": 6,
     "metadata": {},
     "output_type": "execute_result"
    }
   ],
   "source": [
    "simu1 = ptd.simulation('RTM_reference', empty=True)\n",
    "simu2 = ptd.simulation('Analytic')\n",
    "ptd.diff(simu1, simu2)\n"
   ]
  },
  {
   "cell_type": "markdown",
   "metadata": {},
   "source": [
    "## Simulation attributes and methods :"
   ]
  },
  {
   "cell_type": "code",
   "execution_count": 1,
   "metadata": {},
   "outputs": [],
   "source": [
    "import pytools4dart as ptd\n",
    "\n",
    "# Load simulation 'simulationTest'\n",
    "simu = ptd.simulation('RTM_reference')"
   ]
  },
  {
   "cell_type": "code",
   "execution_count": 2,
   "metadata": {},
   "outputs": [
    {
     "data": {
      "text/plain": [
       "['method', 'propagation', 'input_dir', 'output_dir', 'simu_dir', 'ncpu']"
      ]
     },
     "execution_count": 2,
     "metadata": {},
     "output_type": "execute_result"
    }
   ],
   "source": [
    "# Show object properties, i.e. attributes with specific getter/setter\n",
    "[v for v in vars(type(simu))\n",
    "    if isinstance(getattr(type(simu), v), property)]"
   ]
  },
  {
   "cell_type": "code",
   "execution_count": 3,
   "metadata": {},
   "outputs": [
    {
     "data": {
      "text/plain": [
       "'passive'"
      ]
     },
     "execution_count": 3,
     "metadata": {},
     "output_type": "execute_result"
    }
   ],
   "source": [
    "simu.method"
   ]
  },
  {
   "cell_type": "code",
   "execution_count": 4,
   "metadata": {},
   "outputs": [
    {
     "data": {
      "text/plain": [
       "'bi-directional'"
      ]
     },
     "execution_count": 4,
     "metadata": {},
     "output_type": "execute_result"
    }
   ],
   "source": [
    "simu.propagation"
   ]
  },
  {
   "cell_type": "code",
   "execution_count": 5,
   "metadata": {},
   "outputs": [
    {
     "data": {
      "text/plain": [
       "Path('/home/fayari/DART/user_data/simulations/RTM_reference/input')"
      ]
     },
     "execution_count": 5,
     "metadata": {},
     "output_type": "execute_result"
    }
   ],
   "source": [
    "simu.input_dir"
   ]
  },
  {
   "cell_type": "code",
   "execution_count": 6,
   "metadata": {},
   "outputs": [
    {
     "data": {
      "text/plain": [
       "Path('/home/fayari/DART/user_data/simulations/RTM_reference')"
      ]
     },
     "execution_count": 6,
     "metadata": {},
     "output_type": "execute_result"
    }
   ],
   "source": [
    "simu.simu_dir"
   ]
  },
  {
   "cell_type": "code",
   "execution_count": 7,
   "metadata": {},
   "outputs": [
    {
     "data": {
      "text/plain": [
       "8"
      ]
     },
     "execution_count": 7,
     "metadata": {},
     "output_type": "execute_result"
    }
   ],
   "source": [
    "simu.ncpu"
   ]
  },
  {
   "cell_type": "code",
   "execution_count": 59,
   "metadata": {},
   "outputs": [
    {
     "data": {
      "text/plain": [
       "<pytools4dart.core_ui.maket.create_Soil at 0x796e4f98e890>"
      ]
     },
     "execution_count": 59,
     "metadata": {},
     "output_type": "execute_result"
    }
   ],
   "source": [
    "simu.scene.ground"
   ]
  },
  {
   "cell_type": "code",
   "execution_count": 63,
   "metadata": {},
   "outputs": [
    {
     "data": {
      "text/plain": [
       "['size',\n",
       " 'cell',\n",
       " 'periodicity',\n",
       " 'ground',\n",
       " 'plots',\n",
       " 'object3D',\n",
       " 'tree_species',\n",
       " 'properties']"
      ]
     },
     "execution_count": 63,
     "metadata": {},
     "output_type": "execute_result"
    }
   ],
   "source": [
    "# Show object properties, i.e. attributes with specific getter/setter\n",
    "[v for v in vars(type(simu.scene))\n",
    "    if isinstance(getattr(type(simu.scene), v), property)]"
   ]
  },
  {
   "cell_type": "code",
   "execution_count": 62,
   "metadata": {},
   "outputs": [
    {
     "data": {
      "text/plain": [
       "['summary',\n",
       " 'get_input_file_path',\n",
       " 'get_database_dir',\n",
       " 'write',\n",
       " 'getsimupath',\n",
       " 'getinputsimupath']"
      ]
     },
     "execution_count": 62,
     "metadata": {},
     "output_type": "execute_result"
    }
   ],
   "source": [
    "# Show object methods\n",
    "[v for v in vars(type(simu))\n",
    "    if callable(getattr(type(simu), v)) and\n",
    "    not v.startswith('_')]"
   ]
  },
  {
   "cell_type": "code",
   "execution_count": 9,
   "metadata": {},
   "outputs": [
    {
     "name": "stdout",
     "output_type": "stream",
     "text": [
      "\n",
      "Simulation 'RTM_reference': passive\n",
      "\n",
      "Light propagation: bi-directional\n",
      "__________________________________\n",
      "Sensor\n",
      "========\n",
      "number of bands: 4\n",
      "pixel size: 1.0\n",
      "\n",
      "Scene\n",
      "========\n",
      "scene size : [40.0, 40.0]\n",
      "cell size : [1.0, 1.0]\n",
      "scene periodicity: 1\n",
      "ground:\n",
      "\tOptical property: r=0.1\n",
      "\tThermal property: Temperature_290_310\n",
      "number of plots : 0\n",
      "plot file:\n",
      "\tpath: None\n",
      "\tnumber of plots: 0\n",
      "number of object 3D : 0\n",
      "number of tree species : 0\n",
      "tree file:\n",
      "\tpath: None\n",
      "\tnumber of trees: 0\n",
      "number of optical properties : 1\n",
      "number of thermal properties : 1\n",
      "\n",
      "Source\n",
      "========\n",
      "sun viewing angles (Azimuth, Zenith) : [225.0, 44.0]\n",
      "\n",
      "Sequences\n",
      "=========\n",
      "number of sequences: 0\n",
      "\n",
      "__________________________________\n",
      "\n"
     ]
    }
   ],
   "source": [
    "simu.summary()"
   ]
  },
  {
   "cell_type": "code",
   "execution_count": 10,
   "metadata": {},
   "outputs": [
    {
     "name": "stderr",
     "output_type": "stream",
     "text": [
      "/tmp/ipykernel_20127/3126513969.py:1: DeprecationWarning: Function getsimupath is deprecated. Use property simu_dir instead.\n",
      "  simu.getsimupath()\n"
     ]
    },
    {
     "data": {
      "text/plain": [
       "Path('/home/fayari/DART/user_data/simulations/RTM_reference')"
      ]
     },
     "execution_count": 10,
     "metadata": {},
     "output_type": "execute_result"
    }
   ],
   "source": [
    "simu.getsimupath()"
   ]
  },
  {
   "cell_type": "code",
   "execution_count": 11,
   "metadata": {},
   "outputs": [
    {
     "name": "stderr",
     "output_type": "stream",
     "text": [
      "/tmp/ipykernel_20127/2549407258.py:1: DeprecationWarning: Function getinputsimupath is deprecated. Use property input_dir instead.\n",
      "  simu.getinputsimupath()\n"
     ]
    },
    {
     "data": {
      "text/plain": [
       "Path('/home/fayari/DART/user_data/simulations/RTM_reference/input')"
      ]
     },
     "execution_count": 11,
     "metadata": {},
     "output_type": "execute_result"
    }
   ],
   "source": [
    "simu.getinputsimupath()"
   ]
  },
  {
   "cell_type": "markdown",
   "metadata": {},
   "source": [
    "### run simulation :"
   ]
  },
  {
   "cell_type": "code",
   "execution_count": 33,
   "metadata": {},
   "outputs": [
    {
     "name": "stdout",
     "output_type": "stream",
     "text": [
      "Running XML upgrader\n",
      "Done\n",
      "'XMLUpgrader.sh' finished\n",
      "******************************************************************\n",
      "               Directions Module   5.10.10 (2025/02/26 v1420)\n",
      "\n",
      " - System memory (free/total) : 26.246GB / 31.228GB\n",
      "\n",
      " - Reading directions.xml............................\n",
      "   -> Reading SUN Direction.......\n",
      "   -> Reading additional spot 0.......\n",
      "   -> The defined number of directions (calibrated): 100\n",
      "   -> Upper sphere number Of directions : 50\n",
      "   -> Estimated number of layers : 5\n",
      "\n",
      " - Initializing the direction list............................\n",
      "   -> The calculation method is 0:\n",
      "       FLUX TRACKING method is used, and \"Virtual\" property is defined for additional spots.\n",
      "\n",
      " - Adding the other spots............................\n",
      "   -> Spot 0:       Centers (t/p): 0.000/0.000 (rad);          Omega: 0.001\n",
      "\n",
      " - Generating angular sectors............................\n",
      "   -> Defined number of angular sectors: 10\n",
      "   -> Number of refined angular sectors: 10\n",
      "\n",
      " - Information of output direction list............................ \n",
      "   -> The Number Of Total Directions : 101\n",
      "   -> The Total Omega (Upper Sphere) : 6.283\n",
      "   -> The Total Cosine Theta Times Delta Omega Of NON-Virtual Directions (Upper Sphere) : 3.142 \n",
      "\n",
      " - Writing to /home/fayari/DART/user_data/simulations/RTM_reference/output/directions.txt............................\n",
      " - Writing to /home/fayari/DART/user_data/simulations/RTM_reference/output/simulation.properties.txt............................\n",
      "******************************************************************\n",
      "'directions.exe' finished\n",
      "'dart-direction.sh' finished\n",
      "           DartHapke 1.0\n",
      " **************************************************\n",
      "'DartHapke' finished\n",
      "\n",
      "              Cover Map Module     5.10.10\n",
      "\n",
      "  - Collecting the information.\n",
      "******************** NO WORKING DATA FOUND *********************\n",
      "\n",
      "**************** EXECUTION COMPLETED SUCCESSFULLY ****************\n",
      "\n",
      "'DartVegetation' finished\n",
      "'troisdversturbide.main.Generation' finished\n",
      "\n",
      "               PHASE Module   5.10.10 (2025/02/26 v1420)\n",
      "\n",
      " - System memory (free/total) : 26.225GB / 31.228GB\n",
      "\n",
      " - Atmosphere processing :\n",
      "   -> Reading atmosphere.xml\n",
      "\t- Spectral irradiance (database) - TOA or BOA (+ SKYL)\n",
      "   -> Loading atmosphere parameters..\n",
      "   -> with database\n",
      "   -> number of aerosol  1\n",
      "   -> Writing netcdf file: /home/fayari/DART/user_data/simulations/RTM_reference/output/atmosphere.nc\n",
      "    Number of divisions for aerosol phase function for each incident and outgoing directions: 6.\n",
      "    Discrete direction index assigned for solar aerosol forward scattering: 84\n",
      "      Virtual direction indices and their corresponding incident and outgoing discrete direction indices \n",
      "    for forward-scattering aerosol phase function interpolation: \n",
      "      1    0    0\n",
      "  -> Atmosphere Processing Time : 0 hours 0 minutes 3  seconds\n",
      " - End of Atmosphere processing\n",
      "    -> 0 vegetation phase function.\n",
      "\t40.000 %   -> Processing Time : 3  seconds\n",
      " -> Writing LuxCoreRender configuration files\n",
      " - End of phase function generation.\n",
      "  -> Processing Time : 0 hours 0 minutes 3  seconds\n",
      "\n",
      " **************************************************\n",
      "\n",
      "'phase.exe' finished\n",
      "'troisdversturbide.main.Suppression' finished\n",
      "'dart-phase.sh' finished\n",
      "    No DEM creation require in this simulation.\n",
      " **************************************************\n",
      "'DartMNT' finished\n",
      "\n",
      " *********** TriangleFileProcessor ***************\n",
      "                       Version 5.10.10                         \n",
      "   Program launched on Sun Mar 16 15:06:28 CET 2025\n",
      "\n",
      " - Generation of the colors palets.\n",
      " - Objects 3D pre-processing.\n",
      " - Triangle files generation.\n",
      "   -> 0 3D objects have been generated.\n",
      "\n",
      " - Processing Time : 0 hours 0 minutes 1  seconds\n",
      " ***************************************************\n",
      "'Dart3DObjectFileProcessor' finished\n",
      " **************************************************\n",
      "         Maket Module 5.10.10 (2025/02/26 v1420)\n",
      "\n",
      " - System memory (free/total) : 26.237GB / 31.228GB\n",
      "\n",
      " * Reading entry parameters:\n",
      "  -> The scene is in repetitive mode\n",
      " * Reading of entry parameters done.\n",
      "\n",
      " * Processing the data:\n",
      "  -> Estimated scene height: 0.000000000m\n",
      "  -> Processing ground\n",
      "  -> Processing 3D objects\n",
      "  -> Processing Plots\n",
      "    - No plots have been defined.\n",
      "  -> Processing buildings\n",
      "  -> Processing small walls\n",
      "  -> Processing trees\n",
      "    - No trees have been defined.\n",
      " - Writing LuxCoreRender PLY files\n",
      "  -> 2 surfaces created.\n",
      "  -> Final scene height: 0.000000000m\n",
      " * Data processing done.\n",
      "\n",
      "\n",
      " - Processing Time : 0 hours 0 minutes 0  seconds\n",
      " **************************************************\n",
      "'maket.exe' finished\n",
      " **************************************************\n",
      "         Atmosphere Creation Module 5.10.10 (2025/02/26 v1420)\n",
      "\n",
      " - System memory (free/total) : 26.243GB / 31.228GB\n",
      "\n",
      " - Loading XMLs\n",
      " - Loading properties file\n",
      " - Loading atmosphere file: /home/fayari/DART/user_data/simulations/RTM_reference/output/atmosphere.nc\n",
      " - Number of aerosol: 1\n",
      " - Number of points interpolated for normalization: 1001\n",
      "   -> Corrected sensor height : 3.332000000 km  (layer 4  in MA)\n",
      "   -> Atmosphere dimensions : \n",
      "     -> Altitude of the fictive layers \t: BA: 0.000000000   \tMA: 6.664000000   \tHA: 99.997333333\t [km]\n",
      "     -> Number of layers \t\t: BA: 0   \tMA: 8   \tHA: 9\n",
      "     -> Number of MA horizontal cells \t:  X: 1   \tY: 1\n",
      "   -> Writing netcdf file: /home/fayari/DART/user_data/simulations/RTM_reference/output/atmosphereMaket.nc\n",
      " - Processing Time : 0 hours 0 minutes 0  seconds\n",
      " **************************************************\n",
      "'atmosphereMaket.exe' finished\n",
      "'dart-maket.sh' finished\n",
      " **************************************************\n",
      "         DART Module 5.10.10 (2025/02/26 v1420)\n",
      "\n",
      " - System memory (free/total) : 26.243GB / 31.228GB\n",
      "\n",
      " - simulation name : RTM_reference\n",
      " - Loading Atmosphere file: /home/fayari/DART/user_data/simulations/RTM_reference/output/atmosphereMaket.nc\n",
      " - Loading Atmosphere file: /home/fayari/DART/user_data/simulations/RTM_reference/output/atmosphere.nc\n",
      "   - Creating atmosphere in MA as homogeneous layers. \n",
      "   - Creating atmosphere in HA as homogeneous layers. \n",
      "\n",
      " - Atmos FT Stage 1/5: Illumination stage: computation of TOA and BOA atmospheric irradiance.\n",
      "\n",
      "   * TOA direct (sun direction)          * (1069.658, 1348.097, 1110.425, 525.291)\n",
      "   * BOA direct (sun direction)          * (350.267, 717.072, 702.945, 421.836)\n",
      "   * BOA diffuse                         * (448.875, 432.690, 305.288, 81.694)\n",
      "   * Sensor direct (sun direction)       * (682.785, 1084.685, 967.953, 501.041)\n",
      "   * Sensor diffuse                      * (244.055, 145.760, 85.217, 18.505)\n",
      "   * BOA diffuse radiance (anisotropic)  * \n",
      "                                         * direction index: 51 (122.547, 129.880, 57.521, 10.773)\n",
      "                                         * direction index: 52 (163.980, 203.174, 93.712, 19.267)\n",
      "                                         * direction index: 53 (182.733, 238.450, 111.416, 23.767)\n",
      "                                         * direction index: 54 (152.651, 182.803, 83.356, 16.784)\n",
      "                                         * direction index: 55 (114.490, 115.665, 51.111, 9.291)\n",
      "                                         * direction index: 56 (92.242, 78.595, 34.558, 5.645)\n",
      "                                         * direction index: 57 (80.793, 60.404, 26.674, 3.975)\n",
      "                                         * direction index: 58 (76.462, 52.566, 23.548, 3.260)\n",
      "                                         * direction index: 59 (76.754, 50.582, 23.192, 3.048)\n",
      "                                         * direction index: 60 (79.016, 51.278, 24.038, 3.066)\n",
      "                                         * direction index: 61 (80.733, 52.204, 24.767, 3.120)\n",
      "                                         * direction index: 62 (80.450, 52.039, 24.643, 3.110)\n",
      "                                         * direction index: 63 (78.396, 50.990, 23.782, 3.051)\n",
      "                                         * direction index: 64 (76.382, 50.722, 23.104, 3.071)\n",
      "                                         * direction index: 65 (77.029, 53.889, 24.013, 3.382)\n",
      "                                         * direction index: 66 (82.928, 63.878, 28.126, 4.287)\n",
      "                                         * direction index: 67 (96.673, 85.883, 37.707, 6.330)\n",
      "                                         * direction index: 68 (164.895, 167.018, 69.547, 13.989)\n",
      "                                         * direction index: 69 (437.981, 575.921, 327.111, 82.271)\n",
      "                                         * direction index: 70 (394.191, 511.312, 280.159, 68.996)\n",
      "                                         * direction index: 71 (153.214, 148.782, 61.212, 11.987)\n",
      "                                         * direction index: 72 (97.393, 68.475, 26.001, 4.192)\n",
      "                                         * direction index: 73 (77.863, 44.270, 16.493, 2.292)\n",
      "                                         * direction index: 74 (69.741, 35.019, 12.955, 1.620)\n",
      "                                         * direction index: 75 (67.472, 31.767, 11.778, 1.370)\n",
      "                                         * direction index: 76 (67.827, 31.104, 11.610, 1.295)\n",
      "                                         * direction index: 77 (68.235, 31.100, 11.643, 1.283)\n",
      "                                         * direction index: 78 (67.747, 31.119, 11.606, 1.299)\n",
      "                                         * direction index: 79 (67.533, 31.953, 11.836, 1.386)\n",
      "                                         * direction index: 80 (70.279, 35.665, 13.189, 1.666)\n",
      "                                         * direction index: 81 (79.274, 45.936, 17.112, 2.413)\n",
      "                                         * direction index: 82 (100.809, 73.154, 27.813, 4.578)\n",
      "                                         * direction index: 83 (243.600, 286.025, 141.610, 32.331)\n",
      "                                         * direction index: 84 (1400.287, 1634.570, 1867.311, 583.001)\n",
      "                                         * direction index: 85 (211.118, 237.885, 114.958, 25.358)\n",
      "                                         * direction index: 86 (83.182, 58.856, 22.365, 3.828)\n",
      "                                         * direction index: 87 (61.341, 32.620, 11.937, 1.709)\n",
      "                                         * direction index: 88 (54.186, 25.158, 9.097, 1.170)\n",
      "                                         * direction index: 89 (52.136, 22.959, 8.267, 1.011)\n",
      "                                         * direction index: 90 (52.214, 23.043, 8.298, 1.017)\n",
      "                                         * direction index: 91 (54.484, 25.483, 9.214, 1.193)\n",
      "                                         * direction index: 92 (62.360, 33.725, 12.347, 1.788)\n",
      "                                         * direction index: 93 (86.391, 63.229, 24.089, 4.206)\n",
      "                                         * direction index: 94 (157.104, 166.042, 77.484, 16.489)\n",
      "                                         * direction index: 95 (103.564, 93.296, 38.845, 7.696)\n",
      "                                         * direction index: 96 (58.648, 34.235, 12.686, 1.978)\n",
      "                                         * direction index: 97 (50.179, 25.034, 9.135, 1.280)\n",
      "                                         * direction index: 98 (52.605, 27.558, 10.094, 1.465)\n",
      "                                         * direction index: 99 (71.629, 50.302, 19.092, 3.322)\n",
      "                                         * direction index: 100 (64.607, 43.140, 16.277, 2.762)\n",
      " - Atmos FT Stage 2/5: Landscape Radiative Transfer\n",
      " - Loading Scene (Triangles, Materials, Cameras...)\n",
      "    -> number of DART hemisphere directions: 50\n",
      "    -> DART BOA diffuse irradiance: 317.137 [W/m2/um]\n",
      "    (BOA diffuse irradiance after resampling: 317.200 [W/m2/um])\n",
      " - Loading LuxCoreRender configuration\n",
      " - Elapsed time: 1sec/60sec; Samples per direction: 7/50; Avg. samples/sec: 0.234M\n",
      " - Elapsed time: 2sec/60sec; Samples per direction: 14/50; Avg. samples/sec: 0.230M\n",
      " - Elapsed time: 3sec/60sec; Samples per direction: 21/50; Avg. samples/sec: 0.231M\n",
      " - Elapsed time: 4sec/60sec; Samples per direction: 28/50; Avg. samples/sec: 0.231M\n",
      " - Elapsed time: 5sec/60sec; Samples per direction: 35/50; Avg. samples/sec: 0.231M\n",
      "     -> Memory : 0.142GB (152174592)\n",
      " - Elapsed time: 6sec/60sec; Samples per direction: 42/50; Avg. samples/sec: 0.230M\n",
      " - Elapsed time: 7sec/60sec; Samples per direction: 49/50; Avg. samples/sec: 0.230M\n",
      " - Elapsed time: 8sec/60sec; Samples per direction: 57/50; Avg. samples/sec: 0.232M\n",
      " - Elapsed time: 9sec/60sec; Samples per direction: 57/50; Avg. samples/sec: 0.206M\n",
      " - Elapsed time: 9.018sec/60sec; Samples per direction: 57/50; Avg. samples/sec: 0.206M\n",
      "     -> Memory : 0.142GB (152174592)\n",
      "   * BOA exitance before coupling         * (159.804, 229.894, 201.600, 100.676)\n",
      "   * albedo                               * (0.200, 0.200, 0.200, 0.200)\n",
      " - Atmos FT Stage 3/5: Atmosphere backscattering down to the landscape of the upward radiation calculated at stage 2.\n",
      "\n",
      "     *** Coupling computation *** \n",
      "     - computation of direct and/or diffuse transfer functions from BOA to TOA(up), sensor(up and down), and BOA(down) \n",
      "        ...0%     -> Processing Time : 0 hours 0 minutes 10  seconds\n",
      "        ...10%     -> Processing Time : 0 hours 0 minutes 10  seconds\n",
      "        ...20%     -> Processing Time : 0 hours 0 minutes 11  seconds\n",
      "        ...30%     -> Processing Time : 0 hours 0 minutes 11  seconds\n",
      "        ...40%     -> Processing Time : 0 hours 0 minutes 11  seconds\n",
      "        ...50%     -> Processing Time : 0 hours 0 minutes 13  seconds\n",
      "        ...60%     -> Processing Time : 0 hours 0 minutes 13  seconds\n",
      "        ...70%     -> Processing Time : 0 hours 0 minutes 14  seconds\n",
      "        ...80%     -> Processing Time : 0 hours 0 minutes 14  seconds\n",
      "        ...90%     -> Processing Time : 0 hours 0 minutes 15  seconds\n",
      "        ...100%     -> Processing Time : 0 hours 0 minutes 15  seconds\n",
      "     - end of computation of transfer functions\n",
      "        - wavelength number 0 :facteur_extrapol[band 0]: 0.051\n",
      "        - SKYL = 58.213\n",
      "        - wavelength number 1 :facteur_extrapol[band 1]: 0.024\n",
      "        - SKYL = 39.039\n",
      "        - wavelength number 2 :facteur_extrapol[band 2]: 0.012\n",
      "        - SKYL = 31.128\n",
      "        - wavelength number 3 :facteur_extrapol[band 3]: 0.004\n",
      "        - SKYL = 16.567\n",
      "     -> Processing Time : 0 hours 0 minutes 16  seconds\n",
      "\n",
      "     -> Coupling Extrapolation factor: (0.0514036, 0.0236173, 0.012468, 0.00410834)\n",
      "   * BOA backscattered irradiance        * (41.07873, 27.15427, 12.57067, 2.06867)\n",
      "   * BOA backscattered radiance          * \n",
      "                                         * direction index: 51 (24.96161, 25.41660, 14.33619, 3.16228)\n",
      "                                         * direction index: 52 (24.95987, 25.41175, 14.33512, 3.16107)\n",
      "                                         * direction index: 53 (24.96195, 25.41794, 14.34689, 3.16632)\n",
      "                                         * direction index: 54 (24.96232, 25.41109, 14.33860, 3.16103)\n",
      "                                         * direction index: 55 (24.96196, 25.40804, 14.33317, 3.15814)\n",
      "                                         * direction index: 56 (24.96483, 25.42228, 14.34663, 3.16546)\n",
      "                                         * direction index: 57 (24.96624, 25.42855, 14.35172, 3.16859)\n",
      "                                         * direction index: 58 (24.96127, 25.42020, 14.34425, 3.16749)\n",
      "                                         * direction index: 59 (24.95507, 25.40396, 14.33062, 3.16198)\n",
      "                                         * direction index: 60 (24.95559, 25.40022, 14.32917, 3.16015)\n",
      "                                         * direction index: 61 (24.95942, 25.40098, 14.33161, 3.15888)\n",
      "                                         * direction index: 62 (24.95988, 25.39215, 14.32084, 3.15196)\n",
      "                                         * direction index: 63 (24.96535, 25.40319, 14.33008, 3.15540)\n",
      "                                         * direction index: 64 (24.97193, 25.42423, 14.35007, 3.16458)\n",
      "                                         * direction index: 65 (24.96869, 25.42668, 14.34975, 3.16669)\n",
      "                                         * direction index: 66 (24.96528, 25.42624, 14.34716, 3.16746)\n",
      "                                         * direction index: 67 (24.96622, 25.42985, 14.35027, 3.16926)\n",
      "                                         * direction index: 68 (14.93401, 9.34755, 3.89469, 0.51653)\n",
      "                                         * direction index: 69 (14.93378, 9.34712, 3.89474, 0.51653)\n",
      "                                         * direction index: 70 (14.93374, 9.34692, 3.89469, 0.51649)\n",
      "                                         * direction index: 71 (14.93379, 9.34668, 3.89453, 0.51640)\n",
      "                                         * direction index: 72 (14.93382, 9.34742, 3.89494, 0.51655)\n",
      "                                         * direction index: 73 (14.93382, 9.34809, 3.89527, 0.51672)\n",
      "                                         * direction index: 74 (14.93332, 9.34737, 3.89491, 0.51667)\n",
      "                                         * direction index: 75 (14.93287, 9.34603, 3.89426, 0.51646)\n",
      "                                         * direction index: 76 (14.93295, 9.34539, 3.89394, 0.51628)\n",
      "                                         * direction index: 77 (14.93338, 9.34504, 3.89377, 0.51609)\n",
      "                                         * direction index: 78 (14.93412, 9.34555, 3.89405, 0.51607)\n",
      "                                         * direction index: 79 (14.93490, 9.34734, 3.89498, 0.51637)\n",
      "                                         * direction index: 80 (14.93507, 9.34848, 3.89555, 0.51663)\n",
      "                                         * direction index: 81 (14.93478, 9.34872, 3.89555, 0.51674)\n",
      "                                         * direction index: 82 (14.93452, 9.34854, 3.89533, 0.51672)\n",
      "                                         * direction index: 83 (10.55674, 5.48839, 2.21348, 0.26116)\n",
      "                                         * direction index: 84 (10.55651, 5.48814, 2.21335, 0.26113)\n",
      "                                         * direction index: 85 (10.55632, 5.48804, 2.21330, 0.26112)\n",
      "                                         * direction index: 86 (10.55620, 5.48815, 2.21335, 0.26114)\n",
      "                                         * direction index: 87 (10.55606, 5.48819, 2.21339, 0.26116)\n",
      "                                         * direction index: 88 (10.55598, 5.48803, 2.21334, 0.26114)\n",
      "                                         * direction index: 89 (10.55615, 5.48795, 2.21334, 0.26110)\n",
      "                                         * direction index: 90 (10.55651, 5.48809, 2.21344, 0.26109)\n",
      "                                         * direction index: 91 (10.55691, 5.48849, 2.21364, 0.26113)\n",
      "                                         * direction index: 92 (10.55705, 5.48875, 2.21372, 0.26118)\n",
      "                                         * direction index: 93 (10.55698, 5.48869, 2.21366, 0.26118)\n",
      "                                         * direction index: 94 (8.79395, 4.27799, 1.72854, 0.19533)\n",
      "                                         * direction index: 95 (8.79370, 4.27787, 1.72847, 0.19532)\n",
      "                                         * direction index: 96 (8.79357, 4.27790, 1.72850, 0.19533)\n",
      "                                         * direction index: 97 (8.79369, 4.27796, 1.72856, 0.19532)\n",
      "                                         * direction index: 98 (8.79401, 4.27813, 1.72866, 0.19533)\n",
      "                                         * direction index: 99 (8.79413, 4.27818, 1.72867, 0.19534)\n",
      "                                         * direction index: 100 (8.26566, 3.93946, 1.59345, 0.17750)\n",
      " - Atmos FT Stage 4/5: Landscape R.T. of the radiation that the atmosphere backscatters by at stage 3.\n",
      " - Update Session\n",
      "    -> number of DART hemisphere directions: 50\n",
      "    -> DART BOA diffuse irradiance: 20.71808 [W/m2/um]\n",
      "    (BOA diffuse irradiance after resampling: 20.72214 [W/m2/um])\n",
      " - Loading LuxCoreRender configuration\n",
      "call from LandscapeRT_stage4\n",
      " - Elapsed time: 1sec/60sec; Samples per direction: 6/50; Avg. samples/sec: 0.20606M\n",
      " - Elapsed time: 2sec/60sec; Samples per direction: 12/50; Avg. samples/sec: 0.20762M\n",
      " - Elapsed time: 3sec/60sec; Samples per direction: 19/50; Avg. samples/sec: 0.20863M\n",
      " - Elapsed time: 4sec/60sec; Samples per direction: 26/50; Avg. samples/sec: 0.21366M\n",
      " - Elapsed time: 5sec/60sec; Samples per direction: 33/50; Avg. samples/sec: 0.21544M\n",
      "     -> Memory : 0.198GB (212860928)\n",
      " - Elapsed time: 6sec/60sec; Samples per direction: 39/50; Avg. samples/sec: 0.214M\n",
      " - Elapsed time: 7sec/60sec; Samples per direction: 46/50; Avg. samples/sec: 0.214M\n",
      " - Elapsed time: 8sec/60sec; Samples per direction: 52/50; Avg. samples/sec: 0.213M\n",
      " - Elapsed time: 9sec/60sec; Samples per direction: 52/50; Avg. samples/sec: 0.190M\n",
      " - Elapsed time: 9.016sec/60sec; Samples per direction: 52/50; Avg. samples/sec: 0.190M\n",
      "     -> Memory : 0.198GB (212860928)\n",
      "   * BOA exitance after coupling          * (168.021, 235.326, 204.116, 101.090)\n",
      "   * albedo after coupling                * (0.200, 0.200, 0.200, 0.200)\n",
      " - Atmos FT Stage 5/5: Transfer of upward fluxes (stages 2 and 4) from the layer BOA to the TOA and Sensor layers.\n",
      "    Stage 5.1.1: Calculation of pure atmosphere scattering flux.\n",
      "    Stage 5.1.2: Calculation of direct transmitted flux through atmosphere from BOA.\n",
      "    Stage 5.1.3: Calculation of diffuse flux through atmosphere from BOA.\n",
      "   * TOA atmosphere exitance, direct exitance, diffuse radiance                 * \n",
      "                                          * direction index: 0 (4.655, 1.710, 0.656, 0.067) (2.271, 4.512, 4.437, 2.608) (68.702, 37.724, 20.955, 4.484)\n",
      "                                          * direction index: 1 (0.049, 0.018, 0.007, 0.001) (0.024, 0.048, 0.047, 0.028) (68.187, 37.441, 20.797, 4.449)\n",
      "                                          * direction index: 2 (5.361, 1.998, 0.744, 0.080) (2.615, 5.347, 5.311, 3.170) (66.142, 37.722, 21.212, 4.716)\n",
      "                                          * direction index: 3 (5.493, 2.038, 0.764, 0.081) (2.616, 5.338, 5.298, 3.155) (67.274, 38.060, 21.369, 4.717)\n",
      "                                          * direction index: 4 (6.172, 2.280, 0.876, 0.090) (2.622, 5.360, 5.326, 3.177) (73.105, 40.156, 22.358, 4.802)\n",
      "                                          * direction index: 5 (6.853, 2.544, 0.993, 0.100) (2.618, 5.349, 5.317, 3.168) (78.935, 42.406, 23.350, 4.881)\n",
      "                                          * direction index: 6 (6.586, 2.439, 0.947, 0.096) (2.623, 5.362, 5.325, 3.173) (76.649, 41.506, 22.952, 4.846)\n",
      "                                          * direction index: 7 (5.772, 2.133, 0.809, 0.084) (2.617, 5.345, 5.304, 3.160) (69.668, 38.875, 21.755, 4.745)\n",
      "                                          * direction index: 8 (4.935, 1.974, 0.718, 0.084) (1.754, 3.909, 4.006, 2.493) (73.963, 44.152, 24.822, 5.696)\n",
      "                                          * direction index: 9 (4.935, 1.972, 0.717, 0.084) (1.754, 3.905, 3.999, 2.486) (73.973, 44.115, 24.799, 5.686)\n",
      "                                          * direction index: 10 (5.010, 1.943, 0.714, 0.080) (1.750, 3.894, 3.989, 2.480) (74.748, 43.799, 24.750, 5.644)\n",
      "                                          * direction index: 11 (5.365, 2.028, 0.762, 0.081) (1.755, 3.904, 3.999, 2.485) (78.494, 44.709, 25.273, 5.662)\n",
      "                                          * direction index: 12 (6.055, 2.278, 0.877, 0.090) (1.759, 3.916, 4.009, 2.489) (85.754, 47.354, 26.508, 5.757)\n",
      "                                          * direction index: 13 (6.779, 2.566, 1.006, 0.101) (1.756, 3.910, 4.004, 2.489) (93.356, 50.361, 27.840, 5.870)\n",
      "                                          * direction index: 14 (7.074, 2.686, 1.059, 0.106) (1.751, 3.890, 3.980, 2.470) (96.434, 51.583, 28.342, 5.898)\n",
      "                                          * direction index: 15 (6.730, 2.546, 0.997, 0.100) (1.747, 3.880, 3.967, 2.461) (92.811, 50.098, 27.668, 5.831)\n",
      "                                          * direction index: 16 (5.991, 2.253, 0.866, 0.089) (1.750, 3.893, 3.984, 2.477) (85.050, 47.041, 26.326, 5.729)\n",
      "                                          * direction index: 17 (5.321, 2.014, 0.755, 0.081) (1.753, 3.895, 3.988, 2.474) (78.020, 44.531, 25.166, 5.641)\n",
      "                                          * direction index: 18 (4.996, 1.943, 0.713, 0.080) (1.754, 3.905, 4.003, 2.488) (74.608, 43.809, 24.761, 5.653)\n",
      "                                          * direction index: 19 (4.714, 2.251, 0.833, 0.109) (0.652, 1.855, 2.072, 1.453) (100.502, 64.819, 35.941, 8.499)\n",
      "                                          * direction index: 20 (4.796, 2.345, 0.868, 0.115) (0.653, 1.859, 2.080, 1.461) (101.812, 66.340, 36.547, 8.624)\n",
      "                                          * direction index: 21 (4.696, 2.230, 0.825, 0.107) (0.653, 1.856, 2.075, 1.455) (100.220, 64.481, 35.832, 8.481)\n",
      "                                          * direction index: 22 (4.533, 2.020, 0.748, 0.093) (0.653, 1.856, 2.076, 1.456) (97.589, 61.108, 34.596, 8.243)\n",
      "                                          * direction index: 23 (4.517, 1.892, 0.707, 0.082) (0.653, 1.860, 2.080, 1.459) (97.342, 59.066, 33.959, 8.086)\n",
      "                                          * direction index: 24 (4.786, 1.933, 0.737, 0.081) (0.652, 1.854, 2.075, 1.454) (101.667, 59.709, 34.409, 8.051)\n",
      "                                          * direction index: 25 (5.308, 2.122, 0.827, 0.087) (0.653, 1.854, 2.072, 1.449) (110.054, 62.744, 35.845, 8.139)\n",
      "                                          * direction index: 26 (5.883, 2.359, 0.935, 0.096) (0.652, 1.852, 2.070, 1.449) (119.293, 66.533, 37.573, 8.285)\n",
      "                                          * direction index: 27 (6.247, 2.514, 1.006, 0.103) (0.654, 1.861, 2.083, 1.460) (125.159, 69.046, 38.748, 8.407)\n",
      "                                          * direction index: 28 (6.224, 2.504, 1.001, 0.102) (0.651, 1.847, 2.063, 1.444) (124.766, 68.839, 38.588, 8.361)\n",
      "                                          * direction index: 29 (5.824, 2.334, 0.924, 0.095) (0.655, 1.864, 2.084, 1.459) (118.361, 66.151, 37.433, 8.282)\n",
      "                                          * direction index: 30 (5.242, 2.096, 0.815, 0.086) (0.652, 1.854, 2.070, 1.451) (108.985, 62.318, 35.638, 8.126)\n",
      "                                          * direction index: 31 (4.741, 1.920, 0.730, 0.080) (0.653, 1.855, 2.074, 1.454) (100.934, 59.475, 34.270, 8.039)\n",
      "                                          * direction index: 32 (4.506, 1.899, 0.708, 0.083) (0.651, 1.848, 2.065, 1.445) (97.140, 59.122, 33.896, 8.062)\n",
      "                                          * direction index: 33 (4.547, 2.042, 0.756, 0.094) (0.652, 1.857, 2.075, 1.456) (97.815, 61.461, 34.706, 8.269)\n",
      "                                          * direction index: 34 (2.994, 1.924, 0.894, 0.153) (0.012, 0.120, 0.211, 0.278) (161.689, 121.098, 71.749, 19.349)\n",
      "                                          * direction index: 35 (3.154, 2.162, 1.019, 0.184) (0.012, 0.120, 0.213, 0.280) (169.104, 132.133, 77.598, 20.832)\n",
      "                                          * direction index: 36 (3.127, 2.120, 0.997, 0.179) (0.012, 0.120, 0.213, 0.280) (167.859, 130.206, 76.592, 20.583)\n",
      "                                          * direction index: 37 (2.935, 1.841, 0.851, 0.143) (0.012, 0.120, 0.212, 0.277) (158.932, 117.229, 69.778, 18.865)\n",
      "                                          * direction index: 38 (2.709, 1.542, 0.699, 0.108) (0.012, 0.120, 0.212, 0.279) (148.453, 103.379, 62.759, 17.252)\n",
      "                                          * direction index: 39 (2.577, 1.352, 0.605, 0.085) (0.012, 0.120, 0.213, 0.281) (142.360, 94.597, 58.456, 16.267)\n",
      "                                          * direction index: 40 (2.613, 1.301, 0.582, 0.076) (0.012, 0.120, 0.213, 0.280) (144.008, 92.247, 57.351, 15.824)\n",
      "                                          * direction index: 41 (2.809, 1.369, 0.618, 0.076) (0.012, 0.120, 0.213, 0.280) (153.110, 95.376, 58.995, 15.838)\n",
      "                                          * direction index: 42 (3.082, 1.497, 0.683, 0.082) (0.012, 0.120, 0.211, 0.278) (165.742, 101.269, 61.976, 16.030)\n",
      "                                          * direction index: 43 (3.306, 1.609, 0.740, 0.087) (0.012, 0.120, 0.213, 0.280) (176.117, 106.489, 64.688, 16.324)\n",
      "                                          * direction index: 44 (3.376, 1.645, 0.759, 0.089) (0.012, 0.120, 0.212, 0.278) (179.359, 108.127, 65.489, 16.353)\n",
      "                                          * direction index: 45 (3.259, 1.585, 0.728, 0.086) (0.012, 0.120, 0.211, 0.277) (173.941, 105.361, 64.062, 16.197)\n",
      "                                          * direction index: 46 (3.010, 1.462, 0.665, 0.080) (0.012, 0.120, 0.213, 0.279) (162.425, 99.678, 61.220, 15.980)\n",
      "                                          * direction index: 47 (2.746, 1.343, 0.604, 0.076) (0.012, 0.121, 0.213, 0.281) (150.183, 94.170, 58.404, 15.809)\n",
      "                                          * direction index: 48 (2.586, 1.302, 0.581, 0.077) (0.012, 0.120, 0.212, 0.279) (142.773, 92.241, 57.304, 15.870)\n",
      "                                          * direction index: 49 (2.597, 1.388, 0.622, 0.090) (0.012, 0.121, 0.213, 0.281) (143.275, 96.260, 59.239, 16.467)\n",
      "                                          * direction index: 50 (2.763, 1.612, 0.734, 0.116) (0.012, 0.120, 0.213, 0.280) (150.966, 106.646, 64.400, 17.659)\n",
      "   * Sensor atmosphere exitance, direct exitance, diffuse radiance                 * \n",
      "                                          * direction index: 0 (1.665, 0.699, 0.254, 0.029) (3.138, 5.277, 4.898, 2.698) (34.330, 23.988, 14.325, 3.378)\n",
      "                                          * direction index: 1 (0.017, 0.007, 0.003, 0.000) (0.033, 0.056, 0.052, 0.029) (34.042, 23.792, 14.210, 3.350)\n",
      "                                          * direction index: 2 (2.015, 0.888, 0.309, 0.038) (3.710, 6.334, 5.911, 3.289) (34.861, 25.171, 15.030, 3.612)\n",
      "                                          * direction index: 3 (2.047, 0.889, 0.313, 0.038) (3.711, 6.324, 5.897, 3.273) (35.133, 25.178, 15.045, 3.602)\n",
      "                                          * direction index: 4 (2.229, 0.935, 0.340, 0.038) (3.719, 6.349, 5.928, 3.296) (36.711, 25.594, 15.307, 3.619)\n",
      "                                          * direction index: 5 (2.424, 1.005, 0.373, 0.040) (3.714, 6.336, 5.917, 3.287) (38.379, 26.178, 15.584, 3.632)\n",
      "                                          * direction index: 6 (2.347, 0.976, 0.360, 0.039) (3.721, 6.351, 5.927, 3.292) (37.719, 25.931, 15.467, 3.624)\n",
      "                                          * direction index: 7 (2.119, 0.903, 0.322, 0.038) (3.712, 6.332, 5.903, 3.279) (35.757, 25.301, 15.132, 3.603)\n",
      "                                          * direction index: 8 (2.015, 0.992, 0.331, 0.045) (2.692, 4.811, 4.568, 2.608) (41.309, 30.911, 18.140, 4.418)\n",
      "                                          * direction index: 9 (2.014, 0.989, 0.330, 0.044) (2.693, 4.806, 4.559, 2.601) (41.296, 30.869, 18.116, 4.410)\n",
      "                                          * direction index: 10 (2.003, 0.933, 0.315, 0.040) (2.687, 4.792, 4.548, 2.594) (41.176, 30.268, 17.945, 4.363)\n",
      "                                          * direction index: 11 (2.076, 0.909, 0.316, 0.038) (2.694, 4.805, 4.559, 2.600) (41.954, 30.037, 17.972, 4.340)\n",
      "                                          * direction index: 12 (2.265, 0.957, 0.344, 0.038) (2.701, 4.819, 4.571, 2.604) (43.957, 30.554, 18.284, 4.349)\n",
      "                                          * direction index: 13 (2.478, 1.034, 0.381, 0.041) (2.696, 4.812, 4.565, 2.603) (46.190, 31.356, 18.662, 4.373)\n",
      "                                          * direction index: 14 (2.567, 1.069, 0.397, 0.042) (2.688, 4.788, 4.538, 2.584) (47.101, 31.686, 18.783, 4.368)\n",
      "                                          * direction index: 15 (2.464, 1.029, 0.379, 0.041) (2.682, 4.775, 4.522, 2.574) (46.007, 31.246, 18.564, 4.345)\n",
      "                                          * direction index: 16 (2.247, 0.951, 0.341, 0.038) (2.686, 4.791, 4.543, 2.591) (43.731, 30.440, 18.193, 4.332)\n",
      "                                          * direction index: 17 (2.065, 0.908, 0.315, 0.038) (2.691, 4.793, 4.547, 2.588) (41.826, 29.998, 17.928, 4.327)\n",
      "                                          * direction index: 18 (2.002, 0.937, 0.316, 0.041) (2.692, 4.805, 4.564, 2.603) (41.172, 30.326, 17.976, 4.373)\n",
      "                                          * direction index: 19 (2.242, 1.346, 0.443, 0.065) (1.254, 2.545, 2.530, 1.556) (61.147, 48.552, 27.157, 6.665)\n",
      "                                          * direction index: 20 (2.301, 1.426, 0.470, 0.070) (1.255, 2.551, 2.540, 1.565) (62.108, 49.844, 27.620, 6.761)\n",
      "                                          * direction index: 21 (2.229, 1.328, 0.437, 0.064) (1.256, 2.547, 2.535, 1.559) (60.945, 48.266, 27.080, 6.652)\n",
      "                                          * direction index: 22 (2.097, 1.144, 0.377, 0.052) (1.255, 2.547, 2.535, 1.560) (58.818, 45.302, 26.113, 6.469)\n",
      "                                          * direction index: 23 (2.020, 1.000, 0.333, 0.043) (1.256, 2.552, 2.540, 1.563) (57.599, 43.003, 25.431, 6.330)\n",
      "                                          * direction index: 24 (2.061, 0.947, 0.323, 0.039) (1.254, 2.544, 2.535, 1.558) (58.249, 42.135, 25.250, 6.249)\n",
      "                                          * direction index: 25 (2.206, 0.974, 0.342, 0.038) (1.255, 2.544, 2.531, 1.553) (60.582, 42.552, 25.540, 6.232)\n",
      "                                          * direction index: 26 (2.383, 1.036, 0.373, 0.040) (1.254, 2.541, 2.528, 1.553) (63.425, 43.537, 26.025, 6.259)\n",
      "                                          * direction index: 27 (2.499, 1.082, 0.395, 0.042) (1.258, 2.554, 2.544, 1.564) (65.301, 44.292, 26.416, 6.301)\n",
      "                                          * direction index: 28 (2.492, 1.079, 0.394, 0.041) (1.251, 2.534, 2.519, 1.547) (65.160, 44.195, 26.310, 6.265)\n",
      "                                          * direction index: 29 (2.366, 1.029, 0.370, 0.040) (1.260, 2.558, 2.545, 1.563) (63.157, 43.446, 26.012, 6.267)\n",
      "                                          * direction index: 30 (2.187, 0.968, 0.339, 0.038) (1.253, 2.543, 2.528, 1.554) (60.267, 42.457, 25.478, 6.233)\n",
      "                                          * direction index: 31 (2.051, 0.949, 0.323, 0.039) (1.255, 2.546, 2.533, 1.558) (58.073, 42.137, 25.215, 6.246)\n",
      "                                          * direction index: 32 (2.023, 1.012, 0.336, 0.044) (1.252, 2.536, 2.521, 1.548) (57.620, 43.141, 25.403, 6.312)\n",
      "                                          * direction index: 33 (2.110, 1.165, 0.383, 0.053) (1.254, 2.548, 2.534, 1.560) (59.024, 45.627, 26.202, 6.489)\n",
      "                                          * direction index: 34 (1.942, 1.612, 0.616, 0.104) (0.071, 0.285, 0.366, 0.336) (120.190, 113.539, 61.001, 15.761)\n",
      "                                          * direction index: 35 (2.115, 1.901, 0.737, 0.130) (0.071, 0.286, 0.368, 0.339) (128.200, 126.939, 66.683, 16.998)\n",
      "                                          * direction index: 36 (2.085, 1.849, 0.716, 0.125) (0.071, 0.286, 0.369, 0.339) (126.810, 124.566, 65.699, 16.790)\n",
      "                                          * direction index: 37 (1.882, 1.513, 0.576, 0.096) (0.071, 0.285, 0.367, 0.336) (117.413, 108.969, 59.158, 15.366)\n",
      "                                          * direction index: 38 (1.665, 1.170, 0.437, 0.068) (0.071, 0.286, 0.367, 0.338) (107.316, 93.057, 52.761, 14.074)\n",
      "                                          * direction index: 39 (1.524, 0.945, 0.350, 0.050) (0.071, 0.287, 0.369, 0.340) (100.833, 82.657, 48.771, 13.282)\n",
      "                                          * direction index: 40 (1.485, 0.837, 0.311, 0.040) (0.071, 0.286, 0.368, 0.339) (98.981, 77.658, 46.946, 12.846)\n",
      "                                          * direction index: 41 (1.531, 0.816, 0.309, 0.037) (0.071, 0.286, 0.368, 0.340) (101.123, 76.664, 46.795, 12.695)\n",
      "                                          * direction index: 42 (1.622, 0.843, 0.325, 0.037) (0.070, 0.285, 0.366, 0.337) (105.330, 77.846, 47.478, 12.641)\n",
      "                                          * direction index: 43 (1.703, 0.877, 0.343, 0.038) (0.071, 0.286, 0.368, 0.339) (109.086, 79.454, 48.384, 12.726)\n",
      "                                          * direction index: 44 (1.729, 0.888, 0.349, 0.038) (0.071, 0.285, 0.367, 0.337) (110.286, 79.967, 48.608, 12.693)\n",
      "                                          * direction index: 45 (1.686, 0.869, 0.339, 0.038) (0.071, 0.285, 0.366, 0.336) (108.302, 79.064, 48.122, 12.647)\n",
      "                                          * direction index: 46 (1.597, 0.833, 0.320, 0.037) (0.071, 0.286, 0.368, 0.338) (104.218, 77.476, 47.336, 12.657)\n",
      "                                          * direction index: 47 (1.513, 0.815, 0.307, 0.038) (0.071, 0.287, 0.370, 0.340) (100.298, 76.664, 46.767, 12.722)\n",
      "                                          * direction index: 48 (1.486, 0.855, 0.317, 0.042) (0.071, 0.286, 0.368, 0.338) (99.020, 78.484, 47.193, 12.911)\n",
      "                                          * direction index: 49 (1.551, 0.991, 0.367, 0.053) (0.071, 0.287, 0.369, 0.340) (102.057, 84.780, 49.545, 13.449)\n",
      "                                          * direction index: 50 (1.715, 1.249, 0.469, 0.074) (0.071, 0.287, 0.369, 0.340) (109.664, 96.763, 54.236, 14.403)\n",
      "   * Sensor irradiance total                 * (950.259, 1243.215, 1059.080, 520.294)\n",
      "Processing direction 0: (Theta=0.000; Phi= 0.000)\n",
      " - Update Session\n",
      "    -> number of DART hemisphere directions: 50\n",
      "    -> DART BOA diffuse irradiance: 337.855 [W/m2/um]\n",
      "    (BOA diffuse irradiance after resampling: 337.922 [W/m2/um])\n",
      " - Loading LuxCoreRender configuration\n",
      " Session created or updated \n",
      " - Elapsed time: 1sec/60sec; Samples per pixel: 152/2000; Avg. samples/sec: 0.239M\n",
      " - Elapsed time: 2sec/60sec; Samples per pixel: 304/2000; Avg. samples/sec: 0.241M\n",
      " - Elapsed time: 3sec/60sec; Samples per pixel: 466/2000; Avg. samples/sec: 0.247M\n",
      " - Elapsed time: 4sec/60sec; Samples per pixel: 623/2000; Avg. samples/sec: 0.248M\n",
      " - Elapsed time: 5sec/60sec; Samples per pixel: 783/2000; Avg. samples/sec: 0.249M\n",
      "     -> Memory : 0.201GB (215744512)\n",
      " - Elapsed time: 6sec/60sec; Samples per pixel: 939/2000; Avg. samples/sec: 0.249M\n",
      " - Elapsed time: 7sec/60sec; Samples per pixel: 1099/2000; Avg. samples/sec: 0.250M\n",
      " - Elapsed time: 8sec/60sec; Samples per pixel: 1256/2000; Avg. samples/sec: 0.250M\n",
      " - Elapsed time: 9sec/60sec; Samples per pixel: 1411/2000; Avg. samples/sec: 0.250M\n",
      " - Elapsed time: 10sec/60sec; Samples per pixel: 1574/2000; Avg. samples/sec: 0.251M\n",
      "     -> Memory : 0.201GB (215744512)\n",
      " - Elapsed time: 11sec/60sec; Samples per pixel: 1741/2000; Avg. samples/sec: 0.253M\n",
      " - Elapsed time: 12sec/60sec; Samples per pixel: 1906/2000; Avg. samples/sec: 0.253M\n",
      " - Elapsed time: 13sec/60sec; Samples per pixel: 2063/2000; Avg. samples/sec: 0.253M\n",
      " - Elapsed time: 14sec/60sec; Samples per pixel: 2063/2000; Avg. samples/sec: 0.235M\n",
      " - Elapsed time: 14.035sec/60sec; Samples per pixel: 2063/2000; Avg. samples/sec: 0.235M\n",
      "     -> Memory : 0.201GB (215744512)\n",
      " > Processing direction 1: (Theta=0.000; Phi= 0.000)\n",
      " -> Generating image : ima002_VZ=000_0_VA=000_0\n",
      " - Update Session\n",
      "    -> number of DART hemisphere directions: 50\n",
      "    -> DART BOA diffuse irradiance: 337.855 [W/m2/um]\n",
      "    (BOA diffuse irradiance after resampling: 337.922 [W/m2/um])\n",
      " - Loading LuxCoreRender configuration\n",
      " - Elapsed time: 1sec/60sec; Samples per pixel: 90/2000; Avg. samples/sec: 0.142M\n",
      " - Elapsed time: 2sec/60sec; Samples per pixel: 172/2000; Avg. samples/sec: 0.136M\n",
      " - Elapsed time: 3sec/60sec; Samples per pixel: 261/2000; Avg. samples/sec: 0.138M\n",
      " - Elapsed time: 4sec/60sec; Samples per pixel: 363/2000; Avg. samples/sec: 0.144M\n",
      " - Elapsed time: 5sec/60sec; Samples per pixel: 465/2000; Avg. samples/sec: 0.148M\n",
      "     -> Memory : 0.201GB (216268800)\n",
      " - Elapsed time: 6sec/60sec; Samples per pixel: 569/2000; Avg. samples/sec: 0.151M\n",
      " - Elapsed time: 7sec/60sec; Samples per pixel: 672/2000; Avg. samples/sec: 0.153M\n",
      " - Elapsed time: 8sec/60sec; Samples per pixel: 777/2000; Avg. samples/sec: 0.155M\n",
      " - Elapsed time: 9sec/60sec; Samples per pixel: 878/2000; Avg. samples/sec: 0.156M\n",
      " - Elapsed time: 10sec/60sec; Samples per pixel: 983/2000; Avg. samples/sec: 0.157M\n",
      "     -> Memory : 0.201GB (216268800)\n",
      " - Elapsed time: 11sec/60sec; Samples per pixel: 1089/2000; Avg. samples/sec: 0.158M\n",
      " - Elapsed time: 12sec/60sec; Samples per pixel: 1192/2000; Avg. samples/sec: 0.158M\n",
      " - Elapsed time: 13sec/60sec; Samples per pixel: 1295/2000; Avg. samples/sec: 0.159M\n",
      " - Elapsed time: 14sec/60sec; Samples per pixel: 1402/2000; Avg. samples/sec: 0.160M\n",
      " - Elapsed time: 15sec/60sec; Samples per pixel: 1502/2000; Avg. samples/sec: 0.160M\n",
      "     -> Memory : 0.201GB (216268800)\n",
      " - Elapsed time: 16sec/60sec; Samples per pixel: 1601/2000; Avg. samples/sec: 0.160M\n",
      " - Elapsed time: 17sec/60sec; Samples per pixel: 1703/2000; Avg. samples/sec: 0.160M\n",
      " - Elapsed time: 18sec/60sec; Samples per pixel: 1807/2000; Avg. samples/sec: 0.160M\n",
      " - Elapsed time: 19sec/60sec; Samples per pixel: 1912/2000; Avg. samples/sec: 0.161M\n",
      " - Elapsed time: 20sec/60sec; Samples per pixel: 2014/2000; Avg. samples/sec: 0.161M\n",
      "     -> Memory : 0.201GB (216268800)\n",
      " -> Periodic save 1\n",
      " -> Periodic save 1 done\n",
      " - Elapsed time: 20.050sec/60sec; Samples per pixel: 2014/2000; Avg. samples/sec: 0.161M\n",
      "     -> Memory : 0.201GB (216268800)\n",
      " > Processed direction 1\n",
      " - BRF computation\n",
      " - Update Session\n",
      "    -> number of DART hemisphere directions: 50\n",
      "    -> DART BOA diffuse irradiance: 337.855 [W/m2/um]\n",
      "    (BOA diffuse irradiance after resampling: 337.922 [W/m2/um])\n",
      " - Loading LuxCoreRender configuration\n",
      " - Elapsed time: 1sec/60sec; Samples per direction: 7/50; Avg. samples/sec: 0.230M\n",
      " - Elapsed time: 2sec/60sec; Samples per direction: 14/50; Avg. samples/sec: 0.227M\n",
      " - Elapsed time: 3sec/60sec; Samples per direction: 21/50; Avg. samples/sec: 0.229M\n",
      " - Elapsed time: 4sec/60sec; Samples per direction: 28/50; Avg. samples/sec: 0.230M\n",
      " - Elapsed time: 5sec/60sec; Samples per direction: 35/50; Avg. samples/sec: 0.232M\n",
      "     -> Memory : 0.202GB (216399872)\n",
      " - Elapsed time: 6sec/60sec; Samples per direction: 42/50; Avg. samples/sec: 0.231M\n",
      " - Elapsed time: 7sec/60sec; Samples per direction: 50/50; Avg. samples/sec: 0.231M\n",
      " - Elapsed time: 7.021sec/60sec; Samples per direction: 50/50; Avg. samples/sec: 0.231M\n",
      "     -> Memory : 0.202GB (216399872)\n",
      "\n",
      " **************************************************\n",
      "     -> Memory : 0.202GB (216399872)\n",
      "     -> Processing Time : 0 hours 1 minutes 9  seconds\n",
      "\n",
      " - Simulating Radiative Transfer Atmosphere\n",
      "'dart.exe' finished\n",
      "'dart-only.sh' finished\n"
     ]
    },
    {
     "data": {
      "text/plain": [
       "True"
      ]
     },
     "execution_count": 33,
     "metadata": {},
     "output_type": "execute_result"
    }
   ],
   "source": [
    "simu.run.full()"
   ]
  },
  {
   "cell_type": "markdown",
   "metadata": {},
   "source": [
    "### Modify parameters :"
   ]
  },
  {
   "cell_type": "code",
   "execution_count": null,
   "metadata": {},
   "outputs": [
    {
     "data": {
      "text/plain": [
       "['atmosphere',\n",
       " 'coeff_diff',\n",
       " 'directions',\n",
       " 'inversion',\n",
       " 'maket',\n",
       " 'object_3d',\n",
       " 'phase',\n",
       " 'plots',\n",
       " 'trees',\n",
       " 'urban',\n",
       " 'water']"
      ]
     },
     "execution_count": 12,
     "metadata": {},
     "output_type": "execute_result"
    }
   ],
   "source": [
    "simu.core.children"
   ]
  },
  {
   "cell_type": "code",
   "execution_count": 13,
   "metadata": {},
   "outputs": [
    {
     "data": {
      "text/html": [
       "<div>\n",
       "<style scoped>\n",
       "    .dataframe tbody tr th:only-of-type {\n",
       "        vertical-align: middle;\n",
       "    }\n",
       "\n",
       "    .dataframe tbody tr th {\n",
       "        vertical-align: top;\n",
       "    }\n",
       "\n",
       "    .dataframe thead th {\n",
       "        text-align: right;\n",
       "    }\n",
       "</style>\n",
       "<table border=\"1\" class=\"dataframe\">\n",
       "  <thead>\n",
       "    <tr style=\"text-align: right;\">\n",
       "      <th></th>\n",
       "      <th>label</th>\n",
       "      <th>dartnode</th>\n",
       "    </tr>\n",
       "  </thead>\n",
       "  <tbody>\n",
       "    <tr>\n",
       "      <th>0</th>\n",
       "      <td>Atmosphere</td>\n",
       "      <td>Atmosphere</td>\n",
       "    </tr>\n",
       "    <tr>\n",
       "      <th>1</th>\n",
       "      <td>Aerosol</td>\n",
       "      <td>Atmosphere.Aerosol</td>\n",
       "    </tr>\n",
       "    <tr>\n",
       "      <th>2</th>\n",
       "      <td>AerosolProperties</td>\n",
       "      <td>Atmosphere.Aerosol.AerosolProperties</td>\n",
       "    </tr>\n",
       "    <tr>\n",
       "      <th>3</th>\n",
       "      <td>Aerosol --&gt; Vertical profile</td>\n",
       "      <td>Atmosphere.Aerosol.AerosolProperties.aerosolCu...</td>\n",
       "    </tr>\n",
       "    <tr>\n",
       "      <th>4</th>\n",
       "      <td>Aerosol optical depth multiplicative factor</td>\n",
       "      <td>Atmosphere.Aerosol.AerosolProperties.aerosolOp...</td>\n",
       "    </tr>\n",
       "  </tbody>\n",
       "</table>\n",
       "</div>"
      ],
      "text/plain": [
       "                                         label  \\\n",
       "0                                   Atmosphere   \n",
       "1                                      Aerosol   \n",
       "2                            AerosolProperties   \n",
       "3                 Aerosol --> Vertical profile   \n",
       "4  Aerosol optical depth multiplicative factor   \n",
       "\n",
       "                                            dartnode  \n",
       "0                                         Atmosphere  \n",
       "1                                 Atmosphere.Aerosol  \n",
       "2               Atmosphere.Aerosol.AerosolProperties  \n",
       "3  Atmosphere.Aerosol.AerosolProperties.aerosolCu...  \n",
       "4  Atmosphere.Aerosol.AerosolProperties.aerosolOp...  "
      ]
     },
     "execution_count": 13,
     "metadata": {},
     "output_type": "execute_result"
    }
   ],
   "source": [
    "df=ptd.utils.get_labels()\n",
    "df.head()"
   ]
  },
  {
   "cell_type": "code",
   "execution_count": 50,
   "metadata": {},
   "outputs": [
    {
     "data": {
      "text/html": [
       "<div>\n",
       "<style scoped>\n",
       "    .dataframe tbody tr th:only-of-type {\n",
       "        vertical-align: middle;\n",
       "    }\n",
       "\n",
       "    .dataframe tbody tr th {\n",
       "        vertical-align: top;\n",
       "    }\n",
       "\n",
       "    .dataframe thead th {\n",
       "        text-align: right;\n",
       "    }\n",
       "</style>\n",
       "<table border=\"1\" class=\"dataframe\">\n",
       "  <thead>\n",
       "    <tr style=\"text-align: right;\">\n",
       "      <th></th>\n",
       "      <th>label</th>\n",
       "      <th>dartnode</th>\n",
       "    </tr>\n",
       "  </thead>\n",
       "  <tbody>\n",
       "    <tr>\n",
       "      <th>725</th>\n",
       "      <td>Direction input parameters</td>\n",
       "      <td>Directions</td>\n",
       "    </tr>\n",
       "    <tr>\n",
       "      <th>726</th>\n",
       "      <td>Single direction (virtual in flux-tracking)</td>\n",
       "      <td>Directions.AddedDirections</td>\n",
       "    </tr>\n",
       "    <tr>\n",
       "      <th>727</th>\n",
       "      <td>Description</td>\n",
       "      <td>Directions.AddedDirections.directionType</td>\n",
       "    </tr>\n",
       "    <tr>\n",
       "      <th>728</th>\n",
       "      <td>Only for phase function calculation</td>\n",
       "      <td>Directions.AddedDirections.ifPhaseOnly</td>\n",
       "    </tr>\n",
       "    <tr>\n",
       "      <th>729</th>\n",
       "      <td>Direction shape</td>\n",
       "      <td>Directions.AddedDirections.ifSquareShape</td>\n",
       "    </tr>\n",
       "    <tr>\n",
       "      <th>...</th>\n",
       "      <td>...</td>\n",
       "      <td>...</td>\n",
       "    </tr>\n",
       "    <tr>\n",
       "      <th>895</th>\n",
       "      <td>Sun zenith angle</td>\n",
       "      <td>Directions.Sun.sunZenithAngle</td>\n",
       "    </tr>\n",
       "    <tr>\n",
       "      <th>896</th>\n",
       "      <td>Sun angles (ground to sun)</td>\n",
       "      <td>Directions.SunViewingAngles</td>\n",
       "    </tr>\n",
       "    <tr>\n",
       "      <th>897</th>\n",
       "      <td>Day of the year (Sun-Earth distance correction)</td>\n",
       "      <td>Directions.SunViewingAngles.dayOfTheYear</td>\n",
       "    </tr>\n",
       "    <tr>\n",
       "      <th>898</th>\n",
       "      <td>Sun azimuth angle</td>\n",
       "      <td>Directions.SunViewingAngles.sunViewingAzimuthA...</td>\n",
       "    </tr>\n",
       "    <tr>\n",
       "      <th>899</th>\n",
       "      <td>Sun zenith angle</td>\n",
       "      <td>Directions.SunViewingAngles.sunViewingZenithAngle</td>\n",
       "    </tr>\n",
       "  </tbody>\n",
       "</table>\n",
       "<p>175 rows × 2 columns</p>\n",
       "</div>"
      ],
      "text/plain": [
       "                                               label  \\\n",
       "725                       Direction input parameters   \n",
       "726      Single direction (virtual in flux-tracking)   \n",
       "727                                      Description   \n",
       "728              Only for phase function calculation   \n",
       "729                                  Direction shape   \n",
       "..                                               ...   \n",
       "895                                 Sun zenith angle   \n",
       "896                       Sun angles (ground to sun)   \n",
       "897  Day of the year (Sun-Earth distance correction)   \n",
       "898                                Sun azimuth angle   \n",
       "899                                 Sun zenith angle   \n",
       "\n",
       "                                              dartnode  \n",
       "725                                         Directions  \n",
       "726                         Directions.AddedDirections  \n",
       "727           Directions.AddedDirections.directionType  \n",
       "728             Directions.AddedDirections.ifPhaseOnly  \n",
       "729           Directions.AddedDirections.ifSquareShape  \n",
       "..                                                 ...  \n",
       "895                      Directions.Sun.sunZenithAngle  \n",
       "896                        Directions.SunViewingAngles  \n",
       "897           Directions.SunViewingAngles.dayOfTheYear  \n",
       "898  Directions.SunViewingAngles.sunViewingAzimuthA...  \n",
       "899  Directions.SunViewingAngles.sunViewingZenithAngle  \n",
       "\n",
       "[175 rows x 2 columns]"
      ]
     },
     "execution_count": 50,
     "metadata": {},
     "output_type": "execute_result"
    }
   ],
   "source": [
    "directions_df=df[df['dartnode'].str.startswith('Directions')]\n",
    "directions_df"
   ]
  },
  {
   "cell_type": "code",
   "execution_count": 51,
   "metadata": {},
   "outputs": [
    {
     "data": {
      "text/html": [
       "<div>\n",
       "<style scoped>\n",
       "    .dataframe tbody tr th:only-of-type {\n",
       "        vertical-align: middle;\n",
       "    }\n",
       "\n",
       "    .dataframe tbody tr th {\n",
       "        vertical-align: top;\n",
       "    }\n",
       "\n",
       "    .dataframe thead th {\n",
       "        text-align: right;\n",
       "    }\n",
       "</style>\n",
       "<table border=\"1\" class=\"dataframe\">\n",
       "  <thead>\n",
       "    <tr style=\"text-align: right;\">\n",
       "      <th></th>\n",
       "      <th>label</th>\n",
       "      <th>dartnode</th>\n",
       "    </tr>\n",
       "  </thead>\n",
       "  <tbody>\n",
       "    <tr>\n",
       "      <th>895</th>\n",
       "      <td>Sun zenith angle</td>\n",
       "      <td>Directions.Sun.sunZenithAngle</td>\n",
       "    </tr>\n",
       "    <tr>\n",
       "      <th>899</th>\n",
       "      <td>Sun zenith angle</td>\n",
       "      <td>Directions.SunViewingAngles.sunViewingZenithAngle</td>\n",
       "    </tr>\n",
       "  </tbody>\n",
       "</table>\n",
       "</div>"
      ],
      "text/plain": [
       "                label                                           dartnode\n",
       "895  Sun zenith angle                      Directions.Sun.sunZenithAngle\n",
       "899  Sun zenith angle  Directions.SunViewingAngles.sunViewingZenithAngle"
      ]
     },
     "execution_count": 51,
     "metadata": {},
     "output_type": "execute_result"
    }
   ],
   "source": [
    "directions_df[directions_df['label']=='Sun zenith angle']"
   ]
  },
  {
   "cell_type": "code",
   "execution_count": 26,
   "metadata": {},
   "outputs": [
    {
     "data": {
      "text/plain": [
       "'<DartFile version=\"5.10.10\" build=\"v1420\">\\n  <Directions linkDirection=\"\" numberOfPropagationDirections=\"100\" ifCosWeighted=\"0\" exactDate=\"2\">\\n    <AddedDirections imageDirection=\"1\" directionType=\"0\" ifSquareShape=\"1\" ifPhaseOnly=\"0\">\\n      <ZenithAzimuth directionZenithalAngle=\"0.000000e+00\" directionAzimuthalAngle=\"0.000000e+00\"/>\\n      <Square widthDefinition=\"0\">\\n        <DefineOmega omega=\"1.000000e-03\"/>\\n      </Square>\\n    </AddedDirections>\\n    <SunViewingAngles sunViewingZenithAngle=\"4.400000e+01\" sunViewingAzimuthAngle=\"2.250000e+02\" dayOfTheYear=\"-1\"/>\\n    <HotSpotProperties oversampleUpwardRegion=\"0\" oversampleDownwardRegion=\"0\" hotSpotPerpendicularPlane=\"0\" hotSpotParallelPlane=\"0\"/>\\n    <Penumbra mode=\"0\"/>\\n    <AzimuthalOffset sunAzimuthalOffset=\"0.000000e+00\" directionalAzimuthalOffset=\"0.000000e+00\"/>\\n    <ExpertModeZone numberOfAngularSector=\"10\" numberOfLayers=\"0\"/>\\n  </Directions>\\n</DartFile>\\n'"
      ]
     },
     "execution_count": 26,
     "metadata": {},
     "output_type": "execute_result"
    }
   ],
   "source": [
    "simu.core.directions.to_string()"
   ]
  },
  {
   "cell_type": "code",
   "execution_count": 28,
   "metadata": {},
   "outputs": [
    {
     "data": {
      "text/plain": [
       "['version',\n",
       " 'build_',\n",
       " 'Directions',\n",
       " 'Directions.linkDirection',\n",
       " 'Directions.numberOfPropagationDirections',\n",
       " 'Directions.ifCosWeighted',\n",
       " 'Directions.exactDate',\n",
       " 'Directions.AddedDirections',\n",
       " 'Directions.Region',\n",
       " 'Directions.OversampledPlane',\n",
       " 'Directions.SecondaryIlluminationSource',\n",
       " 'Directions.Sun',\n",
       " 'Directions.ExactDateHour',\n",
       " 'Directions.SunViewingAngles',\n",
       " 'Directions.HotSpotProperties',\n",
       " 'Directions.Penumbra',\n",
       " 'Directions.AzimuthalOffset',\n",
       " 'Directions.ExpertModeZone',\n",
       " 'Directions.AddedDirections[0].imageDirection',\n",
       " 'Directions.AddedDirections[0].directionType',\n",
       " 'Directions.AddedDirections[0].ifSquareShape',\n",
       " 'Directions.AddedDirections[0].ifPhaseOnly',\n",
       " 'Directions.AddedDirections[0].ZenithAzimuth',\n",
       " 'Directions.AddedDirections[0].LatLon',\n",
       " 'Directions.AddedDirections[0].Rectangle',\n",
       " 'Directions.AddedDirections[0].Square',\n",
       " 'Directions.AddedDirections[0].ZenithAzimuth.directionZenithalAngle',\n",
       " 'Directions.AddedDirections[0].ZenithAzimuth.directionAzimuthalAngle',\n",
       " 'Directions.AddedDirections[0].Square.widthDefinition',\n",
       " 'Directions.AddedDirections[0].Square.DefineOmega',\n",
       " 'Directions.AddedDirections[0].Square.DefineDeltaPhi',\n",
       " 'Directions.AddedDirections[0].Square.DefineDeltaTheta',\n",
       " 'Directions.AddedDirections[0].Square.DefineOmega.omega',\n",
       " 'Directions.SunViewingAngles.sunViewingZenithAngle',\n",
       " 'Directions.SunViewingAngles.sunViewingAzimuthAngle',\n",
       " 'Directions.SunViewingAngles.dayOfTheYear',\n",
       " 'Directions.HotSpotProperties.oversampleUpwardRegion',\n",
       " 'Directions.HotSpotProperties.oversampleDownwardRegion',\n",
       " 'Directions.HotSpotProperties.hotSpotPerpendicularPlane',\n",
       " 'Directions.HotSpotProperties.hotSpotParallelPlane',\n",
       " 'Directions.HotSpotProperties.HotSpotUpwardRegion',\n",
       " 'Directions.HotSpotProperties.HotSpotDownwardRegion',\n",
       " 'Directions.HotSpotProperties.HotSpotOversampledPlane',\n",
       " 'Directions.Penumbra.mode',\n",
       " 'Directions.Penumbra.SunSphere',\n",
       " 'Directions.Penumbra.SunIcoSphere',\n",
       " 'Directions.AzimuthalOffset.sunAzimuthalOffset',\n",
       " 'Directions.AzimuthalOffset.directionalAzimuthalOffset',\n",
       " 'Directions.ExpertModeZone.numberOfAngularSector',\n",
       " 'Directions.ExpertModeZone.numberOfLayers']"
      ]
     },
     "execution_count": 28,
     "metadata": {},
     "output_type": "execute_result"
    }
   ],
   "source": [
    "simu.core.directions.subpaths()"
   ]
  },
  {
   "cell_type": "code",
   "execution_count": 69,
   "metadata": {},
   "outputs": [
    {
     "data": {
      "text/plain": [
       "'45'"
      ]
     },
     "execution_count": 69,
     "metadata": {},
     "output_type": "execute_result"
    }
   ],
   "source": [
    "simu.core.directions.Directions.SunViewingAngles.sunViewingZenithAngle = '45'\n",
    "simu.core.directions.Directions.SunViewingAngles.sunViewingZenithAngle "
   ]
  },
  {
   "cell_type": "code",
   "execution_count": 6,
   "metadata": {},
   "outputs": [],
   "source": [
    "import pytools4dart as ptd"
   ]
  },
  {
   "cell_type": "code",
   "execution_count": 8,
   "metadata": {},
   "outputs": [],
   "source": [
    "sim=ptd.simulation('new_simulation')"
   ]
  },
  {
   "cell_type": "code",
   "execution_count": 9,
   "metadata": {},
   "outputs": [
    {
     "name": "stdout",
     "output_type": "stream",
     "text": [
      "\n",
      "Simulation 'new_simulation': passive\n",
      "\n",
      "Light propagation: bi-directional\n",
      "__________________________________\n",
      "Sensor\n",
      "========\n",
      "number of bands: 1\n",
      "pixel size: 1.0\n",
      "\n",
      "Scene\n",
      "========\n",
      "scene size : [40.0, 40.0]\n",
      "cell size : [1.0, 1.0]\n",
      "scene periodicity: 1\n",
      "ground:\n",
      "\tOptical property: Lambertian_Phase_Function_1\n",
      "\tThermal property: Temperature_290_310\n",
      "number of plots : 0\n",
      "plot file:\n",
      "\tpath: None\n",
      "\tnumber of plots: 0\n",
      "number of object 3D : 0\n",
      "number of tree species : 0\n",
      "tree file:\n",
      "\tpath: None\n",
      "\tnumber of trees: 0\n",
      "number of optical properties : 1\n",
      "number of thermal properties : 1\n",
      "\n",
      "Source\n",
      "========\n",
      "sun viewing angles (Azimuth, Zenith) : [225.0, 30.0]\n",
      "\n",
      "Sequences\n",
      "=========\n",
      "number of sequences: 0\n",
      "\n",
      "__________________________________\n",
      "\n"
     ]
    }
   ],
   "source": [
    "print(sim)"
   ]
  },
  {
   "cell_type": "code",
   "execution_count": 30,
   "metadata": {},
   "outputs": [
    {
     "name": "stdout",
     "output_type": "stream",
     "text": [
      "\n",
      "Simulation 'RTM_reference': passive\n",
      "\n",
      "Light propagation: bi-directional\n",
      "__________________________________\n",
      "Sensor\n",
      "========\n",
      "number of bands: 4\n",
      "pixel size: 1.0\n",
      "\n",
      "Scene\n",
      "========\n",
      "scene size : [40.0, 40.0]\n",
      "cell size : [1.0, 1.0]\n",
      "scene periodicity: 1\n",
      "ground:\n",
      "\tOptical property: r=0.1\n",
      "\tThermal property: Temperature_290_310\n",
      "number of plots : 0\n",
      "plot file:\n",
      "\tpath: None\n",
      "\tnumber of plots: 0\n",
      "number of object 3D : 0\n",
      "number of tree species : 0\n",
      "tree file:\n",
      "\tpath: None\n",
      "\tnumber of trees: 0\n",
      "number of optical properties : 1\n",
      "number of thermal properties : 1\n",
      "\n",
      "Source\n",
      "========\n",
      "sun viewing angles (Azimuth, Zenith) : [225.0, 27.0]\n",
      "\n",
      "Sequences\n",
      "=========\n",
      "number of sequences: 0\n",
      "\n",
      "__________________________________\n",
      "\n"
     ]
    }
   ],
   "source": [
    "simu1 = ptd.simulation('RTM_reference')\n",
    "print(simu1) # display summary of simulation"
   ]
  },
  {
   "cell_type": "code",
   "execution_count": 31,
   "metadata": {},
   "outputs": [
    {
     "name": "stdout",
     "output_type": "stream",
     "text": [
      "<DartFile version=\"5.10.10\" build=\"v1420\">\n",
      "  <Directions linkDirection=\"\" numberOfPropagationDirections=\"100\" ifCosWeighted=\"0\" exactDate=\"2\">\n",
      "    <AddedDirections imageDirection=\"1\" directionType=\"0\" ifSquareShape=\"1\" ifPhaseOnly=\"0\">\n",
      "      <ZenithAzimuth directionZenithalAngle=\"0.000000e+00\" directionAzimuthalAngle=\"0.000000e+00\"/>\n",
      "      <Square widthDefinition=\"0\">\n",
      "        <DefineOmega omega=\"1.000000e-03\"/>\n",
      "      </Square>\n",
      "    </AddedDirections>\n",
      "    <SunViewingAngles sunViewingZenithAngle=\"2.700000e+01\" sunViewingAzimuthAngle=\"2.250000e+02\" dayOfTheYear=\"-1\"/>\n",
      "    <HotSpotProperties oversampleUpwardRegion=\"0\" oversampleDownwardRegion=\"0\" hotSpotPerpendicularPlane=\"0\" hotSpotParallelPlane=\"0\"/>\n",
      "    <Penumbra mode=\"0\"/>\n",
      "    <AzimuthalOffset sunAzimuthalOffset=\"0.000000e+00\" directionalAzimuthalOffset=\"0.000000e+00\"/>\n",
      "    <ExpertModeZone numberOfAngularSector=\"10\" numberOfLayers=\"0\"/>\n",
      "  </Directions>\n",
      "</DartFile>\n",
      "\n"
     ]
    }
   ],
   "source": [
    "print(simu1.core.directions.to_string())\n"
   ]
  },
  {
   "cell_type": "code",
   "execution_count": 32,
   "metadata": {},
   "outputs": [
    {
     "data": {
      "text/plain": [
       "['version',\n",
       " 'build_',\n",
       " 'Directions',\n",
       " 'Directions.linkDirection',\n",
       " 'Directions.numberOfPropagationDirections',\n",
       " 'Directions.ifCosWeighted',\n",
       " 'Directions.exactDate',\n",
       " 'Directions.AddedDirections',\n",
       " 'Directions.Region',\n",
       " 'Directions.OversampledPlane',\n",
       " 'Directions.SecondaryIlluminationSource',\n",
       " 'Directions.Sun',\n",
       " 'Directions.ExactDateHour',\n",
       " 'Directions.SunViewingAngles',\n",
       " 'Directions.HotSpotProperties',\n",
       " 'Directions.Penumbra',\n",
       " 'Directions.AzimuthalOffset',\n",
       " 'Directions.ExpertModeZone',\n",
       " 'Directions.AddedDirections[0].imageDirection',\n",
       " 'Directions.AddedDirections[0].directionType',\n",
       " 'Directions.AddedDirections[0].ifSquareShape',\n",
       " 'Directions.AddedDirections[0].ifPhaseOnly',\n",
       " 'Directions.AddedDirections[0].ZenithAzimuth',\n",
       " 'Directions.AddedDirections[0].LatLon',\n",
       " 'Directions.AddedDirections[0].Rectangle',\n",
       " 'Directions.AddedDirections[0].Square',\n",
       " 'Directions.AddedDirections[0].ZenithAzimuth.directionZenithalAngle',\n",
       " 'Directions.AddedDirections[0].ZenithAzimuth.directionAzimuthalAngle',\n",
       " 'Directions.AddedDirections[0].Square.widthDefinition',\n",
       " 'Directions.AddedDirections[0].Square.DefineOmega',\n",
       " 'Directions.AddedDirections[0].Square.DefineDeltaPhi',\n",
       " 'Directions.AddedDirections[0].Square.DefineDeltaTheta',\n",
       " 'Directions.AddedDirections[0].Square.DefineOmega.omega',\n",
       " 'Directions.SunViewingAngles.sunViewingZenithAngle',\n",
       " 'Directions.SunViewingAngles.sunViewingAzimuthAngle',\n",
       " 'Directions.SunViewingAngles.dayOfTheYear',\n",
       " 'Directions.HotSpotProperties.oversampleUpwardRegion',\n",
       " 'Directions.HotSpotProperties.oversampleDownwardRegion',\n",
       " 'Directions.HotSpotProperties.hotSpotPerpendicularPlane',\n",
       " 'Directions.HotSpotProperties.hotSpotParallelPlane',\n",
       " 'Directions.HotSpotProperties.HotSpotUpwardRegion',\n",
       " 'Directions.HotSpotProperties.HotSpotDownwardRegion',\n",
       " 'Directions.HotSpotProperties.HotSpotOversampledPlane',\n",
       " 'Directions.Penumbra.mode',\n",
       " 'Directions.Penumbra.SunSphere',\n",
       " 'Directions.Penumbra.SunIcoSphere',\n",
       " 'Directions.AzimuthalOffset.sunAzimuthalOffset',\n",
       " 'Directions.AzimuthalOffset.directionalAzimuthalOffset',\n",
       " 'Directions.ExpertModeZone.numberOfAngularSector',\n",
       " 'Directions.ExpertModeZone.numberOfLayers']"
      ]
     },
     "execution_count": 32,
     "metadata": {},
     "output_type": "execute_result"
    }
   ],
   "source": [
    "# list all subpaths\n",
    "simu.core.directions.subpaths()\n"
   ]
  },
  {
   "cell_type": "code",
   "execution_count": 34,
   "metadata": {},
   "outputs": [
    {
     "data": {
      "text/plain": [
       "27.0"
      ]
     },
     "execution_count": 34,
     "metadata": {},
     "output_type": "execute_result"
    }
   ],
   "source": [
    "simu1.core.directions.Directions.SunViewingAngles.sunViewingZenithAngle\n"
   ]
  },
  {
   "cell_type": "markdown",
   "metadata": {},
   "source": [
    "### Change Zenith Angle :"
   ]
  },
  {
   "cell_type": "code",
   "execution_count": 23,
   "metadata": {},
   "outputs": [],
   "source": [
    "simu1.core.directions.set_nodes(sunViewingZenithAngle=27)"
   ]
  },
  {
   "cell_type": "markdown",
   "metadata": {},
   "source": [
    "## Change reflectance :"
   ]
  },
  {
   "cell_type": "code",
   "execution_count": 40,
   "metadata": {},
   "outputs": [
    {
     "data": {
      "text/plain": [
       "['version',\n",
       " 'build_',\n",
       " 'Coeff_diff',\n",
       " 'Coeff_diff.linkOpticalTemperatures',\n",
       " 'Coeff_diff.fluorescenceProducts',\n",
       " 'Coeff_diff.fluorescenceFile',\n",
       " 'Coeff_diff.useCombinedYield',\n",
       " 'Coeff_diff.FluorescenceProductsProperties',\n",
       " 'Coeff_diff.Surfaces',\n",
       " 'Coeff_diff.Volumes',\n",
       " 'Coeff_diff.Temperatures',\n",
       " 'Coeff_diff.Surfaces.LambertianMultiFunctions',\n",
       " 'Coeff_diff.Surfaces.HapkeSpecularMultiFunctions',\n",
       " 'Coeff_diff.Surfaces.RPVMultiFunctions',\n",
       " 'Coeff_diff.Surfaces.PhaseExternMultiFunctions',\n",
       " 'Coeff_diff.Surfaces.SpecularMultiFunctions',\n",
       " 'Coeff_diff.Surfaces.MixedMultiFunctions',\n",
       " 'Coeff_diff.Surfaces.LambertianMultiFunctions.LambertianMulti',\n",
       " 'Coeff_diff.Surfaces.LambertianMultiFunctions.LambertianMulti[0].lambertianDefinition',\n",
       " 'Coeff_diff.Surfaces.LambertianMultiFunctions.LambertianMulti[0].ident',\n",
       " 'Coeff_diff.Surfaces.LambertianMultiFunctions.LambertianMulti[0].useMultiplicativeFactorForLUT',\n",
       " 'Coeff_diff.Surfaces.LambertianMultiFunctions.LambertianMulti[0].roStDev',\n",
       " 'Coeff_diff.Surfaces.LambertianMultiFunctions.LambertianMulti[0].Lambertian',\n",
       " 'Coeff_diff.Surfaces.LambertianMultiFunctions.LambertianMulti[0].Marmit',\n",
       " 'Coeff_diff.Surfaces.LambertianMultiFunctions.LambertianMulti[0].lambertianNodeMultiplicativeFactorForLUT',\n",
       " 'Coeff_diff.Surfaces.LambertianMultiFunctions.LambertianMulti[0].Lambertian.databaseName',\n",
       " 'Coeff_diff.Surfaces.LambertianMultiFunctions.LambertianMulti[0].Lambertian.ModelName',\n",
       " 'Coeff_diff.Surfaces.LambertianMultiFunctions.LambertianMulti[0].Lambertian.useSpecular',\n",
       " 'Coeff_diff.Surfaces.LambertianMultiFunctions.LambertianMulti[0].Lambertian.SpecularData',\n",
       " 'Coeff_diff.Surfaces.LambertianMultiFunctions.LambertianMulti[0].Lambertian.ProspectExternalModule',\n",
       " 'Coeff_diff.Surfaces.LambertianMultiFunctions.LambertianMulti[0].Lambertian.ProspectExternalModule.useProspectExternalModule',\n",
       " 'Coeff_diff.Surfaces.LambertianMultiFunctions.LambertianMulti[0].Lambertian.ProspectExternalModule.isFluorescent',\n",
       " 'Coeff_diff.Surfaces.LambertianMultiFunctions.LambertianMulti[0].Lambertian.ProspectExternalModule.ProspectExternParameters',\n",
       " 'Coeff_diff.Surfaces.LambertianMultiFunctions.LambertianMulti[0].Lambertian.ProspectExternalModule.FluorescenceYields',\n",
       " 'Coeff_diff.Surfaces.LambertianMultiFunctions.LambertianMulti[0].Lambertian.ProspectExternalModule.WindProfileEta',\n",
       " 'Coeff_diff.Surfaces.LambertianMultiFunctions.LambertianMulti[0].lambertianNodeMultiplicativeFactorForLUT.useSameFactorForAllBands',\n",
       " 'Coeff_diff.Surfaces.LambertianMultiFunctions.LambertianMulti[0].lambertianNodeMultiplicativeFactorForLUT.reflectanceFactor',\n",
       " 'Coeff_diff.Surfaces.LambertianMultiFunctions.LambertianMulti[0].lambertianNodeMultiplicativeFactorForLUT.directTransmittanceFactor',\n",
       " 'Coeff_diff.Surfaces.LambertianMultiFunctions.LambertianMulti[0].lambertianNodeMultiplicativeFactorForLUT.diffuseTransmittanceFactor',\n",
       " 'Coeff_diff.Surfaces.LambertianMultiFunctions.LambertianMulti[0].lambertianNodeMultiplicativeFactorForLUT.specularIntensityFactor',\n",
       " 'Coeff_diff.Surfaces.LambertianMultiFunctions.LambertianMulti[0].lambertianNodeMultiplicativeFactorForLUT.useSameOpticalFactorMatrixForAllBands',\n",
       " 'Coeff_diff.Surfaces.LambertianMultiFunctions.LambertianMulti[0].lambertianNodeMultiplicativeFactorForLUT.diffuseTransmittanceAcceleration',\n",
       " 'Coeff_diff.Surfaces.LambertianMultiFunctions.LambertianMulti[0].lambertianNodeMultiplicativeFactorForLUT.lambertianMultiplicativeFactorForLUT',\n",
       " 'Coeff_diff.Surfaces.LambertianMultiFunctions.LambertianMulti[0].lambertianNodeMultiplicativeFactorForLUT.opticalFactorMatrix',\n",
       " 'Coeff_diff.Surfaces.LambertianMultiFunctions.LambertianMulti[0].lambertianNodeMultiplicativeFactorForLUT.lambertianMultiplicativeFactorForLUT[0].reflectanceFactor',\n",
       " 'Coeff_diff.Surfaces.LambertianMultiFunctions.LambertianMulti[0].lambertianNodeMultiplicativeFactorForLUT.lambertianMultiplicativeFactorForLUT[0].directTransmittanceFactor',\n",
       " 'Coeff_diff.Surfaces.LambertianMultiFunctions.LambertianMulti[0].lambertianNodeMultiplicativeFactorForLUT.lambertianMultiplicativeFactorForLUT[0].diffuseTransmittanceFactor',\n",
       " 'Coeff_diff.Surfaces.LambertianMultiFunctions.LambertianMulti[0].lambertianNodeMultiplicativeFactorForLUT.lambertianMultiplicativeFactorForLUT[0].specularIntensityFactor',\n",
       " 'Coeff_diff.Surfaces.LambertianMultiFunctions.LambertianMulti[0].lambertianNodeMultiplicativeFactorForLUT.lambertianMultiplicativeFactorForLUT[0].useOpticalFactorMatrix',\n",
       " 'Coeff_diff.Surfaces.LambertianMultiFunctions.LambertianMulti[0].lambertianNodeMultiplicativeFactorForLUT.lambertianMultiplicativeFactorForLUT[0].opticalFactorMatrix',\n",
       " 'Coeff_diff.Surfaces.LambertianMultiFunctions.LambertianMulti[0].lambertianNodeMultiplicativeFactorForLUT.lambertianMultiplicativeFactorForLUT[1].reflectanceFactor',\n",
       " 'Coeff_diff.Surfaces.LambertianMultiFunctions.LambertianMulti[0].lambertianNodeMultiplicativeFactorForLUT.lambertianMultiplicativeFactorForLUT[1].directTransmittanceFactor',\n",
       " 'Coeff_diff.Surfaces.LambertianMultiFunctions.LambertianMulti[0].lambertianNodeMultiplicativeFactorForLUT.lambertianMultiplicativeFactorForLUT[1].diffuseTransmittanceFactor',\n",
       " 'Coeff_diff.Surfaces.LambertianMultiFunctions.LambertianMulti[0].lambertianNodeMultiplicativeFactorForLUT.lambertianMultiplicativeFactorForLUT[1].specularIntensityFactor',\n",
       " 'Coeff_diff.Surfaces.LambertianMultiFunctions.LambertianMulti[0].lambertianNodeMultiplicativeFactorForLUT.lambertianMultiplicativeFactorForLUT[1].useOpticalFactorMatrix',\n",
       " 'Coeff_diff.Surfaces.LambertianMultiFunctions.LambertianMulti[0].lambertianNodeMultiplicativeFactorForLUT.lambertianMultiplicativeFactorForLUT[1].opticalFactorMatrix',\n",
       " 'Coeff_diff.Surfaces.LambertianMultiFunctions.LambertianMulti[0].lambertianNodeMultiplicativeFactorForLUT.lambertianMultiplicativeFactorForLUT[2].reflectanceFactor',\n",
       " 'Coeff_diff.Surfaces.LambertianMultiFunctions.LambertianMulti[0].lambertianNodeMultiplicativeFactorForLUT.lambertianMultiplicativeFactorForLUT[2].directTransmittanceFactor',\n",
       " 'Coeff_diff.Surfaces.LambertianMultiFunctions.LambertianMulti[0].lambertianNodeMultiplicativeFactorForLUT.lambertianMultiplicativeFactorForLUT[2].diffuseTransmittanceFactor',\n",
       " 'Coeff_diff.Surfaces.LambertianMultiFunctions.LambertianMulti[0].lambertianNodeMultiplicativeFactorForLUT.lambertianMultiplicativeFactorForLUT[2].specularIntensityFactor',\n",
       " 'Coeff_diff.Surfaces.LambertianMultiFunctions.LambertianMulti[0].lambertianNodeMultiplicativeFactorForLUT.lambertianMultiplicativeFactorForLUT[2].useOpticalFactorMatrix',\n",
       " 'Coeff_diff.Surfaces.LambertianMultiFunctions.LambertianMulti[0].lambertianNodeMultiplicativeFactorForLUT.lambertianMultiplicativeFactorForLUT[2].opticalFactorMatrix',\n",
       " 'Coeff_diff.Surfaces.LambertianMultiFunctions.LambertianMulti[0].lambertianNodeMultiplicativeFactorForLUT.lambertianMultiplicativeFactorForLUT[3].reflectanceFactor',\n",
       " 'Coeff_diff.Surfaces.LambertianMultiFunctions.LambertianMulti[0].lambertianNodeMultiplicativeFactorForLUT.lambertianMultiplicativeFactorForLUT[3].directTransmittanceFactor',\n",
       " 'Coeff_diff.Surfaces.LambertianMultiFunctions.LambertianMulti[0].lambertianNodeMultiplicativeFactorForLUT.lambertianMultiplicativeFactorForLUT[3].diffuseTransmittanceFactor',\n",
       " 'Coeff_diff.Surfaces.LambertianMultiFunctions.LambertianMulti[0].lambertianNodeMultiplicativeFactorForLUT.lambertianMultiplicativeFactorForLUT[3].specularIntensityFactor',\n",
       " 'Coeff_diff.Surfaces.LambertianMultiFunctions.LambertianMulti[0].lambertianNodeMultiplicativeFactorForLUT.lambertianMultiplicativeFactorForLUT[3].useOpticalFactorMatrix',\n",
       " 'Coeff_diff.Surfaces.LambertianMultiFunctions.LambertianMulti[0].lambertianNodeMultiplicativeFactorForLUT.lambertianMultiplicativeFactorForLUT[3].opticalFactorMatrix',\n",
       " 'Coeff_diff.Surfaces.HapkeSpecularMultiFunctions.HapkeSpecularMulti',\n",
       " 'Coeff_diff.Surfaces.HapkeSpecularMultiFunctions.HapkeSpecularMulti2',\n",
       " 'Coeff_diff.Surfaces.RPVMultiFunctions.RPVMulti',\n",
       " 'Coeff_diff.Surfaces.PhaseExternMultiFunctions.PhaseExtern',\n",
       " 'Coeff_diff.Surfaces.SpecularMultiFunctions.SpecularMulti',\n",
       " 'Coeff_diff.Surfaces.MixedMultiFunctions.MixedMulti',\n",
       " 'Coeff_diff.Volumes.UnderstoryMultiFunctions',\n",
       " 'Coeff_diff.Volumes.AirMultiFunctions',\n",
       " 'Coeff_diff.Volumes.UnderstoryMultiFunctions.outputLADFile',\n",
       " 'Coeff_diff.Volumes.UnderstoryMultiFunctions.integrationStepOnTheta',\n",
       " 'Coeff_diff.Volumes.UnderstoryMultiFunctions.integrationStepOnPhi',\n",
       " 'Coeff_diff.Volumes.UnderstoryMultiFunctions.UnderstoryMulti',\n",
       " 'Coeff_diff.Volumes.AirMultiFunctions.AirFunction',\n",
       " 'Coeff_diff.Temperatures.ThermalFunction',\n",
       " 'Coeff_diff.Temperatures.ThermalFunction[0].override3DMatrix',\n",
       " 'Coeff_diff.Temperatures.ThermalFunction[0].deltaT',\n",
       " 'Coeff_diff.Temperatures.ThermalFunction[0].meanT',\n",
       " 'Coeff_diff.Temperatures.ThermalFunction[0].idTemperature',\n",
       " 'Coeff_diff.Temperatures.ThermalFunction[0].useOpticalFactorMatrix',\n",
       " 'Coeff_diff.Temperatures.ThermalFunction[0].singleTemperatureSurface',\n",
       " 'Coeff_diff.Temperatures.ThermalFunction[0].usePrecomputedIPARs',\n",
       " 'Coeff_diff.Temperatures.ThermalFunction[0].opticalFactorMatrix',\n",
       " 'Coeff_diff.Temperatures.ThermalFunction[0].SunlitAndShadedTemperature',\n",
       " 'Coeff_diff.Temperatures.ThermalFunction[0].ScopeTemperatureFile',\n",
       " 'Coeff_diff.Temperatures.ThermalFunction[0].PrecomputedIPARs']"
      ]
     },
     "execution_count": 40,
     "metadata": {},
     "output_type": "execute_result"
    }
   ],
   "source": [
    "simu1.core.coeff_diff.subpaths()"
   ]
  },
  {
   "cell_type": "code",
   "execution_count": 41,
   "metadata": {},
   "outputs": [
    {
     "data": {
      "text/plain": [
       "0.7"
      ]
     },
     "execution_count": 41,
     "metadata": {},
     "output_type": "execute_result"
    }
   ],
   "source": [
    "simu1.core.coeff_diff.Coeff_diff.Surfaces.LambertianMultiFunctions.LambertianMulti[0].lambertianNodeMultiplicativeFactorForLUT.reflectanceFactor"
   ]
  },
  {
   "cell_type": "code",
   "execution_count": 24,
   "metadata": {},
   "outputs": [],
   "source": [
    "simu1.core.coeff_diff.set_nodes(reflectanceFactor=0.33)"
   ]
  },
  {
   "cell_type": "markdown",
   "metadata": {},
   "source": [
    "### Change altitude :"
   ]
  },
  {
   "cell_type": "code",
   "execution_count": 19,
   "metadata": {},
   "outputs": [
    {
     "data": {
      "text/plain": [
       "['version',\n",
       " 'build_',\n",
       " 'Maket',\n",
       " 'Maket.linkEarthScene',\n",
       " 'Maket.dartZone',\n",
       " 'Maket.exactlyPeriodicScene',\n",
       " 'Maket.hideRB',\n",
       " 'Maket.useRandomGenerationSeed',\n",
       " 'Maket.Scene',\n",
       " 'Maket.RandomGenerationParameters',\n",
       " 'Maket.Soil',\n",
       " 'Maket.LatLon',\n",
       " 'Maket.InfiniteSlopeProperties',\n",
       " 'Maket.Scene.CellDimensions',\n",
       " 'Maket.Scene.SceneDimensions',\n",
       " 'Maket.Scene.DartZoneProperties',\n",
       " 'Maket.Scene.CellDimensions.roundToExact',\n",
       " 'Maket.Scene.CellDimensions.x',\n",
       " 'Maket.Scene.CellDimensions.z',\n",
       " 'Maket.Scene.SceneDimensions.x',\n",
       " 'Maket.Scene.SceneDimensions.y',\n",
       " 'Maket.RandomGenerationParameters.generationSeed',\n",
       " 'Maket.Soil.groundEnabled',\n",
       " 'Maket.Soil.OpticalPropertyLink',\n",
       " 'Maket.Soil.ThermalPropertyLink',\n",
       " 'Maket.Soil.Topography',\n",
       " 'Maket.Soil.DEM_properties',\n",
       " 'Maket.Soil.OpticalPropertyLink.type_',\n",
       " 'Maket.Soil.OpticalPropertyLink.indexFctPhase',\n",
       " 'Maket.Soil.OpticalPropertyLink.ident',\n",
       " 'Maket.Soil.ThermalPropertyLink.indexTemperature',\n",
       " 'Maket.Soil.ThermalPropertyLink.idTemperature',\n",
       " 'Maket.Soil.Topography.presenceOfTopography',\n",
       " 'Maket.Soil.Topography.TopographyProperties',\n",
       " 'Maket.Soil.DEM_properties.createTopography',\n",
       " 'Maket.Soil.DEM_properties.DEMGenerator',\n",
       " 'Maket.LatLon.latitude',\n",
       " 'Maket.LatLon.longitude',\n",
       " 'Maket.LatLon.altitude']"
      ]
     },
     "execution_count": 19,
     "metadata": {},
     "output_type": "execute_result"
    }
   ],
   "source": [
    "simu1.core.maket.subpaths()"
   ]
  },
  {
   "cell_type": "code",
   "execution_count": 25,
   "metadata": {},
   "outputs": [],
   "source": [
    "simu1.core.maket.set_nodes(altitude=100)"
   ]
  },
  {
   "cell_type": "code",
   "execution_count": 26,
   "metadata": {},
   "outputs": [
    {
     "name": "stdout",
     "output_type": "stream",
     "text": [
      "Updating optical properties indexes...\n",
      "Updating thermal properties indexes...\n",
      "Updating spectral multiplicative factors...\n",
      "Updating band numbers...\n"
     ]
    }
   ],
   "source": [
    "simu1.write(overwrite=True)"
   ]
  },
  {
   "cell_type": "code",
   "execution_count": 27,
   "metadata": {},
   "outputs": [
    {
     "name": "stdout",
     "output_type": "stream",
     "text": [
      "******************************************************************\n",
      "               Directions Module   5.10.10 (2025/02/26 v1420)\n",
      "\n",
      " - System memory (free/total) : 24.904GB / 31.228GB\n",
      "\n",
      " - Reading directions.xml............................\n",
      "   -> Reading SUN Direction.......\n",
      "   -> Reading additional spot 0.......\n",
      "   -> The defined number of directions (calibrated): 100\n",
      "   -> Upper sphere number Of directions : 50\n",
      "   -> Estimated number of layers : 5\n",
      "\n",
      " - Initializing the direction list............................\n",
      "   -> The calculation method is 0:\n",
      "       FLUX TRACKING method is used, and \"Virtual\" property is defined for additional spots.\n",
      "\n",
      " - Adding the other spots............................\n",
      "   -> Spot 0:       Centers (t/p): 0.000/0.000 (rad);          Omega: 0.001\n",
      "\n",
      " - Generating angular sectors............................\n",
      "   -> Defined number of angular sectors: 10\n",
      "   -> Number of refined angular sectors: 10\n",
      "\n",
      " - Information of output direction list............................ \n",
      "   -> The Number Of Total Directions : 101\n",
      "   -> The Total Omega (Upper Sphere) : 6.283\n",
      "   -> The Total Cosine Theta Times Delta Omega Of NON-Virtual Directions (Upper Sphere) : 3.142 \n",
      "\n",
      " - Writing to /home/fayari/DART/user_data/simulations/RTM_reference/output/directions.txt............................\n",
      " - Writing to /home/fayari/DART/user_data/simulations/RTM_reference/output/simulation.properties.txt............................\n",
      "******************************************************************\n",
      "'directions.exe' finished\n"
     ]
    },
    {
     "data": {
      "text/plain": [
       "True"
      ]
     },
     "execution_count": 27,
     "metadata": {},
     "output_type": "execute_result"
    }
   ],
   "source": [
    "simu1.run.direction()"
   ]
  },
  {
   "cell_type": "code",
   "execution_count": 28,
   "metadata": {},
   "outputs": [
    {
     "name": "stdout",
     "output_type": "stream",
     "text": [
      "           DartHapke 1.0\n",
      " **************************************************\n",
      "'DartHapke' finished\n",
      "\n",
      "              Cover Map Module     5.10.10\n",
      "\n",
      "  - Collecting the information.\n",
      "******************** NO WORKING DATA FOUND *********************\n",
      "\n",
      "**************** EXECUTION COMPLETED SUCCESSFULLY ****************\n",
      "\n",
      "'DartVegetation' finished\n",
      "'troisdversturbide.main.Generation' finished\n",
      "\n",
      "               PHASE Module   5.10.10 (2025/02/26 v1420)\n",
      "\n",
      " - System memory (free/total) : 24.833GB / 31.228GB\n",
      "\n",
      " - Atmosphere processing :\n",
      "   -> Reading atmosphere.xml\n",
      "\t- Spectral irradiance (database) - TOA or BOA (+ SKYL)\n",
      "   -> Loading atmosphere parameters..\n",
      "   -> with database\n",
      "   -> number of aerosol  1\n",
      "   -> Writing netcdf file: /home/fayari/DART/user_data/simulations/RTM_reference/output/atmosphere.nc\n",
      "    Number of divisions for aerosol phase function for each incident and outgoing directions: 6.\n",
      "    Discrete direction index assigned for solar aerosol forward scattering: 94\n",
      "      Virtual direction indices and their corresponding incident and outgoing discrete direction indices \n",
      "    for forward-scattering aerosol phase function interpolation: \n",
      "      1    0    0\n",
      "  -> Atmosphere Processing Time : 0 hours 0 minutes 2  seconds\n",
      " - End of Atmosphere processing\n",
      "    -> 0 vegetation phase function.\n",
      "\t40.000 %   -> Processing Time : 2  seconds\n",
      " -> Writing LuxCoreRender configuration files\n",
      " - End of phase function generation.\n",
      "  -> Processing Time : 0 hours 0 minutes 2  seconds\n",
      "\n",
      " **************************************************\n",
      "\n",
      "'phase.exe' finished\n",
      "'troisdversturbide.main.Suppression' finished\n"
     ]
    },
    {
     "data": {
      "text/plain": [
       "True"
      ]
     },
     "execution_count": 28,
     "metadata": {},
     "output_type": "execute_result"
    }
   ],
   "source": [
    "simu1.run.phase()"
   ]
  },
  {
   "cell_type": "code",
   "execution_count": 29,
   "metadata": {},
   "outputs": [
    {
     "name": "stdout",
     "output_type": "stream",
     "text": [
      "    No DEM creation require in this simulation.\n",
      " **************************************************\n",
      "'DartMNT' finished\n",
      "\n",
      " *********** TriangleFileProcessor ***************\n",
      "                       Version 5.10.10                         \n",
      "   Program launched on Mon Mar 17 11:31:16 CET 2025\n",
      "\n",
      " - Generation of the colors palets.\n",
      " - Objects 3D pre-processing.\n",
      " - Triangle files generation.\n",
      "   -> 0 3D objects have been generated.\n",
      "\n",
      " - Processing Time : 0 hours 0 minutes 1  seconds\n",
      " ***************************************************\n",
      "'Dart3DObjectFileProcessor' finished\n",
      " **************************************************\n",
      "         Maket Module 5.10.10 (2025/02/26 v1420)\n",
      "\n",
      " - System memory (free/total) : 24.943GB / 31.228GB\n",
      "\n",
      " * Reading entry parameters:\n",
      "  -> The scene is in repetitive mode\n",
      " * Reading of entry parameters done.\n",
      "\n",
      " * Processing the data:\n",
      "  -> Estimated scene height: 100.000000000m\n",
      "  -> Processing ground\n",
      "  -> Processing 3D objects\n",
      "  -> Processing Plots\n",
      "    - No plots have been defined.\n",
      "  -> Processing buildings\n",
      "  -> Processing small walls\n",
      "  -> Processing trees\n",
      "    - No trees have been defined.\n",
      " - Writing LuxCoreRender PLY files\n",
      "  -> 2 surfaces created.\n",
      "  -> Final scene height: 0.000000000m\n",
      " * Data processing done.\n",
      "\n",
      "\n",
      " - Processing Time : 0 hours 0 minutes 0  seconds\n",
      " **************************************************\n",
      "'maket.exe' finished\n",
      " **************************************************\n",
      "         Atmosphere Creation Module 5.10.10 (2025/02/26 v1420)\n",
      "\n",
      " - System memory (free/total) : 24.943GB / 31.228GB\n",
      "\n",
      " - Loading XMLs\n",
      " - Loading properties file\n",
      " - Loading atmosphere file: /home/fayari/DART/user_data/simulations/RTM_reference/output/atmosphere.nc\n",
      " - Number of aerosol: 1\n",
      " - Number of points interpolated for normalization: 1001\n",
      "   -> Corrected sensor height : 2.953000000 km  (layer 3  in MA)\n",
      "   -> Atmosphere dimensions : \n",
      "     -> Altitude of the fictive layers \t: BA: 0.100000000   \tMA: 6.757000000   \tHA: 99.897000000\t [km]\n",
      "     -> Number of layers \t\t: BA: 0   \tMA: 7   \tHA: 8\n",
      "     -> Number of MA horizontal cells \t:  X: 1   \tY: 1\n",
      "   -> Writing netcdf file: /home/fayari/DART/user_data/simulations/RTM_reference/output/atmosphereMaket.nc\n",
      " - Processing Time : 0 hours 0 minutes 0  seconds\n",
      " **************************************************\n",
      "'atmosphereMaket.exe' finished\n"
     ]
    },
    {
     "data": {
      "text/plain": [
       "True"
      ]
     },
     "execution_count": 29,
     "metadata": {},
     "output_type": "execute_result"
    }
   ],
   "source": [
    "simu1.run.maket()"
   ]
  },
  {
   "cell_type": "code",
   "execution_count": 1,
   "metadata": {},
   "outputs": [],
   "source": [
    "import pytools4dart as ptd"
   ]
  },
  {
   "cell_type": "code",
   "execution_count": 13,
   "metadata": {},
   "outputs": [],
   "source": [
    "simu=ptd.simulation('RTM_reference')"
   ]
  },
  {
   "cell_type": "code",
   "execution_count": 14,
   "metadata": {},
   "outputs": [],
   "source": [
    "simu.core.coeff_diff.set_nodes(reflectanceFactor=0.03)\n",
    "simu.core.directions.set_nodes(sunViewingZenithAngle=12)"
   ]
  },
  {
   "cell_type": "code",
   "execution_count": 15,
   "metadata": {},
   "outputs": [
    {
     "name": "stdout",
     "output_type": "stream",
     "text": [
      "Updating optical properties indexes...\n",
      "Updating thermal properties indexes...\n",
      "Updating spectral multiplicative factors...\n",
      "Updating band numbers...\n"
     ]
    }
   ],
   "source": [
    "simu.write(overwrite=True)"
   ]
  },
  {
   "cell_type": "code",
   "execution_count": 16,
   "metadata": {},
   "outputs": [
    {
     "name": "stdout",
     "output_type": "stream",
     "text": [
      "******************************************************************\n",
      "               Directions Module   5.10.10 (2025/02/26 v1420)\n",
      "\n",
      " - System memory (free/total) : 26.505GB / 31.228GB\n",
      "\n",
      " - Reading directions.xml............................\n",
      "   -> Reading SUN Direction.......\n",
      "   -> Reading additional spot 0.......\n",
      "   -> The defined number of directions (calibrated): 100\n",
      "   -> Upper sphere number Of directions : 50\n",
      "   -> Estimated number of layers : 5\n",
      "\n",
      " - Initializing the direction list............................\n",
      "   -> The calculation method is 0:\n",
      "       FLUX TRACKING method is used, and \"Virtual\" property is defined for additional spots.\n",
      "\n",
      " - Adding the other spots............................\n",
      "   -> Spot 0:       Centers (t/p): 0.000/0.000 (rad);          Omega: 0.001\n",
      "\n",
      " - Generating angular sectors............................\n",
      "   -> Defined number of angular sectors: 10\n",
      "   -> Number of refined angular sectors: 10\n",
      "\n",
      " - Information of output direction list............................ \n",
      "   -> The Number Of Total Directions : 101\n",
      "   -> The Total Omega (Upper Sphere) : 6.283\n",
      "   -> The Total Cosine Theta Times Delta Omega Of NON-Virtual Directions (Upper Sphere) : 3.142 \n",
      "\n",
      " - Writing to /home/fayari/DART/user_data/simulations/RTM_reference/output/directions.txt............................\n",
      " - Writing to /home/fayari/DART/user_data/simulations/RTM_reference/output/simulation.properties.txt............................\n",
      "******************************************************************\n",
      "'directions.exe' finished\n"
     ]
    },
    {
     "data": {
      "text/plain": [
       "True"
      ]
     },
     "execution_count": 16,
     "metadata": {},
     "output_type": "execute_result"
    }
   ],
   "source": [
    "simu.run.direction()"
   ]
  },
  {
   "cell_type": "code",
   "execution_count": 17,
   "metadata": {},
   "outputs": [
    {
     "name": "stdout",
     "output_type": "stream",
     "text": [
      "           DartHapke 1.0\n",
      " **************************************************\n",
      "'DartHapke' finished\n",
      "\n",
      "              Cover Map Module     5.10.10\n",
      "\n",
      "  - Collecting the information.\n",
      "******************** NO WORKING DATA FOUND *********************\n",
      "\n",
      "**************** EXECUTION COMPLETED SUCCESSFULLY ****************\n",
      "\n",
      "'DartVegetation' finished\n",
      "'troisdversturbide.main.Generation' finished\n",
      "\n",
      "               PHASE Module   5.10.10 (2025/02/26 v1420)\n",
      "\n",
      " - System memory (free/total) : 26.453GB / 31.228GB\n",
      "\n",
      " - Atmosphere processing :\n",
      "   -> Reading atmosphere.xml\n",
      "\t- Spectral irradiance (database) - TOA or BOA (+ SKYL)\n",
      "   -> Loading atmosphere parameters..\n",
      "   -> with database\n",
      "   -> number of aerosol  1\n",
      "   -> Writing netcdf file: /home/fayari/DART/user_data/simulations/RTM_reference/output/atmosphere.nc\n",
      "    Number of divisions for aerosol phase function for each incident and outgoing directions: 6.\n",
      "    Discrete direction index assigned for solar aerosol forward scattering: 94\n",
      "      Virtual direction indices and their corresponding incident and outgoing discrete direction indices \n",
      "    for forward-scattering aerosol phase function interpolation: \n",
      "      1    0    0\n",
      "  -> Atmosphere Processing Time : 0 hours 0 minutes 2  seconds\n",
      " - End of Atmosphere processing\n",
      "    -> 0 vegetation phase function.\n",
      "\t40.000 %   -> Processing Time : 2  seconds\n",
      " -> Writing LuxCoreRender configuration files\n",
      " - End of phase function generation.\n",
      "  -> Processing Time : 0 hours 0 minutes 2  seconds\n",
      "\n",
      " **************************************************\n",
      "\n",
      "'phase.exe' finished\n",
      "'troisdversturbide.main.Suppression' finished\n"
     ]
    },
    {
     "data": {
      "text/plain": [
       "True"
      ]
     },
     "execution_count": 17,
     "metadata": {},
     "output_type": "execute_result"
    }
   ],
   "source": [
    "simu.run.phase()"
   ]
  },
  {
   "cell_type": "code",
   "execution_count": 1,
   "metadata": {},
   "outputs": [],
   "source": [
    "import pytools4dart as ptd\n",
    "simu = ptd.simulation('RTM_reference0')"
   ]
  },
  {
   "cell_type": "code",
   "execution_count": 3,
   "metadata": {},
   "outputs": [
    {
     "name": "stdout",
     "output_type": "stream",
     "text": [
      "Updating optical properties indexes...\n",
      "Updating thermal properties indexes...\n",
      "Updating spectral multiplicative factors...\n",
      "Updating band numbers...\n"
     ]
    }
   ],
   "source": [
    "simu.core.atmosphere.set_nodes(transmittanceOfGases=0.66)\n",
    "simu.write(overwrite=True)"
   ]
  },
  {
   "cell_type": "code",
   "execution_count": null,
   "metadata": {},
   "outputs": [],
   "source": []
  }
 ],
 "metadata": {
  "kernelspec": {
   "display_name": "myptd",
   "language": "python",
   "name": "python3"
  },
  "language_info": {
   "codemirror_mode": {
    "name": "ipython",
    "version": 3
   },
   "file_extension": ".py",
   "mimetype": "text/x-python",
   "name": "python",
   "nbconvert_exporter": "python",
   "pygments_lexer": "ipython3",
   "version": "3.11.11"
  }
 },
 "nbformat": 4,
 "nbformat_minor": 2
}
